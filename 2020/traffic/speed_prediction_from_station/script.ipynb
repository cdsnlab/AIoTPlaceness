{
 "cells": [
  {
   "cell_type": "code",
   "execution_count": 1,
   "metadata": {},
   "outputs": [],
   "source": [
    "%load_ext autoreload\n",
    "%autoreload 2"
   ]
  },
  {
   "cell_type": "code",
   "execution_count": 2,
   "metadata": {},
   "outputs": [],
   "source": [
    "import requests, json\n",
    "import pandas as pd\n",
    "import geopandas as gpd\n",
    "from shapely.geometry import Point, Polygon\n",
    "import numpy as np\n",
    "import tqdm as tqdm\n",
    "import matplotlib.pyplot as plt\n",
    "\n",
    "import torch\n",
    "import torch.nn as nn\n",
    "import torch.nn.functional as F\n",
    "import torch.optim as optim\n",
    "import torch.utils.data as data_utils \n",
    "\n",
    "\n",
    "from torchvision import transforms\n",
    "\n",
    "import numpy as np\n",
    "import pandas as pd\n",
    "from matplotlib import pyplot as plt\n",
    "%matplotlib inline\n",
    "\n",
    "import torch.utils.data as Data\n",
    "import numpy as np\n",
    "import os\n",
    "os.environ[\"CUDA_DEVICE_ORDER\"] = \"PCI_BUS_ID\"\n",
    "os.environ[\"CUDA_VISIBLE_DEVICES\"] = \"7\""
   ]
  },
  {
   "cell_type": "code",
   "execution_count": 41,
   "metadata": {},
   "outputs": [
    {
     "name": "stdout",
     "output_type": "stream",
     "text": [
      "gangnam_dataset_loaded\n",
      "15 212 16\n"
     ]
    }
   ],
   "source": [
    "from MyDataLoader import MyDataLoader\n",
    "mdl = MyDataLoader('G')\n",
    "train_loader, val_loader, test_loader = mdl.get_dataloaders()\n",
    "Nc, Ns, Nt = mdl.Nc, mdl.Ns, mdl.Nt\n",
    "nM = mdl.nM\n",
    "N2V = mdl.N2V\n",
    "print(Nc, Ns, Nt)"
   ]
  },
  {
   "cell_type": "code",
   "execution_count": 49,
   "metadata": {},
   "outputs": [],
   "source": [
    "subcat = '''통신판매업\t0\tShop&Service\n",
    "일반음식점\t1\tFood\n",
    "즉석판매제조가공업\t2\tFood\n",
    "휴게음식점\t3\tFood\n",
    "건강기능식품일반판매업\t4\tShop&Service\n",
    "미용업\t5\tShop&Service\n",
    "출판사\t6\tProfessional & Other Places\n",
    "담배소매업\t7\tShop&Service\n",
    "의료기기판매(임대)업\t8\tShop&Service\n",
    "의원\t9\tProfessional & Other Places\n",
    "축산판매업\t10\tShop&Service\n",
    "안전상비의약품 판매업소\t11\tShop&Service\n",
    "방문판매업\t12\tShop&Service\n",
    "식품자동판매기업\t13\tShop&Service\n",
    "인터넷컴퓨터게임시설제공업\t14\tShop&Service\n",
    "약국\t15\tShop&Service\n",
    "집단급식소\t16\tCollege&University\n",
    "노래연습장업\t17\tShop&Service\n",
    "유통전문판매업\t18\tShop&Service\n",
    "제과점영업\t19\tShop&Service\n",
    "세탁업\t20\tShop&Service\n",
    "유료직업소개소\t21\tProfessional & Other Places\n",
    "국외여행업\t22\tTravel&Transport\n",
    "건물위생관리업\t23\tShop&Service\n",
    "비디오물제작업\t24\tShop&Service\n",
    "당구장업\t25\tShop&Service\n",
    "옥외광고업\t26\tProfessional & Other Places\n",
    "게임물제작업\t27\tProfessional & Other Places\n",
    "일반여행업\t28\tTravel&Transport\n",
    "영화제작업\t29\tProfessional & Other Places\n",
    "식품제조가공업\t30\tShop&Service\n",
    "이용업\t31\tShop&Service\n",
    "전화권유판매업\t32\tShop&Service\n",
    "식품소분업\t33\tShop&Service\n",
    "숙박업\t34\tTravel&Transport\n",
    "인쇄사\t35\tShop&Service\n",
    "행정사업\t36\tProfessional & Other Places\n",
    "동물판매업\t37\tShop&Service\n",
    "체력단련장업\t38\tOutdoors & Recreation\n",
    "대중문화예술기획업\t39\tProfessional & Other Places\n",
    "건강기능식품유통전문판매업\t40\tShop&Service\n",
    "민방위대피시설\t41\tProfessional & Other Places\n",
    "체육도장업\t42\tOutdoors & Recreation\n",
    "대기오염물질배출시설설치사업장\t43\tProfessional & Other Places\n",
    "단란주점영업\t44\tNightlife Spot\n",
    "안경업\t45\tShop&Service\n",
    "유흥주점영업\t46\tNightlife Spot\n",
    "국내여행업\t47\tTravel&Transport\n",
    "게임물배급업\t48\tProfessional & Other Places\n",
    "쓰레기종량제봉투판매업\t49\tProfessional & Other Places\n",
    "골프연습장업\t50\tOutdoors & Recreation\n",
    "위탁급식영업\t51\tCollege&University\n",
    "청소년게임제공업\t52\tShop&Service\n",
    "외국인관광도시민박업\t53\tTravel&Transport\n",
    "동물약국\t54\tShop&Service\n",
    "소독업\t55\tProfessional & Other Places\n",
    "고압가스업\t56\tProfessional & Other Places\n",
    "복합유통게임제공업\t57\tProfessional & Other Places\n",
    "음반.음악영상물제작업\t58\tProfessional & Other Places\n",
    "일반게임제공업\t59\tShop&Service\n",
    "사료제조업\t60\tProfessional & Other Places\n",
    "집단급식소식품판매업\t61\tProfessional & Other Places\n",
    "치과기공소\t62\tProfessional & Other Places\n",
    "석유판매업\t63\tProfessional & Other Places\n",
    "영화배급업\t64\tProfessional & Other Places\n",
    "목욕장업\t65\tShop&Service\n",
    "동물병원\t66\tShop&Service\n",
    "민방위급수시설\t67\tProfessional & Other Places\n",
    "식육포장처리업\t68\tProfessional & Other Places\n",
    "영화수입업\t69\tProfessional & Other Places\n",
    "저수조청소업\t70\tProfessional & Other Places\n",
    "식품판매업(기타)\t71\tProfessional & Other Places\n",
    "공연장\t72\tOutdoors & Recreation\n",
    "비디오물배급업\t73\tProfessional & Other Places\n",
    "의료기기수리업\t74\tProfessional & Other Places\n",
    "다단계판매업체\t75\tProfessional & Other Places\n",
    "대규모점포\t76\tProfessional & Other Places\n",
    "축산가공업\t77\tProfessional & Other Places\n",
    "국제회의기획업\t78\tProfessional & Other Places\n",
    "후원방문판매업체\t79\tProfessional & Other Places\n",
    "영화상영관\t80\tOutdoors & Recreation\n",
    "병원\t81\tShop&Service\n",
    "관광사업자\t82\tTravel&Transport\n",
    "관광숙박업\t83\tTravel&Transport\n",
    "특정고압가스업\t84\tProfessional & Other Places\n",
    "식품운반업\t85\tProfessional & Other Places\n",
    "무료직업소개소\t86\tProfessional & Other Places\n",
    "비디오물시청제공업\t87\tProfessional & Other Places\n",
    "유원시설업(기타)\t88\tOutdoors & Recreation\n",
    "음반.음악영상물배급업\t89\tProfessional & Other Places\n",
    "건설폐기물처리업\t90\tProfessional & Other Places\n",
    "환경전문공사업\t91\tProfessional & Other Places\n",
    "목재수입유통업\t92\tProfessional & Other Places\n",
    "담배도매업\t93\tProfessional & Other Places\n",
    "단독정화조/오수처리시설설계시공업\t94\tProfessional & Other Places\n",
    "의료유사업\t95\tProfessional & Other Places\n",
    "축산물운반업\t96\tProfessional & Other Places\n",
    "비디오물감상실업\t97\tShop&Service\n",
    "지하수시공업체\t98\tProfessional & Other Places\n",
    "영화상영업\t99\tShop&Service\n",
    "승강기유지관리업체\t100\tProfessional & Other Places\n",
    "동물용의료용구판매업\t101\tProfessional & Other Places\n",
    "담배수입판매업체\t102\tProfessional & Other Places\n",
    "석유및석유대체연료판매업체\t103\tProfessional & Other Places\n",
    "한옥체험업\t104\tTravel&Transport\n",
    "산후조리업\t105\tShop&Service\n",
    "수영장업\t106\tOutdoors & Recreation\n",
    "관광식당\t107\tTravel&Transport\n",
    "환경측정대행업\t108\tProfessional & Other Places\n",
    "요양보호사교육기관\t109\tShop&Service\n",
    "무도학원업\t110\tShop&Service\n",
    "종합체육시설업\t111\tOutdoors & Recreation\n",
    "용기·포장지제조업\t112\tProfessional & Other Places\n",
    "지하수영향조사기관\t113\tProfessional & Other Places\n",
    "지하수정화업체\t114\tProfessional & Other Places\n",
    "상조업\t115\tShop&Service\n",
    "분뇨수집운반업\t116\tProfessional & Other Places'''"
   ]
  },
  {
   "cell_type": "code",
   "execution_count": 65,
   "metadata": {},
   "outputs": [],
   "source": [
    "subdict = dict()\n",
    "agdict = dict()\n",
    "for sent in subcat.split('\\n'):\n",
    "    a, b, c = sent.split('\\t')\n",
    "    if c not in subdict:\n",
    "        subdict[c] = len(subdict)\n",
    "        \n",
    "    agdict.setdefault(subdict[c], [])\n",
    "    agdict[subdict[c]].append(int(b))"
   ]
  },
  {
   "cell_type": "code",
   "execution_count": 78,
   "metadata": {},
   "outputs": [],
   "source": [
    "import json\n",
    "\n",
    "with open('subdict.json', 'w') as fp:\n",
    "    json.dump(agdict, fp)"
   ]
  },
  {
   "cell_type": "code",
   "execution_count": 79,
   "metadata": {},
   "outputs": [],
   "source": [
    "\n",
    "with open('subdict.json') as fp:\n",
    "    sd = json.load(fp)"
   ]
  },
  {
   "cell_type": "code",
   "execution_count": 80,
   "metadata": {},
   "outputs": [
    {
     "data": {
      "text/plain": [
       "{'0': [0,\n",
       "  4,\n",
       "  5,\n",
       "  7,\n",
       "  8,\n",
       "  10,\n",
       "  11,\n",
       "  12,\n",
       "  13,\n",
       "  14,\n",
       "  15,\n",
       "  17,\n",
       "  18,\n",
       "  19,\n",
       "  20,\n",
       "  23,\n",
       "  24,\n",
       "  25,\n",
       "  30,\n",
       "  31,\n",
       "  32,\n",
       "  33,\n",
       "  35,\n",
       "  37,\n",
       "  40,\n",
       "  45,\n",
       "  52,\n",
       "  54,\n",
       "  59,\n",
       "  65,\n",
       "  66,\n",
       "  81,\n",
       "  97,\n",
       "  99,\n",
       "  105,\n",
       "  109,\n",
       "  110,\n",
       "  115],\n",
       " '1': [1, 2, 3],\n",
       " '2': [6,\n",
       "  9,\n",
       "  21,\n",
       "  26,\n",
       "  27,\n",
       "  29,\n",
       "  36,\n",
       "  39,\n",
       "  41,\n",
       "  43,\n",
       "  48,\n",
       "  49,\n",
       "  55,\n",
       "  56,\n",
       "  57,\n",
       "  58,\n",
       "  60,\n",
       "  61,\n",
       "  62,\n",
       "  63,\n",
       "  64,\n",
       "  67,\n",
       "  68,\n",
       "  69,\n",
       "  70,\n",
       "  71,\n",
       "  73,\n",
       "  74,\n",
       "  75,\n",
       "  76,\n",
       "  77,\n",
       "  78,\n",
       "  79,\n",
       "  84,\n",
       "  85,\n",
       "  86,\n",
       "  87,\n",
       "  89,\n",
       "  90,\n",
       "  91,\n",
       "  92,\n",
       "  93,\n",
       "  94,\n",
       "  95,\n",
       "  96,\n",
       "  98,\n",
       "  100,\n",
       "  101,\n",
       "  102,\n",
       "  103,\n",
       "  108,\n",
       "  112,\n",
       "  113,\n",
       "  114,\n",
       "  116],\n",
       " '3': [16, 51],\n",
       " '4': [22, 28, 34, 47, 53, 82, 83, 104, 107],\n",
       " '5': [38, 42, 50, 72, 80, 88, 106, 111],\n",
       " '6': [44, 46]}"
      ]
     },
     "execution_count": 80,
     "metadata": {},
     "output_type": "execute_result"
    }
   ],
   "source": [
    "sd"
   ]
  },
  {
   "cell_type": "code",
   "execution_count": 46,
   "metadata": {},
   "outputs": [
    {
     "data": {
      "text/plain": [
       "(1769, 212, 117)"
      ]
     },
     "execution_count": 46,
     "metadata": {},
     "output_type": "execute_result"
    }
   ],
   "source": [
    "mdl.nM.shape"
   ]
  },
  {
   "cell_type": "code",
   "execution_count": 182,
   "metadata": {},
   "outputs": [],
   "source": [
    "Ac = mdl.Ac\n",
    "As = mdl.As\n",
    "cmask = Ac #As@As@Ac + As@Ac + Ac\n",
    "cmask[cmask != 0] = 1\n",
    "smask = (mdl.DAs + mdl.DAs.T + np.eye(Ns))"
   ]
  },
  {
   "cell_type": "code",
   "execution_count": 77,
   "metadata": {},
   "outputs": [
    {
     "data": {
      "text/plain": [
       "array([[[1, 2, 3],\n",
       "        [4, 5, 6]],\n",
       "\n",
       "       [[1, 2, 3],\n",
       "        [4, 5, 6]]])"
      ]
     },
     "execution_count": 77,
     "metadata": {},
     "output_type": "execute_result"
    }
   ],
   "source": [
    "np.array([[1, 2, 3], [4, 5, 6]])[[[0, 1], [0, 1]], :]"
   ]
  },
  {
   "cell_type": "code",
   "execution_count": 197,
   "metadata": {},
   "outputs": [],
   "source": [
    "nAc = mdl.Ac / mdl.Ac.sum(axis=0)\n",
    "c2v = nAc.T @ mdl.N2V"
   ]
  },
  {
   "cell_type": "code",
   "execution_count": 201,
   "metadata": {},
   "outputs": [
    {
     "data": {
      "text/plain": [
       "array([1., 1., 1., 1., 1., 1., 1., 1., 1., 1., 1., 1., 1., 1., 1.])"
      ]
     },
     "execution_count": 201,
     "metadata": {},
     "output_type": "execute_result"
    }
   ],
   "source": [
    "nAc.sum(axis=0)"
   ]
  },
  {
   "cell_type": "code",
   "execution_count": 202,
   "metadata": {},
   "outputs": [
    {
     "data": {
      "text/plain": [
       "(15, 64)"
      ]
     },
     "execution_count": 202,
     "metadata": {},
     "output_type": "execute_result"
    }
   ],
   "source": [
    "c2v.shape"
   ]
  },
  {
   "cell_type": "code",
   "execution_count": 204,
   "metadata": {},
   "outputs": [],
   "source": [
    "t =torch.tensor([[1, 2], [3, 4]])"
   ]
  },
  {
   "cell_type": "code",
   "execution_count": 205,
   "metadata": {},
   "outputs": [
    {
     "data": {
      "text/plain": [
       "tensor([[1, 2],\n",
       "        [3, 4]])"
      ]
     },
     "execution_count": 205,
     "metadata": {},
     "output_type": "execute_result"
    }
   ],
   "source": [
    "t"
   ]
  },
  {
   "cell_type": "code",
   "execution_count": 211,
   "metadata": {},
   "outputs": [
    {
     "data": {
      "text/plain": [
       "tensor([[1, 2, 1, 2],\n",
       "        [3, 4, 3, 4],\n",
       "        [1, 2, 1, 2],\n",
       "        [3, 4, 3, 4]])"
      ]
     },
     "execution_count": 211,
     "metadata": {},
     "output_type": "execute_result"
    }
   ],
   "source": [
    "t.repeat(2, 2)"
   ]
  },
  {
   "cell_type": "code",
   "execution_count": 234,
   "metadata": {},
   "outputs": [
    {
     "data": {
      "text/plain": [
       "tensor([[1., 1., 0., 0.],\n",
       "        [1., 1., 0., 0.],\n",
       "        [0., 0., 1., 1.],\n",
       "        [0., 0., 1., 1.]])"
      ]
     },
     "execution_count": 234,
     "metadata": {},
     "output_type": "execute_result"
    }
   ],
   "source": [
    "torch.eye(2).repeat_interleave(2, dim=0).repeat_interleave(2, dim=1)"
   ]
  },
  {
   "cell_type": "code",
   "execution_count": 235,
   "metadata": {},
   "outputs": [
    {
     "data": {
      "text/plain": [
       "tensor([[1., 1., 0., 0., 0., 0.],\n",
       "        [1., 1., 0., 0., 0., 0.],\n",
       "        [1., 1., 0., 0., 0., 0.],\n",
       "        [1., 1., 0., 0., 0., 0.],\n",
       "        [0., 0., 1., 1., 0., 0.],\n",
       "        [0., 0., 1., 1., 0., 0.],\n",
       "        [0., 0., 1., 1., 0., 0.],\n",
       "        [0., 0., 1., 1., 0., 0.],\n",
       "        [0., 0., 0., 0., 1., 1.],\n",
       "        [0., 0., 0., 0., 1., 1.],\n",
       "        [0., 0., 0., 0., 1., 1.],\n",
       "        [0., 0., 0., 0., 1., 1.]])"
      ]
     },
     "execution_count": 235,
     "metadata": {},
     "output_type": "execute_result"
    }
   ],
   "source": [
    "torch.eye(3).repeat_interleave(4, dim=0).repeat_interleave(2, dim=1)"
   ]
  },
  {
   "cell_type": "code",
   "execution_count": 242,
   "metadata": {},
   "outputs": [
    {
     "data": {
      "text/plain": [
       "tensor([1, 3])"
      ]
     },
     "execution_count": 242,
     "metadata": {},
     "output_type": "execute_result"
    }
   ],
   "source": [
    "t[:, 0]"
   ]
  },
  {
   "cell_type": "code",
   "execution_count": 177,
   "metadata": {},
   "outputs": [
    {
     "data": {
      "text/plain": [
       "array([[0., 0., 0., ..., 0., 0., 0.],\n",
       "       [0., 0., 0., ..., 0., 0., 0.],\n",
       "       [0., 0., 0., ..., 0., 0., 0.],\n",
       "       ...,\n",
       "       [0., 0., 0., ..., 1., 0., 0.],\n",
       "       [0., 0., 0., ..., 0., 0., 0.],\n",
       "       [0., 0., 0., ..., 0., 0., 0.]])"
      ]
     },
     "execution_count": 177,
     "metadata": {},
     "output_type": "execute_result"
    }
   ],
   "source": [
    "cmask.T"
   ]
  },
  {
   "cell_type": "code",
   "execution_count": 175,
   "metadata": {},
   "outputs": [
    {
     "data": {
      "text/plain": [
       "(15, 64)"
      ]
     },
     "execution_count": 175,
     "metadata": {},
     "output_type": "execute_result"
    }
   ],
   "source": [
    "(cmask.T @ N2V)"
   ]
  },
  {
   "cell_type": "code",
   "execution_count": 172,
   "metadata": {},
   "outputs": [
    {
     "data": {
      "text/plain": [
       "(212, 64)"
      ]
     },
     "execution_count": 172,
     "metadata": {},
     "output_type": "execute_result"
    }
   ],
   "source": []
  },
  {
   "cell_type": "code",
   "execution_count": 167,
   "metadata": {},
   "outputs": [
    {
     "data": {
      "text/plain": [
       "array([[0., 0., 0., ..., 0., 0., 0.],\n",
       "       [0., 0., 0., ..., 0., 0., 0.],\n",
       "       [0., 0., 0., ..., 0., 0., 0.],\n",
       "       ...,\n",
       "       [0., 0., 0., ..., 1., 0., 0.],\n",
       "       [0., 0., 0., ..., 0., 0., 0.],\n",
       "       [0., 0., 0., ..., 0., 0., 0.]])"
      ]
     },
     "execution_count": 167,
     "metadata": {},
     "output_type": "execute_result"
    }
   ],
   "source": [
    "cmask"
   ]
  },
  {
   "cell_type": "code",
   "execution_count": 165,
   "metadata": {},
   "outputs": [
    {
     "data": {
      "text/plain": [
       "array([[0., 0., 0., ..., 0., 0., 0.],\n",
       "       [0., 0., 0., ..., 0., 0., 0.],\n",
       "       [0., 0., 0., ..., 0., 0., 0.],\n",
       "       ...,\n",
       "       [0., 0., 0., ..., 0., 0., 0.],\n",
       "       [0., 0., 0., ..., 0., 0., 0.],\n",
       "       [0., 0., 0., ..., 0., 0., 0.]])"
      ]
     },
     "execution_count": 165,
     "metadata": {},
     "output_type": "execute_result"
    }
   ],
   "source": [
    "mdl.Ac"
   ]
  },
  {
   "cell_type": "code",
   "execution_count": 164,
   "metadata": {},
   "outputs": [
    {
     "data": {
      "text/plain": [
       "array([[-0.20851435,  0.33834934,  0.3882506 , ..., -0.01472863,\n",
       "        -0.4250449 ,  0.34857735],\n",
       "       [-0.05378522,  0.46486378,  0.38714692, ...,  0.1443695 ,\n",
       "        -0.34835047,  0.40649125],\n",
       "       [-0.16263969,  0.34185192,  0.17111267, ..., -0.03173962,\n",
       "        -0.4231226 ,  0.36039332],\n",
       "       ...,\n",
       "       [-0.11960851,  0.23162398, -0.26321155, ..., -0.2122293 ,\n",
       "        -0.55343986, -0.3502737 ],\n",
       "       [-0.32946458, -0.06882444, -0.3833462 , ..., -0.28586787,\n",
       "        -0.3687419 , -0.6261262 ],\n",
       "       [-0.06848181,  0.05162987, -0.5669245 , ..., -0.02540488,\n",
       "        -0.27357998, -0.60659003]])"
      ]
     },
     "execution_count": 164,
     "metadata": {},
     "output_type": "execute_result"
    }
   ],
   "source": [
    "mdl.N2V"
   ]
  },
  {
   "cell_type": "code",
   "execution_count": 124,
   "metadata": {},
   "outputs": [],
   "source": [
    "import os\n",
    "perf_dict = dict()\n",
    "date_dict = dict()\n",
    "for fname in os.listdir('trainlog'):\n",
    "    if fname[-4:] == '.txt':\n",
    "        df = pd.read_csv('trainlog/'+fname, sep='\\t')\n",
    "        name, ymd, hms = fname.split('.')[0].split('_')\n",
    "        \n",
    "        if name not in perf_dict:\n",
    "            perf_dict[name] = [100, 100, 100, 100]\n",
    "        \n",
    "        if perf_dict[name][2] > df[df.columns[4]].min():\n",
    "            perf_dict[name] = [\n",
    "                df.iloc[df[df.columns[4]].argmin()][2],\n",
    "                df.iloc[df[df.columns[4]].argmin()][3],\n",
    "                df.iloc[df[df.columns[4]].argmin()][4],\n",
    "                df.iloc[df[df.columns[4]].argmin()][5]]\n",
    "            date_dict[name] = ymd+'_'+hms\n",
    "\n",
    "for fname in perf_dict:\n",
    "    print((fname+'____________')[:14], '\\t'.join([str(s) for s in perf_dict[fname]]))"
   ]
  },
  {
   "cell_type": "code",
   "execution_count": 120,
   "metadata": {
    "scrolled": true
   },
   "outputs": [
    {
     "data": {
      "text/plain": [
       "2.4985"
      ]
     },
     "execution_count": 120,
     "metadata": {},
     "output_type": "execute_result"
    }
   ],
   "source": [
    "df[df.columns[4]].min()"
   ]
  },
  {
   "cell_type": "code",
   "execution_count": 109,
   "metadata": {},
   "outputs": [
    {
     "data": {
      "text/plain": [
       "58"
      ]
     },
     "execution_count": 109,
     "metadata": {},
     "output_type": "execute_result"
    }
   ],
   "source": [
    "df[df.columns[4]].argmin()"
   ]
  },
  {
   "cell_type": "code",
   "execution_count": 118,
   "metadata": {},
   "outputs": [
    {
     "data": {
      "text/plain": [
       "11.2765"
      ]
     },
     "execution_count": 118,
     "metadata": {},
     "output_type": "execute_result"
    }
   ],
   "source": [
    "df.iloc[df[df.columns[4]].argmin()][2]"
   ]
  },
  {
   "cell_type": "code",
   "execution_count": 141,
   "metadata": {},
   "outputs": [
    {
     "name": "stdout",
     "output_type": "stream",
     "text": [
      "FNNshufC______ 8.8738\t2.9789\t2.0512\t10.865\n",
      "AttnSTshufC___ 8.6371\t2.9389\t2.0059\t10.6955\n",
      "FNNattnC______ 11.0971\t3.3312\t2.356\t12.5906\n",
      "FNN___________ 10.9935\t3.3156\t2.3756\t12.6655\n"
     ]
    }
   ],
   "source": [
    "for fname in perf_dict:\n",
    "    print((fname+'____________')[:14], '\\t'.join([str(s) for s in perf_dict[fname]]))"
   ]
  },
  {
   "cell_type": "code",
   "execution_count": 107,
   "metadata": {},
   "outputs": [
    {
     "data": {
      "text/plain": [
       "{'FNNshufC': 2.0512, 'AttnSTshufC': 2.0059, 'FNNattnC': 2.356, 'FNN': 2.3756}"
      ]
     },
     "execution_count": 107,
     "metadata": {},
     "output_type": "execute_result"
    }
   ],
   "source": [
    "perf_dict"
   ]
  },
  {
   "cell_type": "code",
   "execution_count": 94,
   "metadata": {},
   "outputs": [],
   "source": [
    "df = pd.read_csv('trainlog/'+fname, sep='\\t')"
   ]
  },
  {
   "cell_type": "code",
   "execution_count": 105,
   "metadata": {},
   "outputs": [
    {
     "data": {
      "text/plain": [
       "2.4655"
      ]
     },
     "execution_count": 105,
     "metadata": {},
     "output_type": "execute_result"
    }
   ],
   "source": []
  },
  {
   "cell_type": "code",
   "execution_count": 89,
   "metadata": {},
   "outputs": [
    {
     "data": {
      "text/plain": [
       "['FNNattnC', '20210326', '165650']"
      ]
     },
     "execution_count": 89,
     "metadata": {},
     "output_type": "execute_result"
    }
   ],
   "source": [
    "fname.split('.')[0].split('_')"
   ]
  },
  {
   "cell_type": "code",
   "execution_count": 76,
   "metadata": {},
   "outputs": [],
   "source": [
    "x = np.hstack((mdl.K, mdl.P[:, np.newaxis]))"
   ]
  },
  {
   "cell_type": "code",
   "execution_count": 77,
   "metadata": {},
   "outputs": [
    {
     "data": {
      "text/plain": [
       "(1769, 8)"
      ]
     },
     "execution_count": 77,
     "metadata": {},
     "output_type": "execute_result"
    }
   ],
   "source": [
    "x.shape"
   ]
  },
  {
   "cell_type": "code",
   "execution_count": 83,
   "metadata": {},
   "outputs": [],
   "source": [
    "for x, m, c, pk in train_loader:\n",
    "    break"
   ]
  },
  {
   "cell_type": "code",
   "execution_count": 64,
   "metadata": {},
   "outputs": [
    {
     "data": {
      "text/plain": [
       "array([1, 0, 0, ..., 0, 0, 0])"
      ]
     },
     "execution_count": 64,
     "metadata": {},
     "output_type": "execute_result"
    }
   ],
   "source": [
    "mdl.P"
   ]
  },
  {
   "cell_type": "code",
   "execution_count": null,
   "metadata": {},
   "outputs": [],
   "source": [
    "mdl."
   ]
  },
  {
   "cell_type": "code",
   "execution_count": 58,
   "metadata": {},
   "outputs": [
    {
     "data": {
      "text/plain": [
       "tensor([3, 4, 5,  ..., 5, 6, 0])"
      ]
     },
     "execution_count": 58,
     "metadata": {},
     "output_type": "execute_result"
    }
   ],
   "source": [
    "mdl.tr_K"
   ]
  },
  {
   "cell_type": "code",
   "execution_count": 63,
   "metadata": {},
   "outputs": [
    {
     "data": {
      "text/plain": [
       "tensor([[0., 0., 0.,  ..., 0., 0., 0.],\n",
       "        [0., 0., 0.,  ..., 1., 0., 0.],\n",
       "        [0., 0., 0.,  ..., 0., 1., 0.],\n",
       "        ...,\n",
       "        [0., 0., 0.,  ..., 0., 1., 0.],\n",
       "        [0., 0., 0.,  ..., 0., 0., 1.],\n",
       "        [1., 0., 0.,  ..., 0., 0., 0.]])"
      ]
     },
     "execution_count": 63,
     "metadata": {},
     "output_type": "execute_result"
    }
   ],
   "source": [
    "torch.eye(7)[mdl.tr_K]"
   ]
  },
  {
   "cell_type": "code",
   "execution_count": 59,
   "metadata": {},
   "outputs": [
    {
     "data": {
      "text/plain": [
       "tensor([1, 0, 0,  ..., 0, 0, 0])"
      ]
     },
     "execution_count": 59,
     "metadata": {},
     "output_type": "execute_result"
    }
   ],
   "source": [
    "mdl.tr_P"
   ]
  },
  {
   "cell_type": "code",
   "execution_count": 57,
   "metadata": {},
   "outputs": [
    {
     "data": {
      "text/plain": [
       "tensor([0, 0, 0, 0, 0, 0, 0, 0, 0, 0, 0, 0, 0, 0, 0, 0, 0, 0, 0, 0, 0, 0, 0, 0,\n",
       "        0, 0, 0, 0, 0, 0, 0, 0, 0, 0, 0, 1, 0, 0, 0, 0, 0, 0, 0, 0, 0, 0, 0, 0])"
      ]
     },
     "execution_count": 57,
     "metadata": {},
     "output_type": "execute_result"
    }
   ],
   "source": [
    "p"
   ]
  },
  {
   "cell_type": "code",
   "execution_count": 36,
   "metadata": {},
   "outputs": [
    {
     "data": {
      "text/plain": [
       "tensor([6, 1, 4, 5, 2, 0, 2, 2, 2, 2, 0, 2, 6, 4, 2, 6, 1, 6, 4, 1, 1, 6, 4, 4,\n",
       "        2, 1, 0, 0, 3, 1, 3, 6, 2, 0, 0, 3, 6, 0, 4, 1, 1, 1, 1, 3, 4, 1, 2, 4])"
      ]
     },
     "execution_count": 36,
     "metadata": {},
     "output_type": "execute_result"
    }
   ],
   "source": [
    "w"
   ]
  },
  {
   "cell_type": "code",
   "execution_count": 35,
   "metadata": {},
   "outputs": [
    {
     "data": {
      "text/plain": [
       "tensor([1, 0, 0, 1, 0, 0, 0, 0, 0, 0, 0, 0, 1, 0, 0, 1, 0, 1, 0, 0, 0, 1, 0, 0,\n",
       "        0, 0, 0, 0, 0, 0, 0, 1, 0, 0, 0, 0, 1, 0, 0, 0, 0, 0, 0, 0, 0, 0, 0, 0])"
      ]
     },
     "execution_count": 35,
     "metadata": {},
     "output_type": "execute_result"
    }
   ],
   "source": [
    "p"
   ]
  },
  {
   "cell_type": "code",
   "execution_count": 11,
   "metadata": {},
   "outputs": [],
   "source": [
    "import datetime"
   ]
  },
  {
   "cell_type": "code",
   "execution_count": 12,
   "metadata": {},
   "outputs": [
    {
     "data": {
      "text/plain": [
       "4"
      ]
     },
     "execution_count": 12,
     "metadata": {},
     "output_type": "execute_result"
    }
   ],
   "source": [
    "dt.astype(datetime.datetime).isoweekday()"
   ]
  },
  {
   "cell_type": "code",
   "execution_count": null,
   "metadata": {},
   "outputs": [],
   "source": []
  }
 ],
 "metadata": {
  "kernelspec": {
   "display_name": "GIS",
   "language": "python",
   "name": "gis"
  },
  "language_info": {
   "codemirror_mode": {
    "name": "ipython",
    "version": 3
   },
   "file_extension": ".py",
   "mimetype": "text/x-python",
   "name": "python",
   "nbconvert_exporter": "python",
   "pygments_lexer": "ipython3",
   "version": "3.7.6"
  }
 },
 "nbformat": 4,
 "nbformat_minor": 4
}
