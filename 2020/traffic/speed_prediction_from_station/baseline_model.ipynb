{
 "cells": [
  {
   "cell_type": "code",
   "execution_count": 1,
   "metadata": {},
   "outputs": [],
   "source": [
    "%load_ext autoreload\n",
    "%autoreload 2"
   ]
  },
  {
   "cell_type": "code",
   "execution_count": 2,
   "metadata": {},
   "outputs": [],
   "source": [
    "import numpy as np\n",
    "import numpy as np\n",
    "import os\n",
    "os.environ[\"CUDA_DEVICE_ORDER\"] = \"PCI_BUS_ID\"\n",
    "os.environ[\"CUDA_VISIBLE_DEVICES\"] = \"1\""
   ]
  },
  {
   "cell_type": "code",
   "execution_count": 3,
   "metadata": {},
   "outputs": [
    {
     "name": "stdout",
     "output_type": "stream",
     "text": [
      "15 212 16\n"
     ]
    }
   ],
   "source": [
    "from MyDataLoader import *\n",
    "mdl = MyDataLoader()\n",
    "train_loader, val_loader, test_loader = mdl.get_dataloaders()\n",
    "Nc, Ns, Nt = mdl.Nc, mdl.Ns, mdl.Nt\n",
    "M = mdl.M\n",
    "N2V = mdl.N2V\n",
    "print(Nc, Ns, Nt)"
   ]
  },
  {
   "cell_type": "markdown",
   "metadata": {},
   "source": [
    "# baseline mean model"
   ]
  },
  {
   "cell_type": "code",
   "execution_count": 4,
   "metadata": {},
   "outputs": [],
   "source": [
    "tr_x = mdl.tr_X.numpy()\n",
    "tr_c = mdl.tr_C.numpy()\n",
    "tr_p = mdl.tr_PK.numpy()\n",
    "\n",
    "te_x = mdl.te_X.numpy()\n",
    "te_c = mdl.te_C.numpy()\n",
    "te_p = mdl.te_PK.numpy()\n",
    "\n",
    "tr_p = tr_p[:, -3:].sum(axis=1)\n",
    "te_p = te_p[:, -3:].sum(axis=1)"
   ]
  },
  {
   "cell_type": "code",
   "execution_count": 5,
   "metadata": {},
   "outputs": [],
   "source": [
    "_y_true = te_x\n",
    "_y_pred = np.repeat(tr_x.mean(axis=0)[np.newaxis, :, :], te_x.shape[0], axis=0)"
   ]
  },
  {
   "cell_type": "code",
   "execution_count": 6,
   "metadata": {},
   "outputs": [],
   "source": [
    "y_true = _y_true.reshape(-1)\n",
    "y_pred = _y_pred.reshape(-1)"
   ]
  },
  {
   "cell_type": "code",
   "execution_count": 7,
   "metadata": {},
   "outputs": [
    {
     "name": "stdout",
     "output_type": "stream",
     "text": [
      "18.651743 4.3187666 3.228059 17.683635652065277\n"
     ]
    }
   ],
   "source": [
    "from sklearn.metrics import mean_squared_error, mean_absolute_error\n",
    "\n",
    "def MAPE(y_true, y_pred):\n",
    "    return np.mean(np.abs((y_true - y_pred) / y_true)) * 100 \n",
    "\n",
    "mse = mean_squared_error(y_true, y_pred, squared=True)\n",
    "rmse = mean_squared_error(y_true, y_pred, squared=False)\n",
    "mae = mean_absolute_error(y_true, y_pred)\n",
    "mape = MAPE(y_true, y_pred)\n",
    "\n",
    "print(mse, rmse, mae, mape)\n",
    "#16.380093 4.0472326 3.0643532 16.84139221906662"
   ]
  },
  {
   "cell_type": "markdown",
   "metadata": {},
   "source": [
    "# baseline p based mean"
   ]
  },
  {
   "cell_type": "code",
   "execution_count": 8,
   "metadata": {},
   "outputs": [],
   "source": [
    "_y_true = te_x\n",
    "_y_pred = np.zeros(te_x.shape)\n",
    "_y_pred[te_p == 0] = tr_x[tr_p == 0].mean(axis=0)\n",
    "_y_pred[te_p == 1] = tr_x[tr_p == 1].mean(axis=0)"
   ]
  },
  {
   "cell_type": "code",
   "execution_count": 9,
   "metadata": {},
   "outputs": [],
   "source": [
    "y_true = _y_true.reshape(-1)\n",
    "y_pred = _y_pred.reshape(-1)"
   ]
  },
  {
   "cell_type": "code",
   "execution_count": 10,
   "metadata": {},
   "outputs": [
    {
     "name": "stdout",
     "output_type": "stream",
     "text": [
      "19.71723197989034 4.440408987907571 2.921866338726902 15.323500614148458\n"
     ]
    }
   ],
   "source": [
    "from sklearn.metrics import mean_squared_error, mean_absolute_error\n",
    "\n",
    "def MAPE(y_true, y_pred):\n",
    "    return np.mean(np.abs((y_true - y_pred) / y_true)) * 100 \n",
    "\n",
    "mse = mean_squared_error(y_true, y_pred, squared=True)\n",
    "rmse = mean_squared_error(y_true, y_pred, squared=False)\n",
    "mae = mean_absolute_error(y_true, y_pred)\n",
    "mape = MAPE(y_true, y_pred)\n",
    "\n",
    "print(mse, rmse, mae, mape)\n",
    "#10.608762765719645 3.2571095722618306 2.4613136703392136 13.336050638582208"
   ]
  },
  {
   "cell_type": "markdown",
   "metadata": {},
   "source": [
    "# Import LR, SVR, RFR"
   ]
  },
  {
   "cell_type": "code",
   "execution_count": 11,
   "metadata": {},
   "outputs": [],
   "source": [
    "from sklearn.linear_model import LinearRegression\n",
    "from sklearn.svm import SVR\n",
    "from sklearn.ensemble import RandomForestRegressor"
   ]
  },
  {
   "cell_type": "markdown",
   "metadata": {},
   "source": [
    "# LR"
   ]
  },
  {
   "cell_type": "code",
   "execution_count": 12,
   "metadata": {},
   "outputs": [
    {
     "name": "stdout",
     "output_type": "stream",
     "text": [
      "11.916018908073342 3.451958706020879 2.508077413272736 13.397856834977127\n"
     ]
    }
   ],
   "source": [
    "model = LinearRegression()\n",
    "trXfeat = np.concatenate((tr_c.reshape(-1, Nc*Nt*2), tr_p.reshape(-1, 1)), axis=1)\n",
    "teXfeat = np.concatenate((te_c.reshape(-1, Nc*Nt*2), te_p.reshape(-1, 1)), axis=1)\n",
    "model.fit(trXfeat, tr_x.reshape(-1, Nt*Ns))\n",
    "y_true = te_x.reshape(-1)\n",
    "y_pred = model.predict(teXfeat).reshape(-1)\n",
    "\n",
    "from sklearn.metrics import mean_squared_error, mean_absolute_error\n",
    "\n",
    "def MAPE(y_true, y_pred):\n",
    "    return np.mean(np.abs((y_true - y_pred) / y_true)) * 100 \n",
    "\n",
    "mse = mean_squared_error(y_true, y_pred, squared=True)\n",
    "rmse = mean_squared_error(y_true, y_pred, squared=False)\n",
    "mae = mean_absolute_error(y_true, y_pred)\n",
    "mape = MAPE(y_true, y_pred)\n",
    "\n",
    "print(mse, rmse, mae, mape)\n",
    "#14.206448235066304 3.7691442311307624 2.8412641396162672 14.921364300336485"
   ]
  },
  {
   "cell_type": "markdown",
   "metadata": {},
   "source": [
    "# SVR"
   ]
  },
  {
   "cell_type": "code",
   "execution_count": 13,
   "metadata": {},
   "outputs": [],
   "source": [
    "from tqdm import notebook"
   ]
  },
  {
   "cell_type": "code",
   "execution_count": 14,
   "metadata": {},
   "outputs": [
    {
     "data": {
      "application/vnd.jupyter.widget-view+json": {
       "model_id": "1e5486e426a2440e8d2acdb1d14d40eb",
       "version_major": 2,
       "version_minor": 0
      },
      "text/plain": [
       "HBox(children=(FloatProgress(value=0.0, max=3392.0), HTML(value='')))"
      ]
     },
     "metadata": {},
     "output_type": "display_data"
    },
    {
     "name": "stdout",
     "output_type": "stream",
     "text": [
      "1.6439090464135548 1.2821501653135465 1.0109589833103114 3.590897283944641\n",
      "3.0383394997346604 1.743083331265221 1.3452262069673429 5.858040910830574\n",
      "3.752135745251723 1.937043041662142 1.4965243444521534 6.987884456908445\n",
      "3.9952560003318016 1.9988136482253172 1.5083750398066675 7.349272190266628\n",
      "3.8482842331630556 1.9617044204372522 1.4715351368289211 7.040827876657138\n",
      "6.8285306983692236 2.6131457476323865 1.8683807177571532 9.100281730378166\n",
      "7.2430292422690785 2.691287655058277 1.9628639003940742 10.079990255025052\n",
      "8.416283004384422 2.901083074367989 2.1348606871068294 10.939754520161353\n",
      "9.64536112739994 3.1056981706856095 2.2843574978557624 12.897230311296267\n",
      "9.068634899178218 3.0114174236027487 2.210083991285495 12.147405396494342\n",
      "8.603470663936895 2.933167343323066 2.154244023680115 12.175030575235223\n",
      "8.782212462776764 2.9634797895003038 2.2062101983311475 12.089811907649784\n",
      "8.558973509825433 2.9255723388467825 2.1831356743646095 11.94676596965155\n",
      "8.849080305623751 2.9747403761712974 2.2041439868377783 11.85916714475375\n",
      "8.552845120729277 2.924524768356267 2.1674034963957225 12.19079252288929\n"
     ]
    },
    {
     "name": "stderr",
     "output_type": "stream",
     "text": [
      "ERROR:root:Internal Python error in the inspect module.\n",
      "Below is the traceback from this internal error.\n",
      "\n"
     ]
    },
    {
     "name": "stdout",
     "output_type": "stream",
     "text": [
      "Traceback (most recent call last):\n",
      "  File \"/newmnt/miniconda3/envs/GIS/lib/python3.7/site-packages/IPython/core/interactiveshell.py\", line 3331, in run_code\n",
      "    exec(code_obj, self.user_global_ns, self.user_ns)\n",
      "  File \"<ipython-input-14-d340b337d619>\", line 9, in <module>\n",
      "    y_pred = model.predict(teXfeat).reshape(-1)\n",
      "  File \"/newmnt/miniconda3/envs/GIS/lib/python3.7/site-packages/sklearn/svm/_base.py\", line 317, in predict\n",
      "    return predict(X)\n",
      "  File \"/newmnt/miniconda3/envs/GIS/lib/python3.7/site-packages/sklearn/svm/_base.py\", line 339, in _dense_predict\n",
      "    cache_size=self.cache_size)\n",
      "KeyboardInterrupt\n",
      "\n",
      "During handling of the above exception, another exception occurred:\n",
      "\n",
      "Traceback (most recent call last):\n",
      "  File \"/newmnt/miniconda3/envs/GIS/lib/python3.7/site-packages/IPython/core/interactiveshell.py\", line 2044, in showtraceback\n",
      "    stb = value._render_traceback_()\n",
      "AttributeError: 'KeyboardInterrupt' object has no attribute '_render_traceback_'\n",
      "\n",
      "During handling of the above exception, another exception occurred:\n",
      "\n",
      "Traceback (most recent call last):\n",
      "  File \"/newmnt/miniconda3/envs/GIS/lib/python3.7/site-packages/IPython/core/ultratb.py\", line 1148, in get_records\n",
      "    return _fixed_getinnerframes(etb, number_of_lines_of_context, tb_offset)\n",
      "  File \"/newmnt/miniconda3/envs/GIS/lib/python3.7/site-packages/IPython/core/ultratb.py\", line 316, in wrapped\n",
      "    return f(*args, **kwargs)\n",
      "  File \"/newmnt/miniconda3/envs/GIS/lib/python3.7/site-packages/IPython/core/ultratb.py\", line 350, in _fixed_getinnerframes\n",
      "    records = fix_frame_records_filenames(inspect.getinnerframes(etb, context))\n",
      "  File \"/newmnt/miniconda3/envs/GIS/lib/python3.7/inspect.py\", line 1502, in getinnerframes\n",
      "    frameinfo = (tb.tb_frame,) + getframeinfo(tb, context)\n",
      "  File \"/newmnt/miniconda3/envs/GIS/lib/python3.7/inspect.py\", line 1460, in getframeinfo\n",
      "    filename = getsourcefile(frame) or getfile(frame)\n",
      "  File \"/newmnt/miniconda3/envs/GIS/lib/python3.7/inspect.py\", line 696, in getsourcefile\n",
      "    if getattr(getmodule(object, filename), '__loader__', None) is not None:\n",
      "  File \"/newmnt/miniconda3/envs/GIS/lib/python3.7/inspect.py\", line 742, in getmodule\n",
      "    os.path.realpath(f)] = module.__name__\n",
      "  File \"/newmnt/miniconda3/envs/GIS/lib/python3.7/posixpath.py\", line 395, in realpath\n",
      "    path, ok = _joinrealpath(filename[:0], filename, {})\n",
      "  File \"/newmnt/miniconda3/envs/GIS/lib/python3.7/posixpath.py\", line 429, in _joinrealpath\n",
      "    if not islink(newpath):\n",
      "  File \"/newmnt/miniconda3/envs/GIS/lib/python3.7/posixpath.py\", line 171, in islink\n",
      "    st = os.lstat(path)\n",
      "KeyboardInterrupt\n"
     ]
    },
    {
     "ename": "KeyboardInterrupt",
     "evalue": "",
     "output_type": "error",
     "traceback": [
      "\u001b[0;31m---------------------------------------------------------------------------\u001b[0m"
     ]
    }
   ],
   "source": [
    "y_trues = []\n",
    "y_preds = []\n",
    "for i in notebook.tqdm(range(Nt*Ns)):\n",
    "    model = SVR()\n",
    "    trXfeat = np.concatenate((tr_c.reshape(-1, Nc*Nt*2), tr_p.reshape(-1, 1)), axis=1)\n",
    "    teXfeat = np.concatenate((te_c.reshape(-1, Nc*Nt*2), te_p.reshape(-1, 1)), axis=1)\n",
    "    model.fit(trXfeat, tr_x.reshape(-1, Nt*Ns)[:, i])\n",
    "    y_true = te_x.reshape(-1, Nt*Ns)[:, i].reshape(-1)\n",
    "    y_pred = model.predict(teXfeat).reshape(-1)\n",
    "    \n",
    "    y_trues.append(y_true)\n",
    "    y_preds.append(y_pred)\n",
    "    \n",
    "    if i%Nt != 0:\n",
    "        continue\n",
    "    y_true = np.array(y_trues).reshape(-1)\n",
    "    y_pred = np.array(y_preds).reshape(-1)\n",
    "\n",
    "    from sklearn.metrics import mean_squared_error, mean_absolute_error\n",
    "\n",
    "    def MAPE(y_true, y_pred):\n",
    "        return np.mean(np.abs((y_true - y_pred) / y_true)) * 100 \n",
    "\n",
    "    mse = mean_squared_error(y_true, y_pred, squared=True)\n",
    "    rmse = mean_squared_error(y_true, y_pred, squared=False)\n",
    "    mae = mean_absolute_error(y_true, y_pred)\n",
    "    mape = MAPE(y_true, y_pred)\n",
    "\n",
    "    print(mse, rmse, mae, mape)\n",
    "    #14.206448235066304 3.7691442311307624 2.8412641396162672 14.921364300336485"
   ]
  },
  {
   "cell_type": "code",
   "execution_count": null,
   "metadata": {},
   "outputs": [],
   "source": []
  },
  {
   "cell_type": "markdown",
   "metadata": {},
   "source": [
    "# RFR"
   ]
  },
  {
   "cell_type": "code",
   "execution_count": 15,
   "metadata": {},
   "outputs": [],
   "source": [
    "model = RandomForestRegressor()\n",
    "trXfeat = np.concatenate((tr_c.reshape(-1, Nc*Nt*2), tr_p.reshape(-1, 1)), axis=1)\n",
    "teXfeat = np.concatenate((te_c.reshape(-1, Nc*Nt*2), te_p.reshape(-1, 1)), axis=1)\n",
    "model.fit(trXfeat, tr_x.reshape(-1, Nt*Ns))\n",
    "y_true = te_x.reshape(-1)\n",
    "y_pred = model.predict(teXfeat).reshape(-1)"
   ]
  },
  {
   "cell_type": "code",
   "execution_count": 16,
   "metadata": {},
   "outputs": [
    {
     "name": "stdout",
     "output_type": "stream",
     "text": [
      "8.907374198352839 2.9845224405845636 2.0665147119237 11.100122827833939\n"
     ]
    }
   ],
   "source": [
    "from sklearn.metrics import mean_squared_error, mean_absolute_error\n",
    "\n",
    "def MAPE(y_true, y_pred):\n",
    "    return np.mean(np.abs((y_true - y_pred) / y_true)) * 100 \n",
    "\n",
    "mse = mean_squared_error(y_true, y_pred, squared=True)\n",
    "rmse = mean_squared_error(y_true, y_pred, squared=False)\n",
    "mae = mean_absolute_error(y_true, y_pred)\n",
    "mape = MAPE(y_true, y_pred)\n",
    "\n",
    "print(mse, rmse, mae, mape)\n",
    "#6.70\t2.59\t1.88\t10.28"
   ]
  },
  {
   "cell_type": "code",
   "execution_count": null,
   "metadata": {},
   "outputs": [],
   "source": []
  },
  {
   "cell_type": "code",
   "execution_count": null,
   "metadata": {},
   "outputs": [],
   "source": []
  },
  {
   "cell_type": "code",
   "execution_count": null,
   "metadata": {},
   "outputs": [],
   "source": []
  },
  {
   "cell_type": "code",
   "execution_count": null,
   "metadata": {},
   "outputs": [],
   "source": []
  },
  {
   "cell_type": "code",
   "execution_count": null,
   "metadata": {},
   "outputs": [],
   "source": []
  },
  {
   "cell_type": "code",
   "execution_count": null,
   "metadata": {},
   "outputs": [],
   "source": []
  }
 ],
 "metadata": {
  "kernelspec": {
   "display_name": "GIS",
   "language": "python",
   "name": "gis"
  },
  "language_info": {
   "codemirror_mode": {
    "name": "ipython",
    "version": 3
   },
   "file_extension": ".py",
   "mimetype": "text/x-python",
   "name": "python",
   "nbconvert_exporter": "python",
   "pygments_lexer": "ipython3",
   "version": "3.7.6"
  }
 },
 "nbformat": 4,
 "nbformat_minor": 4
}
