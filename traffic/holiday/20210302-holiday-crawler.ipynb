{
 "cells": [
  {
   "cell_type": "code",
   "execution_count": 65,
   "metadata": {},
   "outputs": [],
   "source": [
    "import time\n",
    "import pandas as pd"
   ]
  },
  {
   "cell_type": "code",
   "execution_count": 76,
   "metadata": {},
   "outputs": [],
   "source": [
    "from tqdm import notebook\n",
    "import json\n",
    "import xmltodict"
   ]
  },
  {
   "cell_type": "code",
   "execution_count": 129,
   "metadata": {
    "scrolled": true
   },
   "outputs": [
    {
     "data": {
      "application/vnd.jupyter.widget-view+json": {
       "model_id": "4652fbb63c4649409fa962d78a76c311",
       "version_major": 2,
       "version_minor": 0
      },
      "text/plain": [
       "HBox(children=(FloatProgress(value=0.0, max=12.0), HTML(value='')))"
      ]
     },
     "metadata": {},
     "output_type": "display_data"
    },
    {
     "name": "stdout",
     "output_type": "stream",
     "text": [
      "2015 1 ------------------------------\n",
      "[OrderedDict([('dateKind', '01'), ('dateName', '신정'), ('isHoliday', 'Y'), ('locdate', '20150101'), ('seq', '1')])]\n",
      "2015 2 ------------------------------\n",
      "[OrderedDict([('dateKind', '01'), ('dateName', '설날'), ('isHoliday', 'Y'), ('locdate', '20150218'), ('seq', '1')]), OrderedDict([('dateKind', '01'), ('dateName', '설날'), ('isHoliday', 'Y'), ('locdate', '20150219'), ('seq', '1')]), OrderedDict([('dateKind', '01'), ('dateName', '설날'), ('isHoliday', 'Y'), ('locdate', '20150220'), ('seq', '1')])]\n",
      "2015 3 ------------------------------\n",
      "[OrderedDict([('dateKind', '01'), ('dateName', '삼일절'), ('isHoliday', 'Y'), ('locdate', '20150301'), ('seq', '1')])]\n",
      "2015 4 ------------------------------\n",
      "2015 5 ------------------------------\n",
      "[OrderedDict([('dateKind', '01'), ('dateName', '어린이날'), ('isHoliday', 'Y'), ('locdate', '20150505'), ('seq', '1')]), OrderedDict([('dateKind', '01'), ('dateName', '석가탄신일'), ('isHoliday', 'Y'), ('locdate', '20150525'), ('seq', '1')])]\n",
      "2015 6 ------------------------------\n",
      "[OrderedDict([('dateKind', '01'), ('dateName', '현충일'), ('isHoliday', 'Y'), ('locdate', '20150606'), ('seq', '1')])]\n",
      "2015 7 ------------------------------\n",
      "2015 8 ------------------------------\n",
      "[OrderedDict([('dateKind', '01'), ('dateName', '광복절'), ('isHoliday', 'Y'), ('locdate', '20150815'), ('seq', '1')])]\n",
      "2015 9 ------------------------------\n",
      "[OrderedDict([('dateKind', '01'), ('dateName', '추석'), ('isHoliday', 'Y'), ('locdate', '20150926'), ('seq', '1')]), OrderedDict([('dateKind', '01'), ('dateName', '추석'), ('isHoliday', 'Y'), ('locdate', '20150927'), ('seq', '1')]), OrderedDict([('dateKind', '01'), ('dateName', '추석'), ('isHoliday', 'Y'), ('locdate', '20150928'), ('seq', '1')]), OrderedDict([('dateKind', '01'), ('dateName', '대체공휴일'), ('isHoliday', 'Y'), ('locdate', '20150929'), ('seq', '1')])]\n",
      "2015 10 ------------------------------\n",
      "[OrderedDict([('dateKind', '01'), ('dateName', '개천절'), ('isHoliday', 'Y'), ('locdate', '20151003'), ('seq', '1')]), OrderedDict([('dateKind', '01'), ('dateName', '한글날'), ('isHoliday', 'Y'), ('locdate', '20151009'), ('seq', '1')])]\n",
      "2015 11 ------------------------------\n",
      "2015 12 ------------------------------\n",
      "[OrderedDict([('dateKind', '01'), ('dateName', '기독탄신일'), ('isHoliday', 'Y'), ('locdate', '20151225'), ('seq', '1')])]\n",
      "\n"
     ]
    },
    {
     "data": {
      "application/vnd.jupyter.widget-view+json": {
       "model_id": "6c0fd94e2fff4762aaa514a4c299dc11",
       "version_major": 2,
       "version_minor": 0
      },
      "text/plain": [
       "HBox(children=(FloatProgress(value=0.0, max=12.0), HTML(value='')))"
      ]
     },
     "metadata": {},
     "output_type": "display_data"
    },
    {
     "name": "stdout",
     "output_type": "stream",
     "text": [
      "2016 1 ------------------------------\n",
      "[OrderedDict([('dateKind', '01'), ('dateName', '신정'), ('isHoliday', 'Y'), ('locdate', '20160101'), ('seq', '1')])]\n",
      "2016 2 ------------------------------\n",
      "[OrderedDict([('dateKind', '01'), ('dateName', '설날'), ('isHoliday', 'Y'), ('locdate', '20160207'), ('seq', '1')]), OrderedDict([('dateKind', '01'), ('dateName', '설날'), ('isHoliday', 'Y'), ('locdate', '20160208'), ('seq', '1')]), OrderedDict([('dateKind', '01'), ('dateName', '설날'), ('isHoliday', 'Y'), ('locdate', '20160209'), ('seq', '1')]), OrderedDict([('dateKind', '01'), ('dateName', '대체공휴일'), ('isHoliday', 'Y'), ('locdate', '20160210'), ('seq', '1')])]\n",
      "2016 3 ------------------------------\n",
      "[OrderedDict([('dateKind', '01'), ('dateName', '삼일절'), ('isHoliday', 'Y'), ('locdate', '20160301'), ('seq', '1')])]\n",
      "2016 4 ------------------------------\n",
      "[OrderedDict([('dateKind', '01'), ('dateName', '국회의원선거일'), ('isHoliday', 'Y'), ('locdate', '20160413'), ('seq', '1')])]\n",
      "2016 5 ------------------------------\n",
      "[OrderedDict([('dateKind', '01'), ('dateName', '어린이날'), ('isHoliday', 'Y'), ('locdate', '20160505'), ('seq', '1')]), OrderedDict([('dateKind', '01'), ('dateName', '석가탄신일'), ('isHoliday', 'Y'), ('locdate', '20160514'), ('seq', '1')])]\n",
      "2016 6 ------------------------------\n",
      "[OrderedDict([('dateKind', '01'), ('dateName', '현충일'), ('isHoliday', 'Y'), ('locdate', '20160606'), ('seq', '1')])]\n",
      "2016 7 ------------------------------\n",
      "2016 8 ------------------------------\n",
      "[OrderedDict([('dateKind', '01'), ('dateName', '광복절'), ('isHoliday', 'Y'), ('locdate', '20160815'), ('seq', '1')])]\n",
      "2016 9 ------------------------------\n",
      "[OrderedDict([('dateKind', '01'), ('dateName', '추석'), ('isHoliday', 'Y'), ('locdate', '20160914'), ('seq', '1')]), OrderedDict([('dateKind', '01'), ('dateName', '추석'), ('isHoliday', 'Y'), ('locdate', '20160915'), ('seq', '1')]), OrderedDict([('dateKind', '01'), ('dateName', '추석'), ('isHoliday', 'Y'), ('locdate', '20160916'), ('seq', '1')])]\n",
      "2016 10 ------------------------------\n",
      "[OrderedDict([('dateKind', '01'), ('dateName', '개천절'), ('isHoliday', 'Y'), ('locdate', '20161003'), ('seq', '1')]), OrderedDict([('dateKind', '01'), ('dateName', '한글날'), ('isHoliday', 'Y'), ('locdate', '20161009'), ('seq', '1')])]\n",
      "2016 11 ------------------------------\n",
      "2016 12 ------------------------------\n",
      "[OrderedDict([('dateKind', '01'), ('dateName', '기독탄신일'), ('isHoliday', 'Y'), ('locdate', '20161225'), ('seq', '1')])]\n",
      "\n"
     ]
    },
    {
     "data": {
      "application/vnd.jupyter.widget-view+json": {
       "model_id": "bea3877d31ef4541b25efdaf142082fa",
       "version_major": 2,
       "version_minor": 0
      },
      "text/plain": [
       "HBox(children=(FloatProgress(value=0.0, max=12.0), HTML(value='')))"
      ]
     },
     "metadata": {},
     "output_type": "display_data"
    },
    {
     "name": "stdout",
     "output_type": "stream",
     "text": [
      "2017 1 ------------------------------\n",
      "[OrderedDict([('dateKind', '01'), ('dateName', '신정'), ('isHoliday', 'Y'), ('locdate', '20170101'), ('seq', '1')]), OrderedDict([('dateKind', '01'), ('dateName', '설날'), ('isHoliday', 'Y'), ('locdate', '20170127'), ('seq', '1')]), OrderedDict([('dateKind', '01'), ('dateName', '설날'), ('isHoliday', 'Y'), ('locdate', '20170128'), ('seq', '1')]), OrderedDict([('dateKind', '01'), ('dateName', '설날'), ('isHoliday', 'Y'), ('locdate', '20170129'), ('seq', '1')]), OrderedDict([('dateKind', '01'), ('dateName', '대체공휴일'), ('isHoliday', 'Y'), ('locdate', '20170130'), ('seq', '1')])]\n",
      "2017 2 ------------------------------\n",
      "2017 3 ------------------------------\n",
      "[OrderedDict([('dateKind', '01'), ('dateName', '삼일절'), ('isHoliday', 'Y'), ('locdate', '20170301'), ('seq', '1')])]\n",
      "2017 4 ------------------------------\n",
      "2017 5 ------------------------------\n",
      "[OrderedDict([('dateKind', '01'), ('dateName', '석가탄신일'), ('isHoliday', 'Y'), ('locdate', '20170503'), ('seq', '1')]), OrderedDict([('dateKind', '01'), ('dateName', '어린이날'), ('isHoliday', 'Y'), ('locdate', '20170505'), ('seq', '1')]), OrderedDict([('dateKind', '01'), ('dateName', '대통령선거일'), ('isHoliday', 'Y'), ('locdate', '20170509'), ('seq', '1')])]\n",
      "2017 6 ------------------------------\n",
      "[OrderedDict([('dateKind', '01'), ('dateName', '현충일'), ('isHoliday', 'Y'), ('locdate', '20170606'), ('seq', '1')])]\n",
      "2017 7 ------------------------------\n",
      "2017 8 ------------------------------\n",
      "[OrderedDict([('dateKind', '01'), ('dateName', '광복절'), ('isHoliday', 'Y'), ('locdate', '20170815'), ('seq', '1')])]\n",
      "2017 9 ------------------------------\n",
      "2017 10 ------------------------------\n",
      "[OrderedDict([('dateKind', '01'), ('dateName', '임시공휴일'), ('isHoliday', 'Y'), ('locdate', '20171002'), ('seq', '2')]), OrderedDict([('dateKind', '01'), ('dateName', '개천절'), ('isHoliday', 'Y'), ('locdate', '20171003'), ('seq', '1')]), OrderedDict([('dateKind', '01'), ('dateName', '추석'), ('isHoliday', 'Y'), ('locdate', '20171003'), ('seq', '2')]), OrderedDict([('dateKind', '01'), ('dateName', '추석'), ('isHoliday', 'Y'), ('locdate', '20171004'), ('seq', '1')]), OrderedDict([('dateKind', '01'), ('dateName', '추석'), ('isHoliday', 'Y'), ('locdate', '20171005'), ('seq', '1')]), OrderedDict([('dateKind', '01'), ('dateName', '대체공휴일'), ('isHoliday', 'Y'), ('locdate', '20171006'), ('seq', '1')]), OrderedDict([('dateKind', '01'), ('dateName', '한글날'), ('isHoliday', 'Y'), ('locdate', '20171009'), ('seq', '1')])]\n",
      "2017 11 ------------------------------\n",
      "2017 12 ------------------------------\n",
      "[OrderedDict([('dateKind', '01'), ('dateName', '기독탄신일'), ('isHoliday', 'Y'), ('locdate', '20171225'), ('seq', '1')])]\n",
      "\n"
     ]
    },
    {
     "data": {
      "application/vnd.jupyter.widget-view+json": {
       "model_id": "a4c3d92850a24fe49ff37f19528e9dbf",
       "version_major": 2,
       "version_minor": 0
      },
      "text/plain": [
       "HBox(children=(FloatProgress(value=0.0, max=12.0), HTML(value='')))"
      ]
     },
     "metadata": {},
     "output_type": "display_data"
    },
    {
     "name": "stdout",
     "output_type": "stream",
     "text": [
      "2018 1 ------------------------------\n",
      "[OrderedDict([('dateKind', '01'), ('dateName', '1월1일'), ('isHoliday', 'Y'), ('locdate', '20180101'), ('seq', '1')])]\n",
      "2018 2 ------------------------------\n",
      "[OrderedDict([('dateKind', '01'), ('dateName', '설날'), ('isHoliday', 'Y'), ('locdate', '20180215'), ('seq', '1')]), OrderedDict([('dateKind', '01'), ('dateName', '설날'), ('isHoliday', 'Y'), ('locdate', '20180216'), ('seq', '1')]), OrderedDict([('dateKind', '01'), ('dateName', '설날'), ('isHoliday', 'Y'), ('locdate', '20180217'), ('seq', '1')])]\n",
      "2018 3 ------------------------------\n",
      "[OrderedDict([('dateKind', '01'), ('dateName', '삼일절'), ('isHoliday', 'Y'), ('locdate', '20180301'), ('seq', '1')])]\n",
      "2018 4 ------------------------------\n",
      "2018 5 ------------------------------\n",
      "[OrderedDict([('dateKind', '01'), ('dateName', '어린이날'), ('isHoliday', 'Y'), ('locdate', '20180505'), ('seq', '1')]), OrderedDict([('dateKind', '01'), ('dateName', '대체휴무일'), ('isHoliday', 'Y'), ('locdate', '20180507'), ('seq', '1')]), OrderedDict([('dateKind', '01'), ('dateName', '부처님오신날'), ('isHoliday', 'Y'), ('locdate', '20180522'), ('seq', '1')])]\n",
      "2018 6 ------------------------------\n",
      "[OrderedDict([('dateKind', '01'), ('dateName', '현충일'), ('isHoliday', 'Y'), ('locdate', '20180606'), ('seq', '1')]), OrderedDict([('dateKind', '01'), ('dateName', '전국동시지방선거'), ('isHoliday', 'Y'), ('locdate', '20180613'), ('seq', '1')])]\n",
      "2018 7 ------------------------------\n",
      "2018 8 ------------------------------\n",
      "[OrderedDict([('dateKind', '01'), ('dateName', '광복절'), ('isHoliday', 'Y'), ('locdate', '20180815'), ('seq', '1')])]\n",
      "2018 9 ------------------------------\n",
      "[OrderedDict([('dateKind', '01'), ('dateName', '추석'), ('isHoliday', 'Y'), ('locdate', '20180923'), ('seq', '1')]), OrderedDict([('dateKind', '01'), ('dateName', '추석'), ('isHoliday', 'Y'), ('locdate', '20180924'), ('seq', '1')]), OrderedDict([('dateKind', '01'), ('dateName', '추석'), ('isHoliday', 'Y'), ('locdate', '20180925'), ('seq', '1')]), OrderedDict([('dateKind', '01'), ('dateName', '대체휴무일'), ('isHoliday', 'Y'), ('locdate', '20180926'), ('seq', '1')])]\n",
      "2018 10 ------------------------------\n",
      "[OrderedDict([('dateKind', '01'), ('dateName', '개천절'), ('isHoliday', 'Y'), ('locdate', '20181003'), ('seq', '1')]), OrderedDict([('dateKind', '01'), ('dateName', '한글날'), ('isHoliday', 'Y'), ('locdate', '20181009'), ('seq', '1')])]\n",
      "2018 11 ------------------------------\n",
      "2018 12 ------------------------------\n",
      "[OrderedDict([('dateKind', '01'), ('dateName', '기독탄신일'), ('isHoliday', 'Y'), ('locdate', '20181225'), ('seq', '1')])]\n",
      "\n"
     ]
    },
    {
     "data": {
      "application/vnd.jupyter.widget-view+json": {
       "model_id": "ac89f2234e5a43ed86a29b407fe1356e",
       "version_major": 2,
       "version_minor": 0
      },
      "text/plain": [
       "HBox(children=(FloatProgress(value=0.0, max=12.0), HTML(value='')))"
      ]
     },
     "metadata": {},
     "output_type": "display_data"
    },
    {
     "name": "stdout",
     "output_type": "stream",
     "text": [
      "2019 1 ------------------------------\n",
      "[OrderedDict([('dateKind', '01'), ('dateName', '1월1일'), ('isHoliday', 'Y'), ('locdate', '20190101'), ('seq', '1')])]\n",
      "2019 2 ------------------------------\n",
      "[OrderedDict([('dateKind', '01'), ('dateName', '설날'), ('isHoliday', 'Y'), ('locdate', '20190204'), ('seq', '1')]), OrderedDict([('dateKind', '01'), ('dateName', '설날'), ('isHoliday', 'Y'), ('locdate', '20190205'), ('seq', '1')]), OrderedDict([('dateKind', '01'), ('dateName', '설날'), ('isHoliday', 'Y'), ('locdate', '20190206'), ('seq', '1')])]\n",
      "2019 3 ------------------------------\n",
      "[OrderedDict([('dateKind', '01'), ('dateName', '삼일절'), ('isHoliday', 'Y'), ('locdate', '20190301'), ('seq', '1')])]\n",
      "2019 4 ------------------------------\n",
      "2019 5 ------------------------------\n",
      "[OrderedDict([('dateKind', '01'), ('dateName', '어린이날'), ('isHoliday', 'Y'), ('locdate', '20190505'), ('seq', '1')]), OrderedDict([('dateKind', '01'), ('dateName', '대체공휴일'), ('isHoliday', 'Y'), ('locdate', '20190506'), ('seq', '1')]), OrderedDict([('dateKind', '01'), ('dateName', '부처님오신날'), ('isHoliday', 'Y'), ('locdate', '20190512'), ('seq', '1')])]\n",
      "2019 6 ------------------------------\n",
      "[OrderedDict([('dateKind', '01'), ('dateName', '현충일'), ('isHoliday', 'Y'), ('locdate', '20190606'), ('seq', '1')])]\n",
      "2019 7 ------------------------------\n",
      "2019 8 ------------------------------\n",
      "[OrderedDict([('dateKind', '01'), ('dateName', '광복절'), ('isHoliday', 'Y'), ('locdate', '20190815'), ('seq', '1')])]\n",
      "2019 9 ------------------------------\n",
      "[OrderedDict([('dateKind', '01'), ('dateName', '추석'), ('isHoliday', 'Y'), ('locdate', '20190912'), ('seq', '1')]), OrderedDict([('dateKind', '01'), ('dateName', '추석'), ('isHoliday', 'Y'), ('locdate', '20190913'), ('seq', '1')]), OrderedDict([('dateKind', '01'), ('dateName', '추석'), ('isHoliday', 'Y'), ('locdate', '20190914'), ('seq', '1')])]\n",
      "2019 10 ------------------------------\n",
      "[OrderedDict([('dateKind', '01'), ('dateName', '개천절'), ('isHoliday', 'Y'), ('locdate', '20191003'), ('seq', '1')]), OrderedDict([('dateKind', '01'), ('dateName', '한글날'), ('isHoliday', 'Y'), ('locdate', '20191009'), ('seq', '1')])]\n",
      "2019 11 ------------------------------\n",
      "2019 12 ------------------------------\n",
      "[OrderedDict([('dateKind', '01'), ('dateName', '기독탄신일'), ('isHoliday', 'Y'), ('locdate', '20191225'), ('seq', '1')])]\n",
      "\n"
     ]
    },
    {
     "data": {
      "application/vnd.jupyter.widget-view+json": {
       "model_id": "324a85eac0bc484fb3057177893882af",
       "version_major": 2,
       "version_minor": 0
      },
      "text/plain": [
       "HBox(children=(FloatProgress(value=0.0, max=12.0), HTML(value='')))"
      ]
     },
     "metadata": {},
     "output_type": "display_data"
    },
    {
     "name": "stdout",
     "output_type": "stream",
     "text": [
      "2020 1 ------------------------------\n",
      "[OrderedDict([('dateKind', '01'), ('dateName', '1월1일'), ('isHoliday', 'Y'), ('locdate', '20200101'), ('seq', '1')]), OrderedDict([('dateKind', '01'), ('dateName', '설날'), ('isHoliday', 'Y'), ('locdate', '20200124'), ('seq', '1')]), OrderedDict([('dateKind', '01'), ('dateName', '설날'), ('isHoliday', 'Y'), ('locdate', '20200125'), ('seq', '1')]), OrderedDict([('dateKind', '01'), ('dateName', '설날'), ('isHoliday', 'Y'), ('locdate', '20200126'), ('seq', '1')]), OrderedDict([('dateKind', '01'), ('dateName', '설날'), ('isHoliday', 'Y'), ('locdate', '20200127'), ('seq', '1')])]\n",
      "2020 2 ------------------------------\n",
      "2020 3 ------------------------------\n",
      "[OrderedDict([('dateKind', '01'), ('dateName', '삼일절'), ('isHoliday', 'Y'), ('locdate', '20200301'), ('seq', '1')])]\n",
      "2020 4 ------------------------------\n",
      "[OrderedDict([('dateKind', '01'), ('dateName', '제21대 국회의원선거'), ('isHoliday', 'Y'), ('locdate', '20200415'), ('seq', '1')]), OrderedDict([('dateKind', '01'), ('dateName', '부처님오신날'), ('isHoliday', 'Y'), ('locdate', '20200430'), ('seq', '1')])]\n",
      "2020 5 ------------------------------\n",
      "[OrderedDict([('dateKind', '01'), ('dateName', '어린이날'), ('isHoliday', 'Y'), ('locdate', '20200505'), ('seq', '1')])]\n",
      "2020 6 ------------------------------\n",
      "[OrderedDict([('dateKind', '01'), ('dateName', '현충일'), ('isHoliday', 'Y'), ('locdate', '20200606'), ('seq', '1')])]\n",
      "2020 7 ------------------------------\n",
      "2020 8 ------------------------------\n",
      "[OrderedDict([('dateKind', '01'), ('dateName', '광복절'), ('isHoliday', 'Y'), ('locdate', '20200815'), ('seq', '1')]), OrderedDict([('dateKind', '01'), ('dateName', '임시공휴일'), ('isHoliday', 'Y'), ('locdate', '20200817'), ('seq', '1')])]\n",
      "2020 9 ------------------------------\n",
      "[OrderedDict([('dateKind', '01'), ('dateName', '추석'), ('isHoliday', 'Y'), ('locdate', '20200930'), ('seq', '1')])]\n",
      "2020 10 ------------------------------\n",
      "[OrderedDict([('dateKind', '01'), ('dateName', '추석'), ('isHoliday', 'Y'), ('locdate', '20201001'), ('seq', '1')]), OrderedDict([('dateKind', '01'), ('dateName', '추석'), ('isHoliday', 'Y'), ('locdate', '20201002'), ('seq', '1')]), OrderedDict([('dateKind', '01'), ('dateName', '개천절'), ('isHoliday', 'Y'), ('locdate', '20201003'), ('seq', '1')]), OrderedDict([('dateKind', '01'), ('dateName', '한글날'), ('isHoliday', 'Y'), ('locdate', '20201009'), ('seq', '1')])]\n",
      "2020 11 ------------------------------\n",
      "2020 12 ------------------------------\n",
      "[OrderedDict([('dateKind', '01'), ('dateName', '기독탄신일'), ('isHoliday', 'Y'), ('locdate', '20201225'), ('seq', '1')])]\n",
      "\n"
     ]
    }
   ],
   "source": [
    "import requests\n",
    "\n",
    "items = dict()\n",
    "for y in range(2015, 2021):\n",
    "    for m in notebook.tqdm(range(1, 13)):\n",
    "        params = (\n",
    "            ('serviceKey', 'HgNm/DcadOcJFDJ1+iXsV/AGLFJqNyUSYp/yGPFHHwOBzMqMzLV6MkUGMuotC9xkWv9sF3GXSL+QisEY4jLIQA=='),\n",
    "            ('solYear', '{:4d}'.format(y)),\n",
    "            ('solMonth', '{:02d}'.format(m)),\n",
    "        )\n",
    "\n",
    "        response = requests.get( 'http://apis.data.go.kr/B090041/openapi/service/SpcdeInfoService/getRestDeInfo', params=params)\n",
    "        data = xmltodict.parse(response.text)\n",
    "        print(y, m, '------------------------------')\n",
    "        totalCount = int(data['response']['body']['totalCount'])\n",
    "        if totalCount > 0:\n",
    "            #items.extend(data['response']['body']['items']['item'])\n",
    "            if totalCount > 1:\n",
    "                items[(y, m)] = data['response']['body']['items']['item']\n",
    "            else:\n",
    "                items[(y, m)] = [data['response']['body']['items']['item']]\n",
    "            print(items[(y, m)])\n",
    "        time.sleep(.5)\n",
    "        \n",
    "\n",
    "#NB. Original query string below. It seems impossible to parse and\n",
    "#reproduce query strings 100% accurately so the one below is given\n",
    "#in case the reproduced version is not \"correct\".\n",
    "# response = requests.get('http://apis.data.go.kr/B090041/openapi/service/SpcdeInfoService/getAnniversaryInfo?ServiceKey=HgNm%2FDcadOcJFDJ1%2BiXsV%2FAGLFJqNyUSYp%2FyGPFHHwOBzMqMzLV6MkUGMuotC9xkWv9sF3GXSL%2BQisEY4jLIQA%3D%3D&pageNo=1&numOfRows=10&solYear=2019&solMonth=02')\n"
   ]
  },
  {
   "cell_type": "code",
   "execution_count": 130,
   "metadata": {},
   "outputs": [],
   "source": [
    "all_items = []\n",
    "for (y, m) in items:\n",
    "    all_items.extend(items[(y,m)])"
   ]
  },
  {
   "cell_type": "code",
   "execution_count": 131,
   "metadata": {},
   "outputs": [],
   "source": [
    "adf = pd.DataFrame(all_items)"
   ]
  },
  {
   "cell_type": "code",
   "execution_count": 133,
   "metadata": {},
   "outputs": [],
   "source": [
    "adf.to_csv('national_holidays.csv')"
   ]
  },
  {
   "cell_type": "code",
   "execution_count": null,
   "metadata": {},
   "outputs": [],
   "source": []
  }
 ],
 "metadata": {
  "kernelspec": {
   "display_name": "GIS",
   "language": "python",
   "name": "gis"
  },
  "language_info": {
   "codemirror_mode": {
    "name": "ipython",
    "version": 3
   },
   "file_extension": ".py",
   "mimetype": "text/x-python",
   "name": "python",
   "nbconvert_exporter": "python",
   "pygments_lexer": "ipython3",
   "version": "3.7.6"
  }
 },
 "nbformat": 4,
 "nbformat_minor": 4
}
