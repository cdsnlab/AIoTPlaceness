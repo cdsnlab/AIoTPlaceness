{
 "cells": [
  {
   "cell_type": "code",
   "execution_count": 1,
   "metadata": {},
   "outputs": [
    {
     "name": "stderr",
     "output_type": "stream",
     "text": [
      "/home/hj/anaconda3/envs/HJ/lib/python3.10/site-packages/tqdm/auto.py:21: TqdmWarning: IProgress not found. Please update jupyter and ipywidgets. See https://ipywidgets.readthedocs.io/en/stable/user_install.html\n",
      "  from .autonotebook import tqdm as notebook_tqdm\n"
     ]
    }
   ],
   "source": [
    "import networkx as nx\n",
    "import numpy as np\n",
    "import pandas as pd\n",
    "from cartoframes.viz import *\n",
    "import torch\n",
    "import torch.nn.functional as F\n",
    "from torch_geometric.data import Data\n",
    "from torch_geometric.nn import GCNConv, GATConv\n",
    "from sklearn.preprocessing import StandardScaler\n",
    "from tqdm import tqdm\n",
    "import pickle\n",
    "import random"
   ]
  },
  {
   "cell_type": "code",
   "execution_count": 4,
   "metadata": {},
   "outputs": [],
   "source": [
    "# 초기 노드 임베딩 가져오기\n",
    "def get_basic_embeddings(path, dong_name):\n",
    "    emb = pd.read_csv(path)\n",
    "    #emb = standardize_dataframe(emb, dong_name)   # 정규화\n",
    "    features = torch.tensor(emb.iloc[:, 1:].values, dtype=torch.float32)   # 임베딩만 추출\n",
    "    return emb, features"
   ]
  },
  {
   "cell_type": "code",
   "execution_count": 5,
   "metadata": {},
   "outputs": [],
   "source": [
    "# 그래프 불러오기\n",
    "def get_graph(path, emb, dong_name):\n",
    "    with open(path, 'rb') as f:\n",
    "        G = pickle.load(f)\n",
    "    edges = G.edges(data=True)   # 엣지 추출\n",
    "    node_to_idx = {name: idx for idx, name in enumerate(emb[dong_name])}   # 동이름 -> 인덱스 변환\n",
    "    edge_index = torch.tensor([[node_to_idx[edge[0]], node_to_idx[edge[1]]] for edge in edges], dtype=torch.long).T   # edge list 재생산\n",
    "    edge_weight = torch.tensor([edge[2]['weight'] for edge in edges], dtype=torch.float32)\n",
    "    \n",
    "    return edge_index, edge_weight"
   ]
  },
  {
   "cell_type": "code",
   "execution_count": 46,
   "metadata": {},
   "outputs": [
    {
     "name": "stdout",
     "output_type": "stream",
     "text": [
      "201701\n",
      "<class 'int'>\n",
      "(424, 37)\n",
      "Index(['기준일ID', '행정동코드', '총생활인구수', '남자0세부터9세생활인구수', '남자10세부터14세생활인구수',\n",
      "       '남자15세부터19세생활인구수', '남자20세부터24세생활인구수', '남자25세부터29세생활인구수',\n",
      "       '남자30세부터34세생활인구수', '남자35세부터39세생활인구수', '남자40세부터44세생활인구수',\n",
      "       '남자45세부터49세생활인구수', '남자50세부터54세생활인구수', '남자55세부터59세생활인구수',\n",
      "       '남자60세부터64세생활인구수', '남자65세부터69세생활인구수', '남자70세이상생활인구수', '여자0세부터9세생활인구수',\n",
      "       '여자10세부터14세생활인구수', '여자15세부터19세생활인구수', '여자20세부터24세생활인구수',\n",
      "       '여자25세부터29세생활인구수', '여자30세부터34세생활인구수', '여자35세부터39세생활인구수',\n",
      "       '여자40세부터44세생활인구수', '여자45세부터49세생활인구수', '여자50세부터54세생활인구수',\n",
      "       '여자55세부터59세생활인구수', '여자60세부터64세생활인구수', '여자65세부터69세생활인구수', '여자70세이상생활인구수',\n",
      "       '총생활인구수_LONG_FOREIGNER', '중국인체류인구수_LONG_FOREIGNER',\n",
      "       '중국외외국인체류인구수_LONG_FOREIGNER', '총생활인구수_TEMP_FOREIGNER',\n",
      "       '중국인체류인구수_TEMP_FOREIGNER', '중국외외국인체류인구수_TEMP_FOREIGNER'],\n",
      "      dtype='object')\n"
     ]
    }
   ],
   "source": [
    "# humanflow 임베딩 데이터\n",
    "hf_emb = pd.read_csv('../../Dataset/Raw_Embeddings/HumanFlow_Embeddings_kor.csv')\n",
    "group = hf_emb.groupby(['기준일ID'])\n",
    "\n",
    "for key, df in group:\n",
    "    print(key[0])\n",
    "    print(type(key[0]))\n",
    "    print(df.shape)\n",
    "    print(df.columns)\n",
    "    emb = df\n",
    "    features = torch.tensor(emb.iloc[:, 2:].values, dtype=torch.float32)\n",
    "    break"
   ]
  },
  {
   "cell_type": "code",
   "execution_count": 6,
   "metadata": {},
   "outputs": [
    {
     "ename": "NameError",
     "evalue": "name 'emb' is not defined",
     "output_type": "error",
     "traceback": [
      "\u001b[0;31m---------------------------------------------------------------------------\u001b[0m",
      "\u001b[0;31mNameError\u001b[0m                                 Traceback (most recent call last)",
      "Cell \u001b[0;32mIn[6], line 16\u001b[0m\n\u001b[1;32m      8\u001b[0m \u001b[38;5;66;03m# 경로들 확인\u001b[39;00m\n\u001b[1;32m      9\u001b[0m path_list \u001b[38;5;241m=\u001b[39m [\n\u001b[1;32m     10\u001b[0m     basic_path\u001b[38;5;241m+\u001b[39m\u001b[38;5;124mf\u001b[39m\u001b[38;5;124m\"\u001b[39m\u001b[38;5;132;01m{\u001b[39;00myear\u001b[38;5;132;01m}\u001b[39;00m\u001b[38;5;132;01m{\u001b[39;00mmonth\u001b[38;5;132;01m:\u001b[39;00m\u001b[38;5;124m02d\u001b[39m\u001b[38;5;132;01m}\u001b[39;00m\u001b[38;5;124m.gpickle\u001b[39m\u001b[38;5;124m\"\u001b[39m\n\u001b[1;32m     11\u001b[0m     \u001b[38;5;28;01mfor\u001b[39;00m year \u001b[38;5;129;01min\u001b[39;00m \u001b[38;5;28mrange\u001b[39m(start_year, end_year \u001b[38;5;241m+\u001b[39m \u001b[38;5;241m1\u001b[39m)\n\u001b[1;32m     12\u001b[0m     \u001b[38;5;28;01mfor\u001b[39;00m month \u001b[38;5;129;01min\u001b[39;00m \u001b[38;5;28mrange\u001b[39m(\u001b[38;5;241m1\u001b[39m, \u001b[38;5;241m13\u001b[39m)\n\u001b[1;32m     13\u001b[0m     \u001b[38;5;28;01mif\u001b[39;00m \u001b[38;5;129;01mnot\u001b[39;00m (year \u001b[38;5;241m==\u001b[39m end_year \u001b[38;5;129;01mand\u001b[39;00m month \u001b[38;5;241m>\u001b[39m end_month)\n\u001b[1;32m     14\u001b[0m ]\n\u001b[0;32m---> 16\u001b[0m edge_index, edge_weight \u001b[38;5;241m=\u001b[39m get_graph(path_list[\u001b[38;5;241m0\u001b[39m], \u001b[43memb\u001b[49m, \u001b[38;5;124m'\u001b[39m\u001b[38;5;124m행정동코드\u001b[39m\u001b[38;5;124m'\u001b[39m)\n\u001b[1;32m     17\u001b[0m edge_index\n",
      "\u001b[0;31mNameError\u001b[0m: name 'emb' is not defined"
     ]
    }
   ],
   "source": [
    "# human flow 그래프 데이터\n",
    "basic_path = '../../Dataset/Human_flow_Graph/'\n",
    "start_year = 2017\n",
    "start_month = 1\n",
    "end_year = 2022\n",
    "end_month = 7\n",
    "\n",
    "# 경로들 확인\n",
    "path_list = [\n",
    "    basic_path+f\"{year}{month:02d}.gpickle\"\n",
    "    for year in range(start_year, end_year + 1)\n",
    "    for month in range(1, 13)\n",
    "    if not (year == end_year and month > end_month)\n",
    "]\n",
    "\n",
    "edge_index, edge_weight = get_graph(path_list[0], emb, '행정동코드')\n",
    "edge_index"
   ]
  },
  {
   "cell_type": "code",
   "execution_count": 32,
   "metadata": {},
   "outputs": [
    {
     "name": "stdout",
     "output_type": "stream",
     "text": [
      "tensor(27.3508) tensor(-1.8878)\n",
      "tensor(1.) tensor(1.)\n"
     ]
    }
   ],
   "source": [
    "data = Data(x=features, edge_index=edge_index, edge_weight=edge_weight)\n",
    "\n",
    "# Check for very large or very small values\n",
    "print(data.x.max(), data.x.min())  # 값 범위 확인\n",
    "print(data.edge_weight.max(), data.edge_weight.min())"
   ]
  },
  {
   "cell_type": "code",
   "execution_count": 7,
   "metadata": {},
   "outputs": [],
   "source": [
    "# GCN 모델 정의\n",
    "class GCN(torch.nn.Module):\n",
    "    def __init__(self, in_channels, hidden_channels, out_channels):\n",
    "        super(GCN, self).__init__()\n",
    "        self.conv1 = GCNConv(in_channels, hidden_channels)\n",
    "        self.conv2 = GCNConv(hidden_channels, out_channels)\n",
    "\n",
    "    def forward(self, x, edge_index, edge_weight):\n",
    "        x = self.conv1(x, edge_index, edge_weight)\n",
    "        x = F.relu(x)\n",
    "        x = self.conv2(x, edge_index, edge_weight)\n",
    "        return x"
   ]
  },
  {
   "cell_type": "code",
   "execution_count": 8,
   "metadata": {},
   "outputs": [],
   "source": [
    "# GAT 모델 정의\n",
    "class GAT(torch.nn.Module):\n",
    "    def __init__(self, in_channels, hidden_channels, out_channels, heads=1):\n",
    "        super(GAT, self).__init__()\n",
    "        self.conv1 = GATConv(in_channels, hidden_channels, heads=heads)\n",
    "        self.conv2 = GATConv(hidden_channels * heads, out_channels, heads=1)\n",
    "\n",
    "    def forward(self, x, edge_index):\n",
    "        x = self.conv1(x, edge_index)\n",
    "        x = F.relu(x)\n",
    "        x = self.conv2(x, edge_index)\n",
    "        return x"
   ]
  },
  {
   "cell_type": "code",
   "execution_count": 9,
   "metadata": {},
   "outputs": [],
   "source": [
    "# Negative Sampling 구현\n",
    "def negative_sampling(edge_index, num_nodes, num_neg_samples):\n",
    "    \"\"\"Negative samples 생성\"\"\"\n",
    "    edge_set = set(tuple(edge) for edge in edge_index.T.tolist())\n",
    "    neg_samples = []\n",
    "    while len(neg_samples) < num_neg_samples:\n",
    "        i, j = np.random.randint(0, num_nodes, size=2)\n",
    "        if i != j and (i, j) not in edge_set and (j, i) not in edge_set:\n",
    "            neg_samples.append((i, j))\n",
    "    return torch.tensor(neg_samples, dtype=torch.long).T"
   ]
  },
  {
   "cell_type": "code",
   "execution_count": 10,
   "metadata": {},
   "outputs": [],
   "source": [
    "def set_seed(seed):\n",
    "    random.seed(seed)\n",
    "    np.random.seed(seed)\n",
    "    torch.manual_seed(seed)\n",
    "    if torch.cuda.is_available():\n",
    "        torch.cuda.manual_seed(seed)\n",
    "        torch.cuda.manual_seed_all(seed)  # 멀티 GPU를 사용하는 경우\n",
    "        torch.backends.cudnn.deterministic = True\n",
    "        torch.backends.cudnn.benchmark = False"
   ]
  },
  {
   "cell_type": "code",
   "execution_count": 36,
   "metadata": {},
   "outputs": [],
   "source": [
    "# 학습 설정\n",
    "device = torch.device('cuda' if torch.cuda.is_available() else 'cpu')\n",
    "data = data.to(device)\n",
    "\n",
    "model_gcn = GCN(data.num_node_features, 64, 35).to(device)\n",
    "model_gat = GAT(data.num_node_features, 64, 35, heads=4).to(device)  # heads=4는 각 노드에서 4개의 attention heads 사용\n",
    "\n",
    "# 최적화 방법 설정\n",
    "optimizer_gcn = torch.optim.Adam(model_gcn.parameters(), lr=0.01, weight_decay=5e-4)\n",
    "optimizer_gat = torch.optim.Adam(model_gat.parameters(), lr=0.01, weight_decay=5e-4)"
   ]
  },
  {
   "cell_type": "code",
   "execution_count": 11,
   "metadata": {},
   "outputs": [],
   "source": [
    "def train_model(model, data, optimizer, num_epochs=200, patience=20, seed=42):\n",
    "    \"\"\"\n",
    "    GCN 또는 GAT 모델 학습을 위한 함수 (Early Stopping 시 best_loss 기준으로 z 반환).\n",
    "    \n",
    "    Args:\n",
    "        model (torch.nn.Module): 학습할 모델 (GCN 또는 GAT).\n",
    "        data (torch_geometric.data.Data): 학습에 사용할 데이터.\n",
    "        optimizer (torch.optim.Optimizer): 최적화 알고리즘.\n",
    "        num_epochs (int): 학습할 에폭 수.\n",
    "        patience (int): Early Stopping 기준.\n",
    "        seed (int): 재현 가능한 결과를 위한 Seed 값.\n",
    "\n",
    "    Returns:\n",
    "        torch.Tensor: `best_loss` 기준으로 저장된 노드 임베딩.\n",
    "    \"\"\"\n",
    "    # Seed 고정\n",
    "    set_seed(seed)\n",
    "\n",
    "    best_loss = float('inf')\n",
    "    counter = 0\n",
    "    best_z = None  # `best_loss` 시점의 임베딩 저장\n",
    "\n",
    "    for epoch in tqdm(range(num_epochs), desc=\"Training Progress\"):\n",
    "        model.train()\n",
    "        optimizer.zero_grad()\n",
    "\n",
    "        # Forward pass\n",
    "        if isinstance(model, GAT):  # GAT 모델에는 edge_weight 사용하지 않음\n",
    "            z = model(data.x, data.edge_index)\n",
    "        else:  # GCN 모델에는 edge_weight 전달\n",
    "            z = model(data.x, data.edge_index, data.edge_weight)\n",
    "\n",
    "        # Positive edges\n",
    "        pos_edges = data.edge_index.T\n",
    "        pos_scores = (z[pos_edges[:, 0]] * z[pos_edges[:, 1]]).sum(dim=1)\n",
    "\n",
    "        # Negative edges\n",
    "        neg_edges = negative_sampling(data.edge_index, data.num_nodes, pos_edges.size(0) // 2)\n",
    "        neg_scores = (z[neg_edges[0]] * z[neg_edges[1]]).sum(dim=1)\n",
    "\n",
    "        # Loss 계산\n",
    "        pos_loss = -F.logsigmoid(pos_scores).mean()\n",
    "        neg_loss = -F.logsigmoid(-neg_scores).mean()\n",
    "        loss = pos_loss + neg_loss\n",
    "\n",
    "        loss.backward()\n",
    "        optimizer.step()\n",
    "\n",
    "        # Loss 출력\n",
    "        tqdm.write(f\"Epoch {epoch + 1}, Loss: {loss.item()}\")\n",
    "\n",
    "        # Early Stopping 로직\n",
    "        if loss.item() < best_loss:\n",
    "            best_loss = loss.item()  # 최적 Loss 갱신\n",
    "            best_z = z.detach().cpu()  # `best_loss` 시점의 임베딩 저장\n",
    "            counter = 0  # 카운터 초기화\n",
    "        else:\n",
    "            counter += 1\n",
    "\n",
    "        if counter >= patience:\n",
    "            tqdm.write(f\"Early stopping at epoch {epoch + 1}\")\n",
    "            break\n",
    "\n",
    "    return best_z  # 최적 Loss 기준의 임베딩 반환"
   ]
  },
  {
   "cell_type": "code",
   "execution_count": 41,
   "metadata": {},
   "outputs": [
    {
     "name": "stderr",
     "output_type": "stream",
     "text": [
      "Training Progress:   1%|          | 2/200 [00:00<01:23,  2.36it/s]"
     ]
    },
    {
     "name": "stdout",
     "output_type": "stream",
     "text": [
      "Epoch 1, Loss: 2.1354637145996094\n",
      "Epoch 2, Loss: 1.115706443786621\n"
     ]
    },
    {
     "name": "stderr",
     "output_type": "stream",
     "text": [
      "Training Progress:   2%|▏         | 3/200 [00:01<00:56,  3.51it/s]"
     ]
    },
    {
     "name": "stdout",
     "output_type": "stream",
     "text": [
      "Epoch 3, Loss: 1.0097235441207886\n"
     ]
    },
    {
     "name": "stderr",
     "output_type": "stream",
     "text": [
      "Training Progress:   2%|▎         | 5/200 [00:01<00:39,  4.91it/s]"
     ]
    },
    {
     "name": "stdout",
     "output_type": "stream",
     "text": [
      "Epoch 4, Loss: 1.0428000688552856\n",
      "Epoch 5, Loss: 1.0593677759170532\n"
     ]
    },
    {
     "name": "stderr",
     "output_type": "stream",
     "text": [
      "Training Progress:   4%|▎         | 7/200 [00:01<00:29,  6.54it/s]"
     ]
    },
    {
     "name": "stdout",
     "output_type": "stream",
     "text": [
      "Epoch 6, Loss: 1.0102813243865967\n",
      "Epoch 7, Loss: 0.9528412222862244\n"
     ]
    },
    {
     "name": "stderr",
     "output_type": "stream",
     "text": [
      "Training Progress:   4%|▍         | 8/200 [00:01<00:26,  7.20it/s]"
     ]
    },
    {
     "name": "stdout",
     "output_type": "stream",
     "text": [
      "Epoch 8, Loss: 0.8947300314903259\n"
     ]
    },
    {
     "name": "stderr",
     "output_type": "stream",
     "text": [
      "Training Progress:   5%|▌         | 10/200 [00:02<00:27,  6.94it/s]"
     ]
    },
    {
     "name": "stdout",
     "output_type": "stream",
     "text": [
      "Epoch 9, Loss: 0.8207608461380005\n",
      "Epoch 10, Loss: 0.7539094686508179\n"
     ]
    },
    {
     "name": "stderr",
     "output_type": "stream",
     "text": [
      "Training Progress:   6%|▌         | 12/200 [00:02<00:23,  7.96it/s]"
     ]
    },
    {
     "name": "stdout",
     "output_type": "stream",
     "text": [
      "Epoch 11, Loss: 0.6943907737731934\n",
      "Epoch 12, Loss: 0.6431031823158264\n"
     ]
    },
    {
     "name": "stderr",
     "output_type": "stream",
     "text": [
      "Training Progress:   6%|▋         | 13/200 [00:02<00:22,  8.25it/s]"
     ]
    },
    {
     "name": "stdout",
     "output_type": "stream",
     "text": [
      "Epoch 13, Loss: 0.5923910140991211\n"
     ]
    },
    {
     "name": "stderr",
     "output_type": "stream",
     "text": [
      "Training Progress:   8%|▊         | 15/200 [00:02<00:25,  7.28it/s]"
     ]
    },
    {
     "name": "stdout",
     "output_type": "stream",
     "text": [
      "Epoch 14, Loss: 0.5701874494552612\n",
      "Epoch 15, Loss: 0.5556251406669617\n"
     ]
    },
    {
     "name": "stderr",
     "output_type": "stream",
     "text": [
      "Training Progress:   8%|▊         | 17/200 [00:02<00:22,  8.13it/s]"
     ]
    },
    {
     "name": "stdout",
     "output_type": "stream",
     "text": [
      "Epoch 16, Loss: 0.5291643142700195\n",
      "Epoch 17, Loss: 0.496028333902359\n"
     ]
    },
    {
     "name": "stderr",
     "output_type": "stream",
     "text": [
      "Training Progress:   9%|▉         | 18/200 [00:03<00:21,  8.39it/s]"
     ]
    },
    {
     "name": "stdout",
     "output_type": "stream",
     "text": [
      "Epoch 18, Loss: 0.4720470607280731\n"
     ]
    },
    {
     "name": "stderr",
     "output_type": "stream",
     "text": [
      "Training Progress:  10%|█         | 20/200 [00:03<00:24,  7.47it/s]"
     ]
    },
    {
     "name": "stdout",
     "output_type": "stream",
     "text": [
      "Epoch 19, Loss: 0.44018933176994324\n",
      "Epoch 20, Loss: 0.4217197597026825\n"
     ]
    },
    {
     "name": "stderr",
     "output_type": "stream",
     "text": [
      "Training Progress:  11%|█         | 22/200 [00:03<00:21,  8.26it/s]"
     ]
    },
    {
     "name": "stdout",
     "output_type": "stream",
     "text": [
      "Epoch 21, Loss: 0.40632203221321106\n",
      "Epoch 22, Loss: 0.4015810489654541\n"
     ]
    },
    {
     "name": "stderr",
     "output_type": "stream",
     "text": [
      "Training Progress:  12%|█▏        | 23/200 [00:03<00:20,  8.53it/s]"
     ]
    },
    {
     "name": "stdout",
     "output_type": "stream",
     "text": [
      "Epoch 23, Loss: 0.38407135009765625\n"
     ]
    },
    {
     "name": "stderr",
     "output_type": "stream",
     "text": [
      "Training Progress:  12%|█▎        | 25/200 [00:04<00:23,  7.52it/s]"
     ]
    },
    {
     "name": "stdout",
     "output_type": "stream",
     "text": [
      "Epoch 24, Loss: 0.37878549098968506\n",
      "Epoch 25, Loss: 0.3475920557975769\n"
     ]
    },
    {
     "name": "stderr",
     "output_type": "stream",
     "text": [
      "Training Progress:  14%|█▎        | 27/200 [00:04<00:20,  8.32it/s]"
     ]
    },
    {
     "name": "stdout",
     "output_type": "stream",
     "text": [
      "Epoch 26, Loss: 0.33701154589653015\n",
      "Epoch 27, Loss: 0.3135136663913727\n"
     ]
    },
    {
     "name": "stderr",
     "output_type": "stream",
     "text": [
      "Training Progress:  14%|█▍        | 28/200 [00:04<00:20,  8.50it/s]"
     ]
    },
    {
     "name": "stdout",
     "output_type": "stream",
     "text": [
      "Epoch 28, Loss: 0.311861127614975\n"
     ]
    },
    {
     "name": "stderr",
     "output_type": "stream",
     "text": [
      "Training Progress:  15%|█▌        | 30/200 [00:04<00:22,  7.43it/s]"
     ]
    },
    {
     "name": "stdout",
     "output_type": "stream",
     "text": [
      "Epoch 29, Loss: 0.29208457469940186\n",
      "Epoch 30, Loss: 0.2784821093082428\n"
     ]
    },
    {
     "name": "stderr",
     "output_type": "stream",
     "text": [
      "Training Progress:  16%|█▌        | 32/200 [00:04<00:20,  8.18it/s]"
     ]
    },
    {
     "name": "stdout",
     "output_type": "stream",
     "text": [
      "Epoch 31, Loss: 0.26223811507225037\n",
      "Epoch 32, Loss: 0.24996523559093475\n"
     ]
    },
    {
     "name": "stderr",
     "output_type": "stream",
     "text": [
      "Training Progress:  16%|█▋        | 33/200 [00:04<00:19,  8.46it/s]"
     ]
    },
    {
     "name": "stdout",
     "output_type": "stream",
     "text": [
      "Epoch 33, Loss: 0.235317662358284\n"
     ]
    },
    {
     "name": "stderr",
     "output_type": "stream",
     "text": [
      "Training Progress:  18%|█▊        | 35/200 [00:05<00:22,  7.47it/s]"
     ]
    },
    {
     "name": "stdout",
     "output_type": "stream",
     "text": [
      "Epoch 34, Loss: 0.23891428112983704\n",
      "Epoch 35, Loss: 0.22042354941368103\n"
     ]
    },
    {
     "name": "stderr",
     "output_type": "stream",
     "text": [
      "Training Progress:  18%|█▊        | 37/200 [00:05<00:19,  8.20it/s]"
     ]
    },
    {
     "name": "stdout",
     "output_type": "stream",
     "text": [
      "Epoch 36, Loss: 0.21663498878479004\n",
      "Epoch 37, Loss: 0.21777945756912231\n"
     ]
    },
    {
     "name": "stderr",
     "output_type": "stream",
     "text": [
      "Training Progress:  19%|█▉        | 38/200 [00:05<00:19,  8.48it/s]"
     ]
    },
    {
     "name": "stdout",
     "output_type": "stream",
     "text": [
      "Epoch 38, Loss: 0.20967595279216766\n"
     ]
    },
    {
     "name": "stderr",
     "output_type": "stream",
     "text": [
      "Training Progress:  20%|██        | 40/200 [00:05<00:21,  7.50it/s]"
     ]
    },
    {
     "name": "stdout",
     "output_type": "stream",
     "text": [
      "Epoch 39, Loss: 0.21292494237422943\n",
      "Epoch 40, Loss: 0.20253396034240723\n"
     ]
    },
    {
     "name": "stderr",
     "output_type": "stream",
     "text": [
      "Training Progress:  21%|██        | 42/200 [00:06<00:19,  8.29it/s]"
     ]
    },
    {
     "name": "stdout",
     "output_type": "stream",
     "text": [
      "Epoch 41, Loss: 0.19464990496635437\n",
      "Epoch 42, Loss: 0.18235021829605103\n"
     ]
    },
    {
     "name": "stderr",
     "output_type": "stream",
     "text": [
      "Training Progress:  22%|██▏       | 43/200 [00:06<00:18,  8.40it/s]"
     ]
    },
    {
     "name": "stdout",
     "output_type": "stream",
     "text": [
      "Epoch 43, Loss: 0.1803688406944275\n"
     ]
    },
    {
     "name": "stderr",
     "output_type": "stream",
     "text": [
      "Training Progress:  22%|██▎       | 45/200 [00:06<00:21,  7.36it/s]"
     ]
    },
    {
     "name": "stdout",
     "output_type": "stream",
     "text": [
      "Epoch 44, Loss: 0.1735670566558838\n",
      "Epoch 45, Loss: 0.17238138616085052\n"
     ]
    },
    {
     "name": "stderr",
     "output_type": "stream",
     "text": [
      "Training Progress:  24%|██▎       | 47/200 [00:06<00:18,  8.12it/s]"
     ]
    },
    {
     "name": "stdout",
     "output_type": "stream",
     "text": [
      "Epoch 46, Loss: 0.16913238167762756\n",
      "Epoch 47, Loss: 0.16457942128181458\n"
     ]
    },
    {
     "name": "stderr",
     "output_type": "stream",
     "text": [
      "Training Progress:  24%|██▍       | 48/200 [00:06<00:18,  8.39it/s]"
     ]
    },
    {
     "name": "stdout",
     "output_type": "stream",
     "text": [
      "Epoch 48, Loss: 0.16678157448768616\n"
     ]
    },
    {
     "name": "stderr",
     "output_type": "stream",
     "text": [
      "Training Progress:  25%|██▌       | 50/200 [00:07<00:20,  7.48it/s]"
     ]
    },
    {
     "name": "stdout",
     "output_type": "stream",
     "text": [
      "Epoch 49, Loss: 0.15711091458797455\n",
      "Epoch 50, Loss: 0.15139596164226532\n"
     ]
    },
    {
     "name": "stderr",
     "output_type": "stream",
     "text": [
      "Training Progress:  26%|██▌       | 52/200 [00:07<00:17,  8.24it/s]"
     ]
    },
    {
     "name": "stdout",
     "output_type": "stream",
     "text": [
      "Epoch 51, Loss: 0.14590108394622803\n",
      "Epoch 52, Loss: 0.1525520533323288\n"
     ]
    },
    {
     "name": "stderr",
     "output_type": "stream",
     "text": [
      "Training Progress:  26%|██▋       | 53/200 [00:07<00:17,  8.52it/s]"
     ]
    },
    {
     "name": "stdout",
     "output_type": "stream",
     "text": [
      "Epoch 53, Loss: 0.14914527535438538\n"
     ]
    },
    {
     "name": "stderr",
     "output_type": "stream",
     "text": [
      "Training Progress:  28%|██▊       | 55/200 [00:07<00:19,  7.47it/s]"
     ]
    },
    {
     "name": "stdout",
     "output_type": "stream",
     "text": [
      "Epoch 54, Loss: 0.1459175944328308\n",
      "Epoch 55, Loss: 0.1500215381383896\n"
     ]
    },
    {
     "name": "stderr",
     "output_type": "stream",
     "text": [
      "Training Progress:  28%|██▊       | 57/200 [00:08<00:17,  8.26it/s]"
     ]
    },
    {
     "name": "stdout",
     "output_type": "stream",
     "text": [
      "Epoch 56, Loss: 0.14595021307468414\n",
      "Epoch 57, Loss: 0.13914243876934052\n"
     ]
    },
    {
     "name": "stderr",
     "output_type": "stream",
     "text": [
      "Training Progress:  29%|██▉       | 58/200 [00:08<00:16,  8.49it/s]"
     ]
    },
    {
     "name": "stdout",
     "output_type": "stream",
     "text": [
      "Epoch 58, Loss: 0.135976642370224\n"
     ]
    },
    {
     "name": "stderr",
     "output_type": "stream",
     "text": [
      "Training Progress:  30%|███       | 60/200 [00:08<00:18,  7.46it/s]"
     ]
    },
    {
     "name": "stdout",
     "output_type": "stream",
     "text": [
      "Epoch 59, Loss: 0.12947814166545868\n",
      "Epoch 60, Loss: 0.13670599460601807\n"
     ]
    },
    {
     "name": "stderr",
     "output_type": "stream",
     "text": [
      "Training Progress:  31%|███       | 62/200 [00:08<00:16,  8.22it/s]"
     ]
    },
    {
     "name": "stdout",
     "output_type": "stream",
     "text": [
      "Epoch 61, Loss: 0.12922097742557526\n",
      "Epoch 62, Loss: 0.12759895622730255\n"
     ]
    },
    {
     "name": "stderr",
     "output_type": "stream",
     "text": [
      "Training Progress:  32%|███▏      | 63/200 [00:08<00:16,  8.48it/s]"
     ]
    },
    {
     "name": "stdout",
     "output_type": "stream",
     "text": [
      "Epoch 63, Loss: 0.12465859204530716\n"
     ]
    },
    {
     "name": "stderr",
     "output_type": "stream",
     "text": [
      "Training Progress:  32%|███▎      | 65/200 [00:09<00:17,  7.52it/s]"
     ]
    },
    {
     "name": "stdout",
     "output_type": "stream",
     "text": [
      "Epoch 64, Loss: 0.12416952848434448\n",
      "Epoch 65, Loss: 0.11111512035131454\n"
     ]
    },
    {
     "name": "stderr",
     "output_type": "stream",
     "text": [
      "Training Progress:  34%|███▎      | 67/200 [00:09<00:16,  8.22it/s]"
     ]
    },
    {
     "name": "stdout",
     "output_type": "stream",
     "text": [
      "Epoch 66, Loss: 0.10687465965747833\n",
      "Epoch 67, Loss: 0.11149969696998596\n"
     ]
    },
    {
     "name": "stderr",
     "output_type": "stream",
     "text": [
      "Training Progress:  34%|███▍      | 68/200 [00:09<00:15,  8.49it/s]"
     ]
    },
    {
     "name": "stdout",
     "output_type": "stream",
     "text": [
      "Epoch 68, Loss: 0.10608616471290588\n"
     ]
    },
    {
     "name": "stderr",
     "output_type": "stream",
     "text": [
      "Training Progress:  35%|███▌      | 70/200 [00:09<00:17,  7.48it/s]"
     ]
    },
    {
     "name": "stdout",
     "output_type": "stream",
     "text": [
      "Epoch 69, Loss: 0.10578081756830215\n",
      "Epoch 70, Loss: 0.09877876192331314\n"
     ]
    },
    {
     "name": "stderr",
     "output_type": "stream",
     "text": [
      "Training Progress:  36%|███▌      | 72/200 [00:10<00:15,  8.17it/s]"
     ]
    },
    {
     "name": "stdout",
     "output_type": "stream",
     "text": [
      "Epoch 71, Loss: 0.092127226293087\n",
      "Epoch 72, Loss: 0.08938117325305939\n"
     ]
    },
    {
     "name": "stderr",
     "output_type": "stream",
     "text": [
      "Training Progress:  36%|███▋      | 73/200 [00:10<00:15,  8.44it/s]"
     ]
    },
    {
     "name": "stdout",
     "output_type": "stream",
     "text": [
      "Epoch 73, Loss: 0.0918872058391571\n"
     ]
    },
    {
     "name": "stderr",
     "output_type": "stream",
     "text": [
      "Training Progress:  38%|███▊      | 75/200 [00:10<00:16,  7.43it/s]"
     ]
    },
    {
     "name": "stdout",
     "output_type": "stream",
     "text": [
      "Epoch 74, Loss: 0.08581650257110596\n",
      "Epoch 75, Loss: 0.0856994017958641\n"
     ]
    },
    {
     "name": "stderr",
     "output_type": "stream",
     "text": [
      "Training Progress:  38%|███▊      | 77/200 [00:10<00:14,  8.26it/s]"
     ]
    },
    {
     "name": "stdout",
     "output_type": "stream",
     "text": [
      "Epoch 76, Loss: 0.08611573278903961\n",
      "Epoch 77, Loss: 0.07665324956178665\n"
     ]
    },
    {
     "name": "stderr",
     "output_type": "stream",
     "text": [
      "Training Progress:  39%|███▉      | 78/200 [00:10<00:14,  8.51it/s]"
     ]
    },
    {
     "name": "stdout",
     "output_type": "stream",
     "text": [
      "Epoch 78, Loss: 0.08337391912937164\n"
     ]
    },
    {
     "name": "stderr",
     "output_type": "stream",
     "text": [
      "Training Progress:  40%|████      | 80/200 [00:11<00:16,  7.48it/s]"
     ]
    },
    {
     "name": "stdout",
     "output_type": "stream",
     "text": [
      "Epoch 79, Loss: 0.07727546989917755\n",
      "Epoch 80, Loss: 0.07395976036787033\n"
     ]
    },
    {
     "name": "stderr",
     "output_type": "stream",
     "text": [
      "Training Progress:  41%|████      | 82/200 [00:11<00:14,  8.23it/s]"
     ]
    },
    {
     "name": "stdout",
     "output_type": "stream",
     "text": [
      "Epoch 81, Loss: 0.07599018514156342\n",
      "Epoch 82, Loss: 0.07040078938007355\n"
     ]
    },
    {
     "name": "stderr",
     "output_type": "stream",
     "text": [
      "Training Progress:  42%|████▏     | 83/200 [00:11<00:13,  8.48it/s]"
     ]
    },
    {
     "name": "stdout",
     "output_type": "stream",
     "text": [
      "Epoch 83, Loss: 0.07118553668260574\n"
     ]
    },
    {
     "name": "stderr",
     "output_type": "stream",
     "text": [
      "Training Progress:  42%|████▎     | 85/200 [00:11<00:15,  7.46it/s]"
     ]
    },
    {
     "name": "stdout",
     "output_type": "stream",
     "text": [
      "Epoch 84, Loss: 0.07561086863279343\n",
      "Epoch 85, Loss: 0.07317838072776794\n"
     ]
    },
    {
     "name": "stderr",
     "output_type": "stream",
     "text": [
      "Training Progress:  44%|████▎     | 87/200 [00:11<00:13,  8.24it/s]"
     ]
    },
    {
     "name": "stdout",
     "output_type": "stream",
     "text": [
      "Epoch 86, Loss: 0.06793869286775589\n",
      "Epoch 87, Loss: 0.06646379828453064\n"
     ]
    },
    {
     "name": "stderr",
     "output_type": "stream",
     "text": [
      "Training Progress:  44%|████▍     | 88/200 [00:12<00:13,  8.38it/s]"
     ]
    },
    {
     "name": "stdout",
     "output_type": "stream",
     "text": [
      "Epoch 88, Loss: 0.06922707706689835\n"
     ]
    },
    {
     "name": "stderr",
     "output_type": "stream",
     "text": [
      "Training Progress:  45%|████▌     | 90/200 [00:12<00:14,  7.47it/s]"
     ]
    },
    {
     "name": "stdout",
     "output_type": "stream",
     "text": [
      "Epoch 89, Loss: 0.06948588788509369\n",
      "Epoch 90, Loss: 0.06648965924978256\n"
     ]
    },
    {
     "name": "stderr",
     "output_type": "stream",
     "text": [
      "Training Progress:  46%|████▌     | 92/200 [00:12<00:13,  8.24it/s]"
     ]
    },
    {
     "name": "stdout",
     "output_type": "stream",
     "text": [
      "Epoch 91, Loss: 0.06523572653532028\n",
      "Epoch 92, Loss: 0.06635776162147522\n"
     ]
    },
    {
     "name": "stderr",
     "output_type": "stream",
     "text": [
      "Training Progress:  46%|████▋     | 93/200 [00:12<00:12,  8.49it/s]"
     ]
    },
    {
     "name": "stdout",
     "output_type": "stream",
     "text": [
      "Epoch 93, Loss: 0.06492559611797333\n"
     ]
    },
    {
     "name": "stderr",
     "output_type": "stream",
     "text": [
      "Training Progress:  48%|████▊     | 95/200 [00:13<00:13,  7.52it/s]"
     ]
    },
    {
     "name": "stdout",
     "output_type": "stream",
     "text": [
      "Epoch 94, Loss: 0.06308520585298538\n",
      "Epoch 95, Loss: 0.06224924698472023\n"
     ]
    },
    {
     "name": "stderr",
     "output_type": "stream",
     "text": [
      "Training Progress:  48%|████▊     | 97/200 [00:13<00:12,  8.22it/s]"
     ]
    },
    {
     "name": "stdout",
     "output_type": "stream",
     "text": [
      "Epoch 96, Loss: 0.06429429352283478\n",
      "Epoch 97, Loss: 0.06103600934147835\n"
     ]
    },
    {
     "name": "stderr",
     "output_type": "stream",
     "text": [
      "Training Progress:  49%|████▉     | 98/200 [00:13<00:12,  8.47it/s]"
     ]
    },
    {
     "name": "stdout",
     "output_type": "stream",
     "text": [
      "Epoch 98, Loss: 0.06236238032579422\n"
     ]
    },
    {
     "name": "stderr",
     "output_type": "stream",
     "text": [
      "Training Progress:  50%|█████     | 100/200 [00:13<00:13,  7.44it/s]"
     ]
    },
    {
     "name": "stdout",
     "output_type": "stream",
     "text": [
      "Epoch 99, Loss: 0.06184686720371246\n",
      "Epoch 100, Loss: 0.06176575645804405\n"
     ]
    },
    {
     "name": "stderr",
     "output_type": "stream",
     "text": [
      "Training Progress:  51%|█████     | 102/200 [00:13<00:11,  8.27it/s]"
     ]
    },
    {
     "name": "stdout",
     "output_type": "stream",
     "text": [
      "Epoch 101, Loss: 0.06509344279766083\n",
      "Epoch 102, Loss: 0.055961593985557556\n"
     ]
    },
    {
     "name": "stderr",
     "output_type": "stream",
     "text": [
      "Training Progress:  52%|█████▏    | 103/200 [00:14<00:11,  8.50it/s]"
     ]
    },
    {
     "name": "stdout",
     "output_type": "stream",
     "text": [
      "Epoch 103, Loss: 0.06183828413486481\n"
     ]
    },
    {
     "name": "stderr",
     "output_type": "stream",
     "text": [
      "Training Progress:  52%|█████▎    | 105/200 [00:14<00:12,  7.44it/s]"
     ]
    },
    {
     "name": "stdout",
     "output_type": "stream",
     "text": [
      "Epoch 104, Loss: 0.05934746563434601\n",
      "Epoch 105, Loss: 0.0568401962518692\n"
     ]
    },
    {
     "name": "stderr",
     "output_type": "stream",
     "text": [
      "Training Progress:  54%|█████▎    | 107/200 [00:14<00:11,  8.27it/s]"
     ]
    },
    {
     "name": "stdout",
     "output_type": "stream",
     "text": [
      "Epoch 106, Loss: 0.056578606367111206\n",
      "Epoch 107, Loss: 0.06318898499011993\n"
     ]
    },
    {
     "name": "stderr",
     "output_type": "stream",
     "text": [
      "Training Progress:  54%|█████▍    | 108/200 [00:14<00:10,  8.54it/s]"
     ]
    },
    {
     "name": "stdout",
     "output_type": "stream",
     "text": [
      "Epoch 108, Loss: 0.06398270279169083\n"
     ]
    },
    {
     "name": "stderr",
     "output_type": "stream",
     "text": [
      "Training Progress:  55%|█████▌    | 110/200 [00:14<00:12,  7.49it/s]"
     ]
    },
    {
     "name": "stdout",
     "output_type": "stream",
     "text": [
      "Epoch 109, Loss: 0.058037497103214264\n",
      "Epoch 110, Loss: 0.06648072600364685\n"
     ]
    },
    {
     "name": "stderr",
     "output_type": "stream",
     "text": [
      "Training Progress:  56%|█████▌    | 112/200 [00:15<00:10,  8.16it/s]"
     ]
    },
    {
     "name": "stdout",
     "output_type": "stream",
     "text": [
      "Epoch 111, Loss: 0.056092314422130585\n",
      "Epoch 112, Loss: 0.06045781821012497\n"
     ]
    },
    {
     "name": "stderr",
     "output_type": "stream",
     "text": [
      "Training Progress:  56%|█████▋    | 113/200 [00:15<00:10,  8.42it/s]"
     ]
    },
    {
     "name": "stdout",
     "output_type": "stream",
     "text": [
      "Epoch 113, Loss: 0.05972164869308472\n"
     ]
    },
    {
     "name": "stderr",
     "output_type": "stream",
     "text": [
      "Training Progress:  57%|█████▊    | 115/200 [00:15<00:11,  7.47it/s]"
     ]
    },
    {
     "name": "stdout",
     "output_type": "stream",
     "text": [
      "Epoch 114, Loss: 0.05486926808953285\n",
      "Epoch 115, Loss: 0.05445085093379021\n"
     ]
    },
    {
     "name": "stderr",
     "output_type": "stream",
     "text": [
      "Training Progress:  58%|█████▊    | 117/200 [00:15<00:10,  8.28it/s]"
     ]
    },
    {
     "name": "stdout",
     "output_type": "stream",
     "text": [
      "Epoch 116, Loss: 0.05534204840660095\n",
      "Epoch 117, Loss: 0.05390399321913719\n"
     ]
    },
    {
     "name": "stderr",
     "output_type": "stream",
     "text": [
      "Training Progress:  59%|█████▉    | 118/200 [00:15<00:09,  8.55it/s]"
     ]
    },
    {
     "name": "stdout",
     "output_type": "stream",
     "text": [
      "Epoch 118, Loss: 0.05156257748603821\n"
     ]
    },
    {
     "name": "stderr",
     "output_type": "stream",
     "text": [
      "Training Progress:  60%|██████    | 120/200 [00:16<00:10,  7.43it/s]"
     ]
    },
    {
     "name": "stdout",
     "output_type": "stream",
     "text": [
      "Epoch 119, Loss: 0.054207488894462585\n",
      "Epoch 120, Loss: 0.052759889513254166\n"
     ]
    },
    {
     "name": "stderr",
     "output_type": "stream",
     "text": [
      "Training Progress:  61%|██████    | 122/200 [00:16<00:09,  8.17it/s]"
     ]
    },
    {
     "name": "stdout",
     "output_type": "stream",
     "text": [
      "Epoch 121, Loss: 0.0554325133562088\n",
      "Epoch 122, Loss: 0.054938867688179016\n"
     ]
    },
    {
     "name": "stderr",
     "output_type": "stream",
     "text": [
      "Training Progress:  62%|██████▏   | 123/200 [00:16<00:09,  8.46it/s]"
     ]
    },
    {
     "name": "stdout",
     "output_type": "stream",
     "text": [
      "Epoch 123, Loss: 0.050169412046670914\n"
     ]
    },
    {
     "name": "stderr",
     "output_type": "stream",
     "text": [
      "Training Progress:  62%|██████▎   | 125/200 [00:16<00:09,  7.51it/s]"
     ]
    },
    {
     "name": "stdout",
     "output_type": "stream",
     "text": [
      "Epoch 124, Loss: 0.049088530242443085\n",
      "Epoch 125, Loss: 0.05248687416315079\n"
     ]
    },
    {
     "name": "stderr",
     "output_type": "stream",
     "text": [
      "Training Progress:  64%|██████▎   | 127/200 [00:17<00:08,  8.27it/s]"
     ]
    },
    {
     "name": "stdout",
     "output_type": "stream",
     "text": [
      "Epoch 126, Loss: 0.05607309192419052\n",
      "Epoch 127, Loss: 0.05386054888367653\n"
     ]
    },
    {
     "name": "stderr",
     "output_type": "stream",
     "text": [
      "Training Progress:  64%|██████▍   | 128/200 [00:17<00:08,  8.40it/s]"
     ]
    },
    {
     "name": "stdout",
     "output_type": "stream",
     "text": [
      "Epoch 128, Loss: 0.047765329480171204\n"
     ]
    },
    {
     "name": "stderr",
     "output_type": "stream",
     "text": [
      "Training Progress:  65%|██████▌   | 130/200 [00:17<00:09,  7.44it/s]"
     ]
    },
    {
     "name": "stdout",
     "output_type": "stream",
     "text": [
      "Epoch 129, Loss: 0.050020620226860046\n",
      "Epoch 130, Loss: 0.050658874213695526\n"
     ]
    },
    {
     "name": "stderr",
     "output_type": "stream",
     "text": [
      "Training Progress:  66%|██████▌   | 132/200 [00:17<00:08,  8.22it/s]"
     ]
    },
    {
     "name": "stdout",
     "output_type": "stream",
     "text": [
      "Epoch 131, Loss: 0.05532991513609886\n",
      "Epoch 132, Loss: 0.051378291100263596\n"
     ]
    },
    {
     "name": "stderr",
     "output_type": "stream",
     "text": [
      "Training Progress:  66%|██████▋   | 133/200 [00:17<00:07,  8.49it/s]"
     ]
    },
    {
     "name": "stdout",
     "output_type": "stream",
     "text": [
      "Epoch 133, Loss: 0.05300726369023323\n"
     ]
    },
    {
     "name": "stderr",
     "output_type": "stream",
     "text": [
      "Training Progress:  68%|██████▊   | 135/200 [00:18<00:08,  7.45it/s]"
     ]
    },
    {
     "name": "stdout",
     "output_type": "stream",
     "text": [
      "Epoch 134, Loss: 0.05274936184287071\n",
      "Epoch 135, Loss: 0.05317256227135658\n"
     ]
    },
    {
     "name": "stderr",
     "output_type": "stream",
     "text": [
      "Training Progress:  68%|██████▊   | 137/200 [00:18<00:07,  8.27it/s]"
     ]
    },
    {
     "name": "stdout",
     "output_type": "stream",
     "text": [
      "Epoch 136, Loss: 0.05025073140859604\n",
      "Epoch 137, Loss: 0.0486728698015213\n"
     ]
    },
    {
     "name": "stderr",
     "output_type": "stream",
     "text": [
      "Training Progress:  69%|██████▉   | 138/200 [00:18<00:07,  8.52it/s]"
     ]
    },
    {
     "name": "stdout",
     "output_type": "stream",
     "text": [
      "Epoch 138, Loss: 0.05160260200500488\n"
     ]
    },
    {
     "name": "stderr",
     "output_type": "stream",
     "text": [
      "Training Progress:  70%|███████   | 140/200 [00:18<00:08,  7.42it/s]"
     ]
    },
    {
     "name": "stdout",
     "output_type": "stream",
     "text": [
      "Epoch 139, Loss: 0.04930621013045311\n",
      "Epoch 140, Loss: 0.04788510501384735\n"
     ]
    },
    {
     "name": "stderr",
     "output_type": "stream",
     "text": [
      "Training Progress:  71%|███████   | 142/200 [00:19<00:07,  8.24it/s]"
     ]
    },
    {
     "name": "stdout",
     "output_type": "stream",
     "text": [
      "Epoch 141, Loss: 0.050163839012384415\n",
      "Epoch 142, Loss: 0.04697822034358978\n"
     ]
    },
    {
     "name": "stderr",
     "output_type": "stream",
     "text": [
      "Training Progress:  72%|███████▏  | 143/200 [00:19<00:06,  8.49it/s]"
     ]
    },
    {
     "name": "stdout",
     "output_type": "stream",
     "text": [
      "Epoch 143, Loss: 0.04905080795288086\n"
     ]
    },
    {
     "name": "stderr",
     "output_type": "stream",
     "text": [
      "Training Progress:  72%|███████▎  | 145/200 [00:19<00:07,  7.45it/s]"
     ]
    },
    {
     "name": "stdout",
     "output_type": "stream",
     "text": [
      "Epoch 144, Loss: 0.05350249260663986\n",
      "Epoch 145, Loss: 0.04975640028715134\n"
     ]
    },
    {
     "name": "stderr",
     "output_type": "stream",
     "text": [
      "Training Progress:  74%|███████▎  | 147/200 [00:19<00:06,  8.25it/s]"
     ]
    },
    {
     "name": "stdout",
     "output_type": "stream",
     "text": [
      "Epoch 146, Loss: 0.0498315803706646\n",
      "Epoch 147, Loss: 0.04348865523934364\n"
     ]
    },
    {
     "name": "stderr",
     "output_type": "stream",
     "text": [
      "Training Progress:  74%|███████▍  | 148/200 [00:19<00:06,  8.53it/s]"
     ]
    },
    {
     "name": "stdout",
     "output_type": "stream",
     "text": [
      "Epoch 148, Loss: 0.048430100083351135\n"
     ]
    },
    {
     "name": "stderr",
     "output_type": "stream",
     "text": [
      "Training Progress:  75%|███████▌  | 150/200 [00:20<00:06,  7.50it/s]"
     ]
    },
    {
     "name": "stdout",
     "output_type": "stream",
     "text": [
      "Epoch 149, Loss: 0.04690152034163475\n",
      "Epoch 150, Loss: 0.04664359986782074\n"
     ]
    },
    {
     "name": "stderr",
     "output_type": "stream",
     "text": [
      "Training Progress:  76%|███████▌  | 152/200 [00:20<00:05,  8.29it/s]"
     ]
    },
    {
     "name": "stdout",
     "output_type": "stream",
     "text": [
      "Epoch 151, Loss: 0.05560546740889549\n",
      "Epoch 152, Loss: 0.048165708780288696\n"
     ]
    },
    {
     "name": "stderr",
     "output_type": "stream",
     "text": [
      "Training Progress:  76%|███████▋  | 153/200 [00:20<00:05,  8.52it/s]"
     ]
    },
    {
     "name": "stdout",
     "output_type": "stream",
     "text": [
      "Epoch 153, Loss: 0.048393987119197845\n"
     ]
    },
    {
     "name": "stderr",
     "output_type": "stream",
     "text": [
      "Training Progress:  78%|███████▊  | 155/200 [00:20<00:06,  7.42it/s]"
     ]
    },
    {
     "name": "stdout",
     "output_type": "stream",
     "text": [
      "Epoch 154, Loss: 0.049063462764024734\n",
      "Epoch 155, Loss: 0.04526162147521973\n"
     ]
    },
    {
     "name": "stderr",
     "output_type": "stream",
     "text": [
      "Training Progress:  78%|███████▊  | 157/200 [00:20<00:05,  8.17it/s]"
     ]
    },
    {
     "name": "stdout",
     "output_type": "stream",
     "text": [
      "Epoch 156, Loss: 0.05009601637721062\n",
      "Epoch 157, Loss: 0.04484699293971062\n"
     ]
    },
    {
     "name": "stderr",
     "output_type": "stream",
     "text": [
      "Training Progress:  79%|███████▉  | 158/200 [00:21<00:04,  8.43it/s]"
     ]
    },
    {
     "name": "stdout",
     "output_type": "stream",
     "text": [
      "Epoch 158, Loss: 0.04983343929052353\n"
     ]
    },
    {
     "name": "stderr",
     "output_type": "stream",
     "text": [
      "Training Progress:  80%|████████  | 160/200 [00:21<00:05,  7.35it/s]"
     ]
    },
    {
     "name": "stdout",
     "output_type": "stream",
     "text": [
      "Epoch 159, Loss: 0.047663673758506775\n",
      "Epoch 160, Loss: 0.04432050883769989\n"
     ]
    },
    {
     "name": "stderr",
     "output_type": "stream",
     "text": [
      "Training Progress:  81%|████████  | 162/200 [00:21<00:04,  8.15it/s]"
     ]
    },
    {
     "name": "stdout",
     "output_type": "stream",
     "text": [
      "Epoch 161, Loss: 0.049137264490127563\n",
      "Epoch 162, Loss: 0.05008848011493683\n"
     ]
    },
    {
     "name": "stderr",
     "output_type": "stream",
     "text": [
      "Training Progress:  82%|████████▏ | 163/200 [00:21<00:04,  8.42it/s]"
     ]
    },
    {
     "name": "stdout",
     "output_type": "stream",
     "text": [
      "Epoch 163, Loss: 0.04549910128116608\n"
     ]
    },
    {
     "name": "stderr",
     "output_type": "stream",
     "text": [
      "Training Progress:  82%|████████▎ | 165/200 [00:22<00:04,  7.49it/s]"
     ]
    },
    {
     "name": "stdout",
     "output_type": "stream",
     "text": [
      "Epoch 164, Loss: 0.04562351107597351\n",
      "Epoch 165, Loss: 0.04768240451812744\n"
     ]
    },
    {
     "name": "stderr",
     "output_type": "stream",
     "text": [
      "Training Progress:  83%|████████▎ | 166/200 [00:22<00:04,  7.45it/s]\n"
     ]
    },
    {
     "name": "stdout",
     "output_type": "stream",
     "text": [
      "Epoch 166, Loss: 0.04715947061777115\n",
      "Epoch 167, Loss: 0.044776685535907745\n",
      "Early stopping at epoch 167\n"
     ]
    },
    {
     "name": "stderr",
     "output_type": "stream",
     "text": [
      "Training Progress:   0%|          | 1/200 [00:00<00:23,  8.62it/s]"
     ]
    },
    {
     "name": "stdout",
     "output_type": "stream",
     "text": [
      "Epoch 1, Loss: 1.9999516010284424\n"
     ]
    },
    {
     "name": "stderr",
     "output_type": "stream",
     "text": [
      "Training Progress:   2%|▏         | 3/200 [00:00<00:28,  6.91it/s]"
     ]
    },
    {
     "name": "stdout",
     "output_type": "stream",
     "text": [
      "Epoch 2, Loss: 4.337494373321533\n",
      "Epoch 3, Loss: 1.524203896522522\n"
     ]
    },
    {
     "name": "stderr",
     "output_type": "stream",
     "text": [
      "Training Progress:   2%|▎         | 5/200 [00:00<00:24,  7.86it/s]"
     ]
    },
    {
     "name": "stdout",
     "output_type": "stream",
     "text": [
      "Epoch 4, Loss: 1.4566493034362793\n",
      "Epoch 5, Loss: 3.044597625732422\n"
     ]
    },
    {
     "name": "stderr",
     "output_type": "stream",
     "text": [
      "Training Progress:   3%|▎         | 6/200 [00:00<00:23,  8.19it/s]"
     ]
    },
    {
     "name": "stdout",
     "output_type": "stream",
     "text": [
      "Epoch 6, Loss: 2.2909295558929443\n"
     ]
    },
    {
     "name": "stderr",
     "output_type": "stream",
     "text": [
      "Training Progress:   4%|▍         | 8/200 [00:01<00:26,  7.18it/s]"
     ]
    },
    {
     "name": "stdout",
     "output_type": "stream",
     "text": [
      "Epoch 7, Loss: 2.2383992671966553\n",
      "Epoch 8, Loss: 1.4260671138763428\n"
     ]
    },
    {
     "name": "stderr",
     "output_type": "stream",
     "text": [
      "Training Progress:   5%|▌         | 10/200 [00:01<00:24,  7.87it/s]"
     ]
    },
    {
     "name": "stdout",
     "output_type": "stream",
     "text": [
      "Epoch 9, Loss: 2.971738815307617\n",
      "Epoch 10, Loss: 1.2709591388702393\n"
     ]
    },
    {
     "name": "stderr",
     "output_type": "stream",
     "text": [
      "Training Progress:   6%|▌         | 11/200 [00:01<00:23,  8.09it/s]"
     ]
    },
    {
     "name": "stdout",
     "output_type": "stream",
     "text": [
      "Epoch 11, Loss: 1.5897432565689087\n"
     ]
    },
    {
     "name": "stderr",
     "output_type": "stream",
     "text": [
      "Training Progress:   6%|▋         | 13/200 [00:01<00:25,  7.27it/s]"
     ]
    },
    {
     "name": "stdout",
     "output_type": "stream",
     "text": [
      "Epoch 12, Loss: 1.7619150876998901\n",
      "Epoch 13, Loss: 1.5702890157699585\n"
     ]
    },
    {
     "name": "stderr",
     "output_type": "stream",
     "text": [
      "Training Progress:   8%|▊         | 15/200 [00:01<00:22,  8.06it/s]"
     ]
    },
    {
     "name": "stdout",
     "output_type": "stream",
     "text": [
      "Epoch 14, Loss: 1.3815709352493286\n",
      "Epoch 15, Loss: 1.2931816577911377\n"
     ]
    },
    {
     "name": "stderr",
     "output_type": "stream",
     "text": [
      "Training Progress:   8%|▊         | 16/200 [00:02<00:22,  8.31it/s]"
     ]
    },
    {
     "name": "stdout",
     "output_type": "stream",
     "text": [
      "Epoch 16, Loss: 1.2996149063110352\n"
     ]
    },
    {
     "name": "stderr",
     "output_type": "stream",
     "text": [
      "Training Progress:   9%|▉         | 18/200 [00:02<00:24,  7.35it/s]"
     ]
    },
    {
     "name": "stdout",
     "output_type": "stream",
     "text": [
      "Epoch 17, Loss: 1.3564592599868774\n",
      "Epoch 18, Loss: 1.2737199068069458\n"
     ]
    },
    {
     "name": "stderr",
     "output_type": "stream",
     "text": [
      "Training Progress:  10%|█         | 20/200 [00:02<00:22,  8.13it/s]"
     ]
    },
    {
     "name": "stdout",
     "output_type": "stream",
     "text": [
      "Epoch 19, Loss: 1.1634953022003174\n",
      "Epoch 20, Loss: 1.146265983581543\n"
     ]
    },
    {
     "name": "stderr",
     "output_type": "stream",
     "text": [
      "Training Progress:  10%|█         | 21/200 [00:02<00:21,  8.24it/s]"
     ]
    },
    {
     "name": "stdout",
     "output_type": "stream",
     "text": [
      "Epoch 21, Loss: 1.12949800491333\n"
     ]
    },
    {
     "name": "stderr",
     "output_type": "stream",
     "text": [
      "Training Progress:  12%|█▏        | 23/200 [00:03<00:24,  7.27it/s]"
     ]
    },
    {
     "name": "stdout",
     "output_type": "stream",
     "text": [
      "Epoch 22, Loss: 1.172580361366272\n",
      "Epoch 23, Loss: 1.1385987997055054\n"
     ]
    },
    {
     "name": "stderr",
     "output_type": "stream",
     "text": [
      "Training Progress:  12%|█▎        | 25/200 [00:03<00:21,  8.04it/s]"
     ]
    },
    {
     "name": "stdout",
     "output_type": "stream",
     "text": [
      "Epoch 24, Loss: 1.1239733695983887\n",
      "Epoch 25, Loss: 1.09111487865448\n"
     ]
    },
    {
     "name": "stderr",
     "output_type": "stream",
     "text": [
      "Training Progress:  13%|█▎        | 26/200 [00:03<00:21,  8.17it/s]"
     ]
    },
    {
     "name": "stdout",
     "output_type": "stream",
     "text": [
      "Epoch 26, Loss: 1.0850938558578491\n"
     ]
    },
    {
     "name": "stderr",
     "output_type": "stream",
     "text": [
      "Training Progress:  14%|█▍        | 28/200 [00:03<00:23,  7.25it/s]"
     ]
    },
    {
     "name": "stdout",
     "output_type": "stream",
     "text": [
      "Epoch 27, Loss: 1.0232970714569092\n",
      "Epoch 28, Loss: 1.0130397081375122\n"
     ]
    },
    {
     "name": "stderr",
     "output_type": "stream",
     "text": [
      "Training Progress:  15%|█▌        | 30/200 [00:03<00:21,  8.00it/s]"
     ]
    },
    {
     "name": "stdout",
     "output_type": "stream",
     "text": [
      "Epoch 29, Loss: 0.9708678722381592\n",
      "Epoch 30, Loss: 0.9752405285835266\n"
     ]
    },
    {
     "name": "stderr",
     "output_type": "stream",
     "text": [
      "Training Progress:  16%|█▌        | 31/200 [00:04<00:20,  8.25it/s]"
     ]
    },
    {
     "name": "stdout",
     "output_type": "stream",
     "text": [
      "Epoch 31, Loss: 0.920958399772644\n"
     ]
    },
    {
     "name": "stderr",
     "output_type": "stream",
     "text": [
      "Training Progress:  16%|█▋        | 33/200 [00:04<00:22,  7.37it/s]"
     ]
    },
    {
     "name": "stdout",
     "output_type": "stream",
     "text": [
      "Epoch 32, Loss: 0.9068566560745239\n",
      "Epoch 33, Loss: 0.8663419485092163\n"
     ]
    },
    {
     "name": "stderr",
     "output_type": "stream",
     "text": [
      "Training Progress:  18%|█▊        | 35/200 [00:04<00:20,  8.02it/s]"
     ]
    },
    {
     "name": "stdout",
     "output_type": "stream",
     "text": [
      "Epoch 34, Loss: 0.8471171259880066\n",
      "Epoch 35, Loss: 0.8161116242408752\n"
     ]
    },
    {
     "name": "stderr",
     "output_type": "stream",
     "text": [
      "Training Progress:  18%|█▊        | 36/200 [00:04<00:20,  8.19it/s]"
     ]
    },
    {
     "name": "stdout",
     "output_type": "stream",
     "text": [
      "Epoch 36, Loss: 0.8034695386886597\n"
     ]
    },
    {
     "name": "stderr",
     "output_type": "stream",
     "text": [
      "Training Progress:  19%|█▉        | 38/200 [00:05<00:22,  7.31it/s]"
     ]
    },
    {
     "name": "stdout",
     "output_type": "stream",
     "text": [
      "Epoch 37, Loss: 0.7898659706115723\n",
      "Epoch 38, Loss: 0.7759367227554321\n"
     ]
    },
    {
     "name": "stderr",
     "output_type": "stream",
     "text": [
      "Training Progress:  20%|██        | 40/200 [00:05<00:19,  8.08it/s]"
     ]
    },
    {
     "name": "stdout",
     "output_type": "stream",
     "text": [
      "Epoch 39, Loss: 0.7685392498970032\n",
      "Epoch 40, Loss: 0.7292000651359558\n"
     ]
    },
    {
     "name": "stderr",
     "output_type": "stream",
     "text": [
      "Training Progress:  20%|██        | 41/200 [00:05<00:19,  8.35it/s]"
     ]
    },
    {
     "name": "stdout",
     "output_type": "stream",
     "text": [
      "Epoch 41, Loss: 0.7223179340362549\n"
     ]
    },
    {
     "name": "stderr",
     "output_type": "stream",
     "text": [
      "Training Progress:  22%|██▏       | 43/200 [00:05<00:21,  7.29it/s]"
     ]
    },
    {
     "name": "stdout",
     "output_type": "stream",
     "text": [
      "Epoch 42, Loss: 0.6978336572647095\n",
      "Epoch 43, Loss: 0.6623439788818359\n"
     ]
    },
    {
     "name": "stderr",
     "output_type": "stream",
     "text": [
      "Training Progress:  22%|██▎       | 45/200 [00:05<00:19,  8.07it/s]"
     ]
    },
    {
     "name": "stdout",
     "output_type": "stream",
     "text": [
      "Epoch 44, Loss: 0.6525153517723083\n",
      "Epoch 45, Loss: 0.6521598100662231\n"
     ]
    },
    {
     "name": "stderr",
     "output_type": "stream",
     "text": [
      "Training Progress:  23%|██▎       | 46/200 [00:06<00:18,  8.35it/s]"
     ]
    },
    {
     "name": "stdout",
     "output_type": "stream",
     "text": [
      "Epoch 46, Loss: 0.6402828097343445\n"
     ]
    },
    {
     "name": "stderr",
     "output_type": "stream",
     "text": [
      "Training Progress:  24%|██▍       | 48/200 [00:06<00:20,  7.35it/s]"
     ]
    },
    {
     "name": "stdout",
     "output_type": "stream",
     "text": [
      "Epoch 47, Loss: 0.6031734347343445\n",
      "Epoch 48, Loss: 0.6035065650939941\n"
     ]
    },
    {
     "name": "stderr",
     "output_type": "stream",
     "text": [
      "Training Progress:  25%|██▌       | 50/200 [00:06<00:18,  8.12it/s]"
     ]
    },
    {
     "name": "stdout",
     "output_type": "stream",
     "text": [
      "Epoch 49, Loss: 0.5979751348495483\n",
      "Epoch 50, Loss: 0.6257765889167786\n"
     ]
    },
    {
     "name": "stderr",
     "output_type": "stream",
     "text": [
      "Training Progress:  26%|██▌       | 51/200 [00:06<00:17,  8.29it/s]"
     ]
    },
    {
     "name": "stdout",
     "output_type": "stream",
     "text": [
      "Epoch 51, Loss: 0.6183034777641296\n"
     ]
    },
    {
     "name": "stderr",
     "output_type": "stream",
     "text": [
      "Training Progress:  26%|██▋       | 53/200 [00:07<00:20,  7.24it/s]"
     ]
    },
    {
     "name": "stdout",
     "output_type": "stream",
     "text": [
      "Epoch 52, Loss: 0.6302320957183838\n",
      "Epoch 53, Loss: 0.6035317778587341\n"
     ]
    },
    {
     "name": "stderr",
     "output_type": "stream",
     "text": [
      "Training Progress:  28%|██▊       | 55/200 [00:07<00:17,  8.07it/s]"
     ]
    },
    {
     "name": "stdout",
     "output_type": "stream",
     "text": [
      "Epoch 54, Loss: 0.5998950004577637\n",
      "Epoch 55, Loss: 0.6081214547157288\n"
     ]
    },
    {
     "name": "stderr",
     "output_type": "stream",
     "text": [
      "Training Progress:  28%|██▊       | 56/200 [00:07<00:17,  8.33it/s]"
     ]
    },
    {
     "name": "stdout",
     "output_type": "stream",
     "text": [
      "Epoch 56, Loss: 0.5872489809989929\n"
     ]
    },
    {
     "name": "stderr",
     "output_type": "stream",
     "text": [
      "Training Progress:  29%|██▉       | 58/200 [00:07<00:19,  7.38it/s]"
     ]
    },
    {
     "name": "stdout",
     "output_type": "stream",
     "text": [
      "Epoch 57, Loss: 0.5701995491981506\n",
      "Epoch 58, Loss: 0.5257999897003174\n"
     ]
    },
    {
     "name": "stderr",
     "output_type": "stream",
     "text": [
      "Training Progress:  30%|███       | 60/200 [00:07<00:17,  8.01it/s]"
     ]
    },
    {
     "name": "stdout",
     "output_type": "stream",
     "text": [
      "Epoch 59, Loss: 0.5015361905097961\n",
      "Epoch 60, Loss: 0.5006025433540344\n"
     ]
    },
    {
     "name": "stderr",
     "output_type": "stream",
     "text": [
      "Training Progress:  30%|███       | 61/200 [00:08<00:16,  8.29it/s]"
     ]
    },
    {
     "name": "stdout",
     "output_type": "stream",
     "text": [
      "Epoch 61, Loss: 0.4856654405593872\n"
     ]
    },
    {
     "name": "stderr",
     "output_type": "stream",
     "text": [
      "Training Progress:  32%|███▏      | 63/200 [00:08<00:18,  7.33it/s]"
     ]
    },
    {
     "name": "stdout",
     "output_type": "stream",
     "text": [
      "Epoch 62, Loss: 0.4520367383956909\n",
      "Epoch 63, Loss: 0.4505131244659424\n"
     ]
    },
    {
     "name": "stderr",
     "output_type": "stream",
     "text": [
      "Training Progress:  32%|███▎      | 65/200 [00:08<00:16,  8.05it/s]"
     ]
    },
    {
     "name": "stdout",
     "output_type": "stream",
     "text": [
      "Epoch 64, Loss: 0.44306764006614685\n",
      "Epoch 65, Loss: 0.42292213439941406\n"
     ]
    },
    {
     "name": "stderr",
     "output_type": "stream",
     "text": [
      "Training Progress:  33%|███▎      | 66/200 [00:08<00:16,  8.30it/s]"
     ]
    },
    {
     "name": "stdout",
     "output_type": "stream",
     "text": [
      "Epoch 66, Loss: 0.41632822155952454\n"
     ]
    },
    {
     "name": "stderr",
     "output_type": "stream",
     "text": [
      "Training Progress:  34%|███▍      | 68/200 [00:09<00:18,  7.28it/s]"
     ]
    },
    {
     "name": "stdout",
     "output_type": "stream",
     "text": [
      "Epoch 67, Loss: 0.41661545634269714\n",
      "Epoch 68, Loss: 0.4265749156475067\n"
     ]
    },
    {
     "name": "stderr",
     "output_type": "stream",
     "text": [
      "Training Progress:  35%|███▌      | 70/200 [00:09<00:16,  8.04it/s]"
     ]
    },
    {
     "name": "stdout",
     "output_type": "stream",
     "text": [
      "Epoch 69, Loss: 0.42488840222358704\n",
      "Epoch 70, Loss: 0.4284742474555969\n"
     ]
    },
    {
     "name": "stderr",
     "output_type": "stream",
     "text": [
      "Training Progress:  36%|███▌      | 71/200 [00:09<00:15,  8.23it/s]"
     ]
    },
    {
     "name": "stdout",
     "output_type": "stream",
     "text": [
      "Epoch 71, Loss: 0.40397197008132935\n"
     ]
    },
    {
     "name": "stderr",
     "output_type": "stream",
     "text": [
      "Training Progress:  36%|███▋      | 73/200 [00:09<00:17,  7.32it/s]"
     ]
    },
    {
     "name": "stdout",
     "output_type": "stream",
     "text": [
      "Epoch 72, Loss: 0.4194675087928772\n",
      "Epoch 73, Loss: 0.41475793719291687\n"
     ]
    },
    {
     "name": "stderr",
     "output_type": "stream",
     "text": [
      "Training Progress:  38%|███▊      | 75/200 [00:09<00:15,  8.04it/s]"
     ]
    },
    {
     "name": "stdout",
     "output_type": "stream",
     "text": [
      "Epoch 74, Loss: 0.4196915626525879\n",
      "Epoch 75, Loss: 0.3901519775390625\n"
     ]
    },
    {
     "name": "stderr",
     "output_type": "stream",
     "text": [
      "Training Progress:  38%|███▊      | 76/200 [00:10<00:15,  8.23it/s]"
     ]
    },
    {
     "name": "stdout",
     "output_type": "stream",
     "text": [
      "Epoch 76, Loss: 0.42292630672454834\n"
     ]
    },
    {
     "name": "stderr",
     "output_type": "stream",
     "text": [
      "Training Progress:  39%|███▉      | 78/200 [00:10<00:16,  7.29it/s]"
     ]
    },
    {
     "name": "stdout",
     "output_type": "stream",
     "text": [
      "Epoch 77, Loss: 0.38428202271461487\n",
      "Epoch 78, Loss: 0.4056985080242157\n"
     ]
    },
    {
     "name": "stderr",
     "output_type": "stream",
     "text": [
      "Training Progress:  40%|████      | 80/200 [00:10<00:14,  8.07it/s]"
     ]
    },
    {
     "name": "stdout",
     "output_type": "stream",
     "text": [
      "Epoch 79, Loss: 0.39972221851348877\n",
      "Epoch 80, Loss: 0.37710994482040405\n"
     ]
    },
    {
     "name": "stderr",
     "output_type": "stream",
     "text": [
      "Training Progress:  40%|████      | 81/200 [00:10<00:14,  8.27it/s]"
     ]
    },
    {
     "name": "stdout",
     "output_type": "stream",
     "text": [
      "Epoch 81, Loss: 0.3918963372707367\n"
     ]
    },
    {
     "name": "stderr",
     "output_type": "stream",
     "text": [
      "Training Progress:  42%|████▏     | 83/200 [00:10<00:16,  7.25it/s]"
     ]
    },
    {
     "name": "stdout",
     "output_type": "stream",
     "text": [
      "Epoch 82, Loss: 0.35815465450286865\n",
      "Epoch 83, Loss: 0.3618629574775696\n"
     ]
    },
    {
     "name": "stderr",
     "output_type": "stream",
     "text": [
      "Training Progress:  42%|████▎     | 85/200 [00:11<00:14,  7.95it/s]"
     ]
    },
    {
     "name": "stdout",
     "output_type": "stream",
     "text": [
      "Epoch 84, Loss: 0.3887386918067932\n",
      "Epoch 85, Loss: 0.3603391945362091\n"
     ]
    },
    {
     "name": "stderr",
     "output_type": "stream",
     "text": [
      "Training Progress:  43%|████▎     | 86/200 [00:11<00:14,  8.09it/s]"
     ]
    },
    {
     "name": "stdout",
     "output_type": "stream",
     "text": [
      "Epoch 86, Loss: 0.36242833733558655\n"
     ]
    },
    {
     "name": "stderr",
     "output_type": "stream",
     "text": [
      "Training Progress:  44%|████▍     | 88/200 [00:11<00:15,  7.13it/s]"
     ]
    },
    {
     "name": "stdout",
     "output_type": "stream",
     "text": [
      "Epoch 87, Loss: 0.351130872964859\n",
      "Epoch 88, Loss: 0.35017475485801697\n"
     ]
    },
    {
     "name": "stderr",
     "output_type": "stream",
     "text": [
      "Training Progress:  45%|████▌     | 90/200 [00:11<00:13,  7.97it/s]"
     ]
    },
    {
     "name": "stdout",
     "output_type": "stream",
     "text": [
      "Epoch 89, Loss: 0.35988807678222656\n",
      "Epoch 90, Loss: 0.3487335443496704\n"
     ]
    },
    {
     "name": "stderr",
     "output_type": "stream",
     "text": [
      "Training Progress:  46%|████▌     | 91/200 [00:12<00:13,  8.25it/s]"
     ]
    },
    {
     "name": "stdout",
     "output_type": "stream",
     "text": [
      "Epoch 91, Loss: 0.3528640866279602\n"
     ]
    },
    {
     "name": "stderr",
     "output_type": "stream",
     "text": [
      "Training Progress:  46%|████▋     | 93/200 [00:12<00:14,  7.25it/s]"
     ]
    },
    {
     "name": "stdout",
     "output_type": "stream",
     "text": [
      "Epoch 92, Loss: 0.35164880752563477\n",
      "Epoch 93, Loss: 0.3510408401489258\n"
     ]
    },
    {
     "name": "stderr",
     "output_type": "stream",
     "text": [
      "Training Progress:  48%|████▊     | 95/200 [00:12<00:13,  7.99it/s]"
     ]
    },
    {
     "name": "stdout",
     "output_type": "stream",
     "text": [
      "Epoch 94, Loss: 0.33889657258987427\n",
      "Epoch 95, Loss: 0.33757132291793823\n"
     ]
    },
    {
     "name": "stderr",
     "output_type": "stream",
     "text": [
      "Training Progress:  48%|████▊     | 96/200 [00:12<00:12,  8.21it/s]"
     ]
    },
    {
     "name": "stdout",
     "output_type": "stream",
     "text": [
      "Epoch 96, Loss: 0.33617374300956726\n"
     ]
    },
    {
     "name": "stderr",
     "output_type": "stream",
     "text": [
      "Training Progress:  49%|████▉     | 98/200 [00:12<00:14,  7.27it/s]"
     ]
    },
    {
     "name": "stdout",
     "output_type": "stream",
     "text": [
      "Epoch 97, Loss: 0.32529568672180176\n",
      "Epoch 98, Loss: 0.33718225359916687\n"
     ]
    },
    {
     "name": "stderr",
     "output_type": "stream",
     "text": [
      "Training Progress:  50%|█████     | 100/200 [00:13<00:12,  7.91it/s]"
     ]
    },
    {
     "name": "stdout",
     "output_type": "stream",
     "text": [
      "Epoch 99, Loss: 0.3303123116493225\n",
      "Epoch 100, Loss: 0.3379436433315277\n"
     ]
    },
    {
     "name": "stderr",
     "output_type": "stream",
     "text": [
      "Training Progress:  50%|█████     | 101/200 [00:13<00:12,  8.07it/s]"
     ]
    },
    {
     "name": "stdout",
     "output_type": "stream",
     "text": [
      "Epoch 101, Loss: 0.32654455304145813\n"
     ]
    },
    {
     "name": "stderr",
     "output_type": "stream",
     "text": [
      "Training Progress:  52%|█████▏    | 103/200 [00:13<00:13,  7.15it/s]"
     ]
    },
    {
     "name": "stdout",
     "output_type": "stream",
     "text": [
      "Epoch 102, Loss: 0.3265248239040375\n",
      "Epoch 103, Loss: 0.31794092059135437\n"
     ]
    },
    {
     "name": "stderr",
     "output_type": "stream",
     "text": [
      "Training Progress:  52%|█████▎    | 105/200 [00:13<00:11,  7.98it/s]"
     ]
    },
    {
     "name": "stdout",
     "output_type": "stream",
     "text": [
      "Epoch 104, Loss: 0.3243792951107025\n",
      "Epoch 105, Loss: 0.324476420879364\n"
     ]
    },
    {
     "name": "stderr",
     "output_type": "stream",
     "text": [
      "Training Progress:  53%|█████▎    | 106/200 [00:14<00:11,  8.22it/s]"
     ]
    },
    {
     "name": "stdout",
     "output_type": "stream",
     "text": [
      "Epoch 106, Loss: 0.3191491663455963\n"
     ]
    },
    {
     "name": "stderr",
     "output_type": "stream",
     "text": [
      "Training Progress:  54%|█████▍    | 108/200 [00:14<00:12,  7.34it/s]"
     ]
    },
    {
     "name": "stdout",
     "output_type": "stream",
     "text": [
      "Epoch 107, Loss: 0.32426273822784424\n",
      "Epoch 108, Loss: 0.31948599219322205\n"
     ]
    },
    {
     "name": "stderr",
     "output_type": "stream",
     "text": [
      "Training Progress:  55%|█████▌    | 110/200 [00:14<00:11,  8.11it/s]"
     ]
    },
    {
     "name": "stdout",
     "output_type": "stream",
     "text": [
      "Epoch 109, Loss: 0.3230257034301758\n",
      "Epoch 110, Loss: 0.31974849104881287\n"
     ]
    },
    {
     "name": "stderr",
     "output_type": "stream",
     "text": [
      "Training Progress:  56%|█████▌    | 111/200 [00:14<00:10,  8.27it/s]"
     ]
    },
    {
     "name": "stdout",
     "output_type": "stream",
     "text": [
      "Epoch 111, Loss: 0.30272024869918823\n"
     ]
    },
    {
     "name": "stderr",
     "output_type": "stream",
     "text": [
      "Training Progress:  56%|█████▋    | 113/200 [00:14<00:11,  7.26it/s]"
     ]
    },
    {
     "name": "stdout",
     "output_type": "stream",
     "text": [
      "Epoch 112, Loss: 0.30301254987716675\n",
      "Epoch 113, Loss: 0.3083300292491913\n"
     ]
    },
    {
     "name": "stderr",
     "output_type": "stream",
     "text": [
      "Training Progress:  57%|█████▊    | 115/200 [00:15<00:10,  8.01it/s]"
     ]
    },
    {
     "name": "stdout",
     "output_type": "stream",
     "text": [
      "Epoch 114, Loss: 0.3007623255252838\n",
      "Epoch 115, Loss: 0.2932319641113281\n"
     ]
    },
    {
     "name": "stderr",
     "output_type": "stream",
     "text": [
      "Training Progress:  58%|█████▊    | 116/200 [00:15<00:10,  8.27it/s]"
     ]
    },
    {
     "name": "stdout",
     "output_type": "stream",
     "text": [
      "Epoch 116, Loss: 0.30365678668022156\n"
     ]
    },
    {
     "name": "stderr",
     "output_type": "stream",
     "text": [
      "Training Progress:  59%|█████▉    | 118/200 [00:15<00:11,  7.29it/s]"
     ]
    },
    {
     "name": "stdout",
     "output_type": "stream",
     "text": [
      "Epoch 117, Loss: 0.29914212226867676\n",
      "Epoch 118, Loss: 0.29768994450569153\n"
     ]
    },
    {
     "name": "stderr",
     "output_type": "stream",
     "text": [
      "Training Progress:  60%|██████    | 120/200 [00:15<00:10,  7.97it/s]"
     ]
    },
    {
     "name": "stdout",
     "output_type": "stream",
     "text": [
      "Epoch 119, Loss: 0.28943201899528503\n",
      "Epoch 120, Loss: 0.2792482078075409\n"
     ]
    },
    {
     "name": "stderr",
     "output_type": "stream",
     "text": [
      "Training Progress:  60%|██████    | 121/200 [00:15<00:09,  8.26it/s]"
     ]
    },
    {
     "name": "stdout",
     "output_type": "stream",
     "text": [
      "Epoch 121, Loss: 0.2776983976364136\n"
     ]
    },
    {
     "name": "stderr",
     "output_type": "stream",
     "text": [
      "Training Progress:  62%|██████▏   | 123/200 [00:16<00:10,  7.27it/s]"
     ]
    },
    {
     "name": "stdout",
     "output_type": "stream",
     "text": [
      "Epoch 122, Loss: 0.26750898361206055\n",
      "Epoch 123, Loss: 0.2712801396846771\n"
     ]
    },
    {
     "name": "stderr",
     "output_type": "stream",
     "text": [
      "Training Progress:  62%|██████▎   | 125/200 [00:16<00:09,  7.90it/s]"
     ]
    },
    {
     "name": "stdout",
     "output_type": "stream",
     "text": [
      "Epoch 124, Loss: 0.2652173340320587\n",
      "Epoch 125, Loss: 0.2664148211479187\n"
     ]
    },
    {
     "name": "stderr",
     "output_type": "stream",
     "text": [
      "Training Progress:  63%|██████▎   | 126/200 [00:16<00:09,  8.21it/s]"
     ]
    },
    {
     "name": "stdout",
     "output_type": "stream",
     "text": [
      "Epoch 126, Loss: 0.25905492901802063\n"
     ]
    },
    {
     "name": "stderr",
     "output_type": "stream",
     "text": [
      "Training Progress:  64%|██████▍   | 128/200 [00:16<00:09,  7.28it/s]"
     ]
    },
    {
     "name": "stdout",
     "output_type": "stream",
     "text": [
      "Epoch 127, Loss: 0.26856374740600586\n",
      "Epoch 128, Loss: 0.24744759500026703\n"
     ]
    },
    {
     "name": "stderr",
     "output_type": "stream",
     "text": [
      "Training Progress:  65%|██████▌   | 130/200 [00:17<00:08,  8.03it/s]"
     ]
    },
    {
     "name": "stdout",
     "output_type": "stream",
     "text": [
      "Epoch 129, Loss: 0.24472706019878387\n",
      "Epoch 130, Loss: 0.2536908984184265\n"
     ]
    },
    {
     "name": "stderr",
     "output_type": "stream",
     "text": [
      "Training Progress:  66%|██████▌   | 131/200 [00:17<00:08,  8.15it/s]"
     ]
    },
    {
     "name": "stdout",
     "output_type": "stream",
     "text": [
      "Epoch 131, Loss: 0.2957623600959778\n"
     ]
    },
    {
     "name": "stderr",
     "output_type": "stream",
     "text": [
      "Training Progress:  66%|██████▋   | 133/200 [00:17<00:09,  7.31it/s]"
     ]
    },
    {
     "name": "stdout",
     "output_type": "stream",
     "text": [
      "Epoch 132, Loss: 0.29743117094039917\n",
      "Epoch 133, Loss: 0.27367132902145386\n"
     ]
    },
    {
     "name": "stderr",
     "output_type": "stream",
     "text": [
      "Training Progress:  68%|██████▊   | 135/200 [00:17<00:08,  8.06it/s]"
     ]
    },
    {
     "name": "stdout",
     "output_type": "stream",
     "text": [
      "Epoch 134, Loss: 0.2874687612056732\n",
      "Epoch 135, Loss: 0.3128950595855713\n"
     ]
    },
    {
     "name": "stderr",
     "output_type": "stream",
     "text": [
      "Training Progress:  68%|██████▊   | 136/200 [00:17<00:07,  8.30it/s]"
     ]
    },
    {
     "name": "stdout",
     "output_type": "stream",
     "text": [
      "Epoch 136, Loss: 0.2947370707988739\n"
     ]
    },
    {
     "name": "stderr",
     "output_type": "stream",
     "text": [
      "Training Progress:  69%|██████▉   | 138/200 [00:18<00:08,  7.35it/s]"
     ]
    },
    {
     "name": "stdout",
     "output_type": "stream",
     "text": [
      "Epoch 137, Loss: 0.2756445109844208\n",
      "Epoch 138, Loss: 0.27042463421821594\n"
     ]
    },
    {
     "name": "stderr",
     "output_type": "stream",
     "text": [
      "Training Progress:  70%|███████   | 140/200 [00:18<00:07,  8.12it/s]"
     ]
    },
    {
     "name": "stdout",
     "output_type": "stream",
     "text": [
      "Epoch 139, Loss: 0.26482176780700684\n",
      "Epoch 140, Loss: 0.25665462017059326\n"
     ]
    },
    {
     "name": "stderr",
     "output_type": "stream",
     "text": [
      "Training Progress:  70%|███████   | 141/200 [00:18<00:07,  8.35it/s]"
     ]
    },
    {
     "name": "stdout",
     "output_type": "stream",
     "text": [
      "Epoch 141, Loss: 0.2511240839958191\n"
     ]
    },
    {
     "name": "stderr",
     "output_type": "stream",
     "text": [
      "Training Progress:  72%|███████▏  | 143/200 [00:18<00:07,  7.28it/s]"
     ]
    },
    {
     "name": "stdout",
     "output_type": "stream",
     "text": [
      "Epoch 142, Loss: 0.24048839509487152\n",
      "Epoch 143, Loss: 0.22027654945850372\n"
     ]
    },
    {
     "name": "stderr",
     "output_type": "stream",
     "text": [
      "Training Progress:  72%|███████▎  | 145/200 [00:19<00:06,  7.95it/s]"
     ]
    },
    {
     "name": "stdout",
     "output_type": "stream",
     "text": [
      "Epoch 144, Loss: 0.22534507513046265\n",
      "Epoch 145, Loss: 0.21714608371257782\n"
     ]
    },
    {
     "name": "stderr",
     "output_type": "stream",
     "text": [
      "Training Progress:  73%|███████▎  | 146/200 [00:19<00:06,  8.13it/s]"
     ]
    },
    {
     "name": "stdout",
     "output_type": "stream",
     "text": [
      "Epoch 146, Loss: 0.2169678509235382\n"
     ]
    },
    {
     "name": "stderr",
     "output_type": "stream",
     "text": [
      "Training Progress:  74%|███████▍  | 148/200 [00:19<00:07,  7.18it/s]"
     ]
    },
    {
     "name": "stdout",
     "output_type": "stream",
     "text": [
      "Epoch 147, Loss: 0.2155901938676834\n",
      "Epoch 148, Loss: 0.21302223205566406\n"
     ]
    },
    {
     "name": "stderr",
     "output_type": "stream",
     "text": [
      "Training Progress:  75%|███████▌  | 150/200 [00:19<00:06,  7.92it/s]"
     ]
    },
    {
     "name": "stdout",
     "output_type": "stream",
     "text": [
      "Epoch 149, Loss: 0.19422391057014465\n",
      "Epoch 150, Loss: 0.21964363753795624\n"
     ]
    },
    {
     "name": "stderr",
     "output_type": "stream",
     "text": [
      "Training Progress:  76%|███████▌  | 151/200 [00:19<00:06,  8.11it/s]"
     ]
    },
    {
     "name": "stdout",
     "output_type": "stream",
     "text": [
      "Epoch 151, Loss: 0.22476153075695038\n"
     ]
    },
    {
     "name": "stderr",
     "output_type": "stream",
     "text": [
      "Training Progress:  76%|███████▋  | 153/200 [00:20<00:06,  7.28it/s]"
     ]
    },
    {
     "name": "stdout",
     "output_type": "stream",
     "text": [
      "Epoch 152, Loss: 0.21024417877197266\n",
      "Epoch 153, Loss: 0.20224541425704956\n"
     ]
    },
    {
     "name": "stderr",
     "output_type": "stream",
     "text": [
      "Training Progress:  78%|███████▊  | 155/200 [00:20<00:05,  7.85it/s]"
     ]
    },
    {
     "name": "stdout",
     "output_type": "stream",
     "text": [
      "Epoch 154, Loss: 0.2236177921295166\n",
      "Epoch 155, Loss: 0.214665487408638\n"
     ]
    },
    {
     "name": "stderr",
     "output_type": "stream",
     "text": [
      "Training Progress:  78%|███████▊  | 156/200 [00:20<00:05,  8.17it/s]"
     ]
    },
    {
     "name": "stdout",
     "output_type": "stream",
     "text": [
      "Epoch 156, Loss: 0.20952250063419342\n"
     ]
    },
    {
     "name": "stderr",
     "output_type": "stream",
     "text": [
      "Training Progress:  79%|███████▉  | 158/200 [00:20<00:05,  7.23it/s]"
     ]
    },
    {
     "name": "stdout",
     "output_type": "stream",
     "text": [
      "Epoch 157, Loss: 0.2056395262479782\n",
      "Epoch 158, Loss: 0.18669232726097107\n"
     ]
    },
    {
     "name": "stderr",
     "output_type": "stream",
     "text": [
      "Training Progress:  80%|████████  | 160/200 [00:21<00:05,  7.90it/s]"
     ]
    },
    {
     "name": "stdout",
     "output_type": "stream",
     "text": [
      "Epoch 159, Loss: 0.18730776011943817\n",
      "Epoch 160, Loss: 0.19331125915050507\n"
     ]
    },
    {
     "name": "stderr",
     "output_type": "stream",
     "text": [
      "Training Progress:  80%|████████  | 161/200 [00:21<00:04,  8.22it/s]"
     ]
    },
    {
     "name": "stdout",
     "output_type": "stream",
     "text": [
      "Epoch 161, Loss: 0.20351828634738922\n"
     ]
    },
    {
     "name": "stderr",
     "output_type": "stream",
     "text": [
      "Training Progress:  82%|████████▏ | 163/200 [00:21<00:05,  7.24it/s]"
     ]
    },
    {
     "name": "stdout",
     "output_type": "stream",
     "text": [
      "Epoch 162, Loss: 0.19247733056545258\n",
      "Epoch 163, Loss: 0.1879175454378128\n"
     ]
    },
    {
     "name": "stderr",
     "output_type": "stream",
     "text": [
      "Training Progress:  82%|████████▎ | 165/200 [00:21<00:04,  8.03it/s]"
     ]
    },
    {
     "name": "stdout",
     "output_type": "stream",
     "text": [
      "Epoch 164, Loss: 0.19777658581733704\n",
      "Epoch 165, Loss: 0.16973164677619934\n"
     ]
    },
    {
     "name": "stderr",
     "output_type": "stream",
     "text": [
      "Training Progress:  83%|████████▎ | 166/200 [00:21<00:04,  8.18it/s]"
     ]
    },
    {
     "name": "stdout",
     "output_type": "stream",
     "text": [
      "Epoch 166, Loss: 0.17269520461559296\n"
     ]
    },
    {
     "name": "stderr",
     "output_type": "stream",
     "text": [
      "Training Progress:  84%|████████▍ | 168/200 [00:22<00:04,  7.29it/s]"
     ]
    },
    {
     "name": "stdout",
     "output_type": "stream",
     "text": [
      "Epoch 167, Loss: 0.1699836254119873\n",
      "Epoch 168, Loss: 0.16082099080085754\n"
     ]
    },
    {
     "name": "stderr",
     "output_type": "stream",
     "text": [
      "Training Progress:  85%|████████▌ | 170/200 [00:22<00:03,  8.09it/s]"
     ]
    },
    {
     "name": "stdout",
     "output_type": "stream",
     "text": [
      "Epoch 169, Loss: 0.15654197335243225\n",
      "Epoch 170, Loss: 0.16266924142837524\n"
     ]
    },
    {
     "name": "stderr",
     "output_type": "stream",
     "text": [
      "Training Progress:  86%|████████▌ | 171/200 [00:22<00:03,  8.35it/s]"
     ]
    },
    {
     "name": "stdout",
     "output_type": "stream",
     "text": [
      "Epoch 171, Loss: 0.17528818547725677\n"
     ]
    },
    {
     "name": "stderr",
     "output_type": "stream",
     "text": [
      "Training Progress:  86%|████████▋ | 173/200 [00:22<00:03,  7.32it/s]"
     ]
    },
    {
     "name": "stdout",
     "output_type": "stream",
     "text": [
      "Epoch 172, Loss: 0.17443248629570007\n",
      "Epoch 173, Loss: 0.15959620475769043\n"
     ]
    },
    {
     "name": "stderr",
     "output_type": "stream",
     "text": [
      "Training Progress:  88%|████████▊ | 175/200 [00:23<00:03,  7.93it/s]"
     ]
    },
    {
     "name": "stdout",
     "output_type": "stream",
     "text": [
      "Epoch 174, Loss: 0.19004599750041962\n",
      "Epoch 175, Loss: 0.17844609916210175\n"
     ]
    },
    {
     "name": "stderr",
     "output_type": "stream",
     "text": [
      "Training Progress:  88%|████████▊ | 176/200 [00:23<00:02,  8.09it/s]"
     ]
    },
    {
     "name": "stdout",
     "output_type": "stream",
     "text": [
      "Epoch 176, Loss: 0.20234698057174683\n"
     ]
    },
    {
     "name": "stderr",
     "output_type": "stream",
     "text": [
      "Training Progress:  89%|████████▉ | 178/200 [00:23<00:03,  7.21it/s]"
     ]
    },
    {
     "name": "stdout",
     "output_type": "stream",
     "text": [
      "Epoch 177, Loss: 0.20413735508918762\n",
      "Epoch 178, Loss: 0.23364749550819397\n"
     ]
    },
    {
     "name": "stderr",
     "output_type": "stream",
     "text": [
      "Training Progress:  90%|█████████ | 180/200 [00:23<00:02,  8.00it/s]"
     ]
    },
    {
     "name": "stdout",
     "output_type": "stream",
     "text": [
      "Epoch 179, Loss: 0.1901322901248932\n",
      "Epoch 180, Loss: 0.2352316677570343\n"
     ]
    },
    {
     "name": "stderr",
     "output_type": "stream",
     "text": [
      "Training Progress:  90%|█████████ | 181/200 [00:23<00:02,  8.18it/s]"
     ]
    },
    {
     "name": "stdout",
     "output_type": "stream",
     "text": [
      "Epoch 181, Loss: 0.22354261577129364\n"
     ]
    },
    {
     "name": "stderr",
     "output_type": "stream",
     "text": [
      "Training Progress:  92%|█████████▏| 183/200 [00:24<00:02,  7.29it/s]"
     ]
    },
    {
     "name": "stdout",
     "output_type": "stream",
     "text": [
      "Epoch 182, Loss: 0.24566051363945007\n",
      "Epoch 183, Loss: 0.2099277675151825\n"
     ]
    },
    {
     "name": "stderr",
     "output_type": "stream",
     "text": [
      "Training Progress:  92%|█████████▎| 185/200 [00:24<00:01,  8.03it/s]"
     ]
    },
    {
     "name": "stdout",
     "output_type": "stream",
     "text": [
      "Epoch 184, Loss: 0.3504524230957031\n",
      "Epoch 185, Loss: 0.21602559089660645\n"
     ]
    },
    {
     "name": "stderr",
     "output_type": "stream",
     "text": [
      "Training Progress:  93%|█████████▎| 186/200 [00:24<00:01,  8.23it/s]"
     ]
    },
    {
     "name": "stdout",
     "output_type": "stream",
     "text": [
      "Epoch 186, Loss: 0.28905385732650757\n"
     ]
    },
    {
     "name": "stderr",
     "output_type": "stream",
     "text": [
      "Training Progress:  94%|█████████▍| 188/200 [00:24<00:01,  7.29it/s]"
     ]
    },
    {
     "name": "stdout",
     "output_type": "stream",
     "text": [
      "Epoch 187, Loss: 0.21819478273391724\n",
      "Epoch 188, Loss: 0.21753206849098206\n"
     ]
    },
    {
     "name": "stderr",
     "output_type": "stream",
     "text": [
      "Training Progress:  94%|█████████▍| 188/200 [00:25<00:01,  7.51it/s]"
     ]
    },
    {
     "name": "stdout",
     "output_type": "stream",
     "text": [
      "Epoch 189, Loss: 0.20613722503185272\n",
      "Early stopping at epoch 189\n"
     ]
    },
    {
     "name": "stderr",
     "output_type": "stream",
     "text": [
      "\n"
     ]
    }
   ],
   "source": [
    "z_gcn = train_model(model_gcn, data, optimizer_gcn, num_epochs=200, patience=20)\n",
    "z_gat = train_model(model_gat, data, optimizer_gat, num_epochs=200, patience=20)"
   ]
  },
  {
   "cell_type": "code",
   "execution_count": 42,
   "metadata": {},
   "outputs": [],
   "source": [
    "def save_embeddings(z, emb, output_path, model_name=\"model\"):\n",
    "    \"\"\"\n",
    "    학습된 임베딩을 CSV 파일로 저장하는 함수.\n",
    "\n",
    "    Args:\n",
    "        z (torch.Tensor): 학습된 임베딩 (노드 임베딩).\n",
    "        emb (pd.DataFrame): 원본 데이터프레임 (ADM_NM 열 포함).\n",
    "        output_path (str): 저장할 CSV 파일 경로.\n",
    "        model_name (str): 임베딩 컬럼에 추가할 모델 이름 접두사 (예: \"GCN\", \"GAT\").\n",
    "\n",
    "    Returns:\n",
    "        None\n",
    "    \"\"\"\n",
    "    # GPU 텐서를 NumPy 배열로 변환\n",
    "    z_numpy = z.detach().cpu().numpy()\n",
    "\n",
    "    # 새로운 데이터프레임 생성: ADM_NM + 학습된 임베딩\n",
    "    embedding_columns = [f\"{model_name}_embed{i}\" for i in range(z_numpy.shape[1])]  # 임베딩 컬럼 이름 생성\n",
    "    emb_updated = pd.DataFrame(emb[['기준일ID', '행정동코드']], columns=['기준일ID', '행정동코드'])  # ADM_NM 열만 복사\n",
    "    emb_updated[embedding_columns] = z_numpy  # 임베딩 추가\n",
    "\n",
    "    # CSV로 저장\n",
    "    # emb_updated.to_csv(output_path, index=False)\n",
    "    # print(f\"Embeddings saved to: {output_path}\")\n",
    "    \n",
    "    return emb_updated"
   ]
  },
  {
   "cell_type": "code",
   "execution_count": 43,
   "metadata": {},
   "outputs": [],
   "source": [
    "gcn_df = save_embeddings(z_gcn, emb, 'a', 'GCN')\n",
    "gat_df = save_embeddings(z_gat, emb, 'b', 'GAT')"
   ]
  },
  {
   "cell_type": "code",
   "execution_count": 44,
   "metadata": {},
   "outputs": [
    {
     "data": {
      "text/html": [
       "<div>\n",
       "<style scoped>\n",
       "    .dataframe tbody tr th:only-of-type {\n",
       "        vertical-align: middle;\n",
       "    }\n",
       "\n",
       "    .dataframe tbody tr th {\n",
       "        vertical-align: top;\n",
       "    }\n",
       "\n",
       "    .dataframe thead th {\n",
       "        text-align: right;\n",
       "    }\n",
       "</style>\n",
       "<table border=\"1\" class=\"dataframe\">\n",
       "  <thead>\n",
       "    <tr style=\"text-align: right;\">\n",
       "      <th></th>\n",
       "      <th>기준일ID</th>\n",
       "      <th>행정동코드</th>\n",
       "      <th>GCN_embed0</th>\n",
       "      <th>GCN_embed1</th>\n",
       "      <th>GCN_embed2</th>\n",
       "      <th>GCN_embed3</th>\n",
       "      <th>GCN_embed4</th>\n",
       "      <th>GCN_embed5</th>\n",
       "      <th>GCN_embed6</th>\n",
       "      <th>GCN_embed7</th>\n",
       "      <th>...</th>\n",
       "      <th>GCN_embed25</th>\n",
       "      <th>GCN_embed26</th>\n",
       "      <th>GCN_embed27</th>\n",
       "      <th>GCN_embed28</th>\n",
       "      <th>GCN_embed29</th>\n",
       "      <th>GCN_embed30</th>\n",
       "      <th>GCN_embed31</th>\n",
       "      <th>GCN_embed32</th>\n",
       "      <th>GCN_embed33</th>\n",
       "      <th>GCN_embed34</th>\n",
       "    </tr>\n",
       "  </thead>\n",
       "  <tbody>\n",
       "    <tr>\n",
       "      <th>0</th>\n",
       "      <td>201701</td>\n",
       "      <td>청운효자동</td>\n",
       "      <td>-1.074775</td>\n",
       "      <td>1.010859</td>\n",
       "      <td>1.665435</td>\n",
       "      <td>-2.015037</td>\n",
       "      <td>-1.024539</td>\n",
       "      <td>0.843725</td>\n",
       "      <td>-1.007559</td>\n",
       "      <td>-1.663782</td>\n",
       "      <td>...</td>\n",
       "      <td>1.743431</td>\n",
       "      <td>1.089767</td>\n",
       "      <td>2.082939</td>\n",
       "      <td>-0.009981</td>\n",
       "      <td>0.455670</td>\n",
       "      <td>0.220273</td>\n",
       "      <td>-2.229680</td>\n",
       "      <td>-0.264066</td>\n",
       "      <td>0.534541</td>\n",
       "      <td>2.462892</td>\n",
       "    </tr>\n",
       "    <tr>\n",
       "      <th>1</th>\n",
       "      <td>201701</td>\n",
       "      <td>사직동</td>\n",
       "      <td>-0.956690</td>\n",
       "      <td>0.717311</td>\n",
       "      <td>1.137805</td>\n",
       "      <td>-1.975991</td>\n",
       "      <td>-0.219769</td>\n",
       "      <td>0.996532</td>\n",
       "      <td>-1.062324</td>\n",
       "      <td>-1.641588</td>\n",
       "      <td>...</td>\n",
       "      <td>1.297022</td>\n",
       "      <td>0.875547</td>\n",
       "      <td>1.785869</td>\n",
       "      <td>-0.013894</td>\n",
       "      <td>0.423590</td>\n",
       "      <td>0.208445</td>\n",
       "      <td>-2.219543</td>\n",
       "      <td>-0.272838</td>\n",
       "      <td>0.242694</td>\n",
       "      <td>2.039333</td>\n",
       "    </tr>\n",
       "    <tr>\n",
       "      <th>2</th>\n",
       "      <td>201701</td>\n",
       "      <td>삼청동</td>\n",
       "      <td>-1.016063</td>\n",
       "      <td>0.709976</td>\n",
       "      <td>1.073384</td>\n",
       "      <td>-2.374769</td>\n",
       "      <td>-0.114190</td>\n",
       "      <td>1.251863</td>\n",
       "      <td>-1.170677</td>\n",
       "      <td>-1.878487</td>\n",
       "      <td>...</td>\n",
       "      <td>1.424986</td>\n",
       "      <td>0.841455</td>\n",
       "      <td>1.936456</td>\n",
       "      <td>-0.118748</td>\n",
       "      <td>0.536596</td>\n",
       "      <td>0.226169</td>\n",
       "      <td>-2.537327</td>\n",
       "      <td>-0.285981</td>\n",
       "      <td>0.184181</td>\n",
       "      <td>2.246561</td>\n",
       "    </tr>\n",
       "    <tr>\n",
       "      <th>3</th>\n",
       "      <td>201701</td>\n",
       "      <td>부암동</td>\n",
       "      <td>-1.132262</td>\n",
       "      <td>0.798428</td>\n",
       "      <td>1.176160</td>\n",
       "      <td>-2.667495</td>\n",
       "      <td>-0.206448</td>\n",
       "      <td>1.414158</td>\n",
       "      <td>-1.250911</td>\n",
       "      <td>-2.084862</td>\n",
       "      <td>...</td>\n",
       "      <td>1.627175</td>\n",
       "      <td>0.877967</td>\n",
       "      <td>2.139970</td>\n",
       "      <td>-0.214334</td>\n",
       "      <td>0.592086</td>\n",
       "      <td>0.264167</td>\n",
       "      <td>-2.791227</td>\n",
       "      <td>-0.348340</td>\n",
       "      <td>0.243941</td>\n",
       "      <td>2.499584</td>\n",
       "    </tr>\n",
       "    <tr>\n",
       "      <th>4</th>\n",
       "      <td>201701</td>\n",
       "      <td>평창동</td>\n",
       "      <td>-1.210514</td>\n",
       "      <td>0.861963</td>\n",
       "      <td>1.259817</td>\n",
       "      <td>-2.804583</td>\n",
       "      <td>-0.314177</td>\n",
       "      <td>1.484705</td>\n",
       "      <td>-1.290055</td>\n",
       "      <td>-2.185333</td>\n",
       "      <td>...</td>\n",
       "      <td>1.761885</td>\n",
       "      <td>0.901824</td>\n",
       "      <td>2.261122</td>\n",
       "      <td>-0.268917</td>\n",
       "      <td>0.613923</td>\n",
       "      <td>0.283362</td>\n",
       "      <td>-2.898780</td>\n",
       "      <td>-0.383092</td>\n",
       "      <td>0.298177</td>\n",
       "      <td>2.636966</td>\n",
       "    </tr>\n",
       "    <tr>\n",
       "      <th>...</th>\n",
       "      <td>...</td>\n",
       "      <td>...</td>\n",
       "      <td>...</td>\n",
       "      <td>...</td>\n",
       "      <td>...</td>\n",
       "      <td>...</td>\n",
       "      <td>...</td>\n",
       "      <td>...</td>\n",
       "      <td>...</td>\n",
       "      <td>...</td>\n",
       "      <td>...</td>\n",
       "      <td>...</td>\n",
       "      <td>...</td>\n",
       "      <td>...</td>\n",
       "      <td>...</td>\n",
       "      <td>...</td>\n",
       "      <td>...</td>\n",
       "      <td>...</td>\n",
       "      <td>...</td>\n",
       "      <td>...</td>\n",
       "      <td>...</td>\n",
       "    </tr>\n",
       "    <tr>\n",
       "      <th>419</th>\n",
       "      <td>201701</td>\n",
       "      <td>성내2동</td>\n",
       "      <td>0.619395</td>\n",
       "      <td>0.045704</td>\n",
       "      <td>1.792655</td>\n",
       "      <td>0.608224</td>\n",
       "      <td>5.028989</td>\n",
       "      <td>0.806009</td>\n",
       "      <td>-1.161979</td>\n",
       "      <td>-1.452925</td>\n",
       "      <td>...</td>\n",
       "      <td>-1.510692</td>\n",
       "      <td>1.862023</td>\n",
       "      <td>-0.171477</td>\n",
       "      <td>-1.740461</td>\n",
       "      <td>-3.546756</td>\n",
       "      <td>0.678891</td>\n",
       "      <td>-1.370561</td>\n",
       "      <td>-1.721826</td>\n",
       "      <td>1.257090</td>\n",
       "      <td>1.731453</td>\n",
       "    </tr>\n",
       "    <tr>\n",
       "      <th>420</th>\n",
       "      <td>201701</td>\n",
       "      <td>성내3동</td>\n",
       "      <td>0.620451</td>\n",
       "      <td>0.043403</td>\n",
       "      <td>1.797358</td>\n",
       "      <td>0.623784</td>\n",
       "      <td>5.049545</td>\n",
       "      <td>0.804108</td>\n",
       "      <td>-1.163838</td>\n",
       "      <td>-1.451354</td>\n",
       "      <td>...</td>\n",
       "      <td>-1.513293</td>\n",
       "      <td>1.869788</td>\n",
       "      <td>-0.174239</td>\n",
       "      <td>-1.755055</td>\n",
       "      <td>-3.558245</td>\n",
       "      <td>0.676727</td>\n",
       "      <td>-1.386368</td>\n",
       "      <td>-1.731173</td>\n",
       "      <td>1.251065</td>\n",
       "      <td>1.733127</td>\n",
       "    </tr>\n",
       "    <tr>\n",
       "      <th>421</th>\n",
       "      <td>201701</td>\n",
       "      <td>길동</td>\n",
       "      <td>0.621935</td>\n",
       "      <td>0.040838</td>\n",
       "      <td>1.802128</td>\n",
       "      <td>0.638617</td>\n",
       "      <td>5.072171</td>\n",
       "      <td>0.802370</td>\n",
       "      <td>-1.165782</td>\n",
       "      <td>-1.449877</td>\n",
       "      <td>...</td>\n",
       "      <td>-1.516407</td>\n",
       "      <td>1.877763</td>\n",
       "      <td>-0.177339</td>\n",
       "      <td>-1.770049</td>\n",
       "      <td>-3.570510</td>\n",
       "      <td>0.674650</td>\n",
       "      <td>-1.403128</td>\n",
       "      <td>-1.740887</td>\n",
       "      <td>1.244996</td>\n",
       "      <td>1.735240</td>\n",
       "    </tr>\n",
       "    <tr>\n",
       "      <th>422</th>\n",
       "      <td>201701</td>\n",
       "      <td>둔촌1동</td>\n",
       "      <td>0.623400</td>\n",
       "      <td>0.038370</td>\n",
       "      <td>1.806558</td>\n",
       "      <td>0.652348</td>\n",
       "      <td>5.093230</td>\n",
       "      <td>0.800713</td>\n",
       "      <td>-1.167281</td>\n",
       "      <td>-1.448273</td>\n",
       "      <td>...</td>\n",
       "      <td>-1.519340</td>\n",
       "      <td>1.885019</td>\n",
       "      <td>-0.180316</td>\n",
       "      <td>-1.784241</td>\n",
       "      <td>-3.581704</td>\n",
       "      <td>0.672697</td>\n",
       "      <td>-1.418999</td>\n",
       "      <td>-1.750064</td>\n",
       "      <td>1.239304</td>\n",
       "      <td>1.737058</td>\n",
       "    </tr>\n",
       "    <tr>\n",
       "      <th>423</th>\n",
       "      <td>201701</td>\n",
       "      <td>둔촌2동</td>\n",
       "      <td>0.625145</td>\n",
       "      <td>0.035738</td>\n",
       "      <td>1.810758</td>\n",
       "      <td>0.664801</td>\n",
       "      <td>5.114876</td>\n",
       "      <td>0.799196</td>\n",
       "      <td>-1.168534</td>\n",
       "      <td>-1.446636</td>\n",
       "      <td>...</td>\n",
       "      <td>-1.522456</td>\n",
       "      <td>1.892010</td>\n",
       "      <td>-0.183475</td>\n",
       "      <td>-1.798155</td>\n",
       "      <td>-3.592772</td>\n",
       "      <td>0.670870</td>\n",
       "      <td>-1.435067</td>\n",
       "      <td>-1.759156</td>\n",
       "      <td>1.233830</td>\n",
       "      <td>1.739048</td>\n",
       "    </tr>\n",
       "  </tbody>\n",
       "</table>\n",
       "<p>424 rows × 37 columns</p>\n",
       "</div>"
      ],
      "text/plain": [
       "      기준일ID  행정동코드  GCN_embed0  GCN_embed1  GCN_embed2  GCN_embed3  \\\n",
       "0    201701  청운효자동   -1.074775    1.010859    1.665435   -2.015037   \n",
       "1    201701    사직동   -0.956690    0.717311    1.137805   -1.975991   \n",
       "2    201701    삼청동   -1.016063    0.709976    1.073384   -2.374769   \n",
       "3    201701    부암동   -1.132262    0.798428    1.176160   -2.667495   \n",
       "4    201701    평창동   -1.210514    0.861963    1.259817   -2.804583   \n",
       "..      ...    ...         ...         ...         ...         ...   \n",
       "419  201701   성내2동    0.619395    0.045704    1.792655    0.608224   \n",
       "420  201701   성내3동    0.620451    0.043403    1.797358    0.623784   \n",
       "421  201701     길동    0.621935    0.040838    1.802128    0.638617   \n",
       "422  201701   둔촌1동    0.623400    0.038370    1.806558    0.652348   \n",
       "423  201701   둔촌2동    0.625145    0.035738    1.810758    0.664801   \n",
       "\n",
       "     GCN_embed4  GCN_embed5  GCN_embed6  GCN_embed7  ...  GCN_embed25  \\\n",
       "0     -1.024539    0.843725   -1.007559   -1.663782  ...     1.743431   \n",
       "1     -0.219769    0.996532   -1.062324   -1.641588  ...     1.297022   \n",
       "2     -0.114190    1.251863   -1.170677   -1.878487  ...     1.424986   \n",
       "3     -0.206448    1.414158   -1.250911   -2.084862  ...     1.627175   \n",
       "4     -0.314177    1.484705   -1.290055   -2.185333  ...     1.761885   \n",
       "..          ...         ...         ...         ...  ...          ...   \n",
       "419    5.028989    0.806009   -1.161979   -1.452925  ...    -1.510692   \n",
       "420    5.049545    0.804108   -1.163838   -1.451354  ...    -1.513293   \n",
       "421    5.072171    0.802370   -1.165782   -1.449877  ...    -1.516407   \n",
       "422    5.093230    0.800713   -1.167281   -1.448273  ...    -1.519340   \n",
       "423    5.114876    0.799196   -1.168534   -1.446636  ...    -1.522456   \n",
       "\n",
       "     GCN_embed26  GCN_embed27  GCN_embed28  GCN_embed29  GCN_embed30  \\\n",
       "0       1.089767     2.082939    -0.009981     0.455670     0.220273   \n",
       "1       0.875547     1.785869    -0.013894     0.423590     0.208445   \n",
       "2       0.841455     1.936456    -0.118748     0.536596     0.226169   \n",
       "3       0.877967     2.139970    -0.214334     0.592086     0.264167   \n",
       "4       0.901824     2.261122    -0.268917     0.613923     0.283362   \n",
       "..           ...          ...          ...          ...          ...   \n",
       "419     1.862023    -0.171477    -1.740461    -3.546756     0.678891   \n",
       "420     1.869788    -0.174239    -1.755055    -3.558245     0.676727   \n",
       "421     1.877763    -0.177339    -1.770049    -3.570510     0.674650   \n",
       "422     1.885019    -0.180316    -1.784241    -3.581704     0.672697   \n",
       "423     1.892010    -0.183475    -1.798155    -3.592772     0.670870   \n",
       "\n",
       "     GCN_embed31  GCN_embed32  GCN_embed33  GCN_embed34  \n",
       "0      -2.229680    -0.264066     0.534541     2.462892  \n",
       "1      -2.219543    -0.272838     0.242694     2.039333  \n",
       "2      -2.537327    -0.285981     0.184181     2.246561  \n",
       "3      -2.791227    -0.348340     0.243941     2.499584  \n",
       "4      -2.898780    -0.383092     0.298177     2.636966  \n",
       "..           ...          ...          ...          ...  \n",
       "419    -1.370561    -1.721826     1.257090     1.731453  \n",
       "420    -1.386368    -1.731173     1.251065     1.733127  \n",
       "421    -1.403128    -1.740887     1.244996     1.735240  \n",
       "422    -1.418999    -1.750064     1.239304     1.737058  \n",
       "423    -1.435067    -1.759156     1.233830     1.739048  \n",
       "\n",
       "[424 rows x 37 columns]"
      ]
     },
     "execution_count": 44,
     "metadata": {},
     "output_type": "execute_result"
    }
   ],
   "source": [
    "gcn_df"
   ]
  },
  {
   "cell_type": "markdown",
   "metadata": {},
   "source": [
    "# AirBnB 데이터 다시 저장"
   ]
  },
  {
   "cell_type": "code",
   "execution_count": 55,
   "metadata": {},
   "outputs": [],
   "source": [
    "import ast  # 문자열 리스트를 실제 리스트로 변환\n",
    "\n",
    "def expand_llm_embeddings(df, embeddings_col='LLM Embeddings'):\n",
    "    \"\"\"\n",
    "    주어진 데이터프레임의 LLM Embeddings 열을 확장하여 각 값을 개별 열로 변환.\n",
    "    \n",
    "    Parameters:\n",
    "        df (pd.DataFrame): 입력 데이터프레임.\n",
    "        embeddings_col (str): 확장할 열의 이름 (기본값: 'LLM Embeddings').\n",
    "\n",
    "    Returns:\n",
    "        pd.DataFrame: LLM Embeddings가 확장된 데이터프레임.\n",
    "    \"\"\"\n",
    "    # Step 1: LLM Embeddings를 리스트로 변환\n",
    "    df[embeddings_col] = df[embeddings_col].apply(ast.literal_eval)\n",
    "\n",
    "    # Step 2: 리스트 길이 확인\n",
    "    max_len = max(len(x) for x in df[embeddings_col])\n",
    "    print(f\"Max length of {embeddings_col}: {max_len}\")\n",
    "\n",
    "    # Step 3: LLM Embeddings를 확장하여 새 열 생성\n",
    "    embedding_columns = [f\"{embeddings_col}_{i}\" for i in range(max_len)]\n",
    "    embedding_df = pd.DataFrame(df[embeddings_col].tolist(), columns=embedding_columns, index=df.index)\n",
    "\n",
    "    # Step 4: 기존 데이터프레임과 병합\n",
    "    df = pd.concat([df, embedding_df], axis=1)\n",
    "\n",
    "    # Step 5: 기존 LLM Embeddings 열 제거\n",
    "    df = df.drop(columns=[embeddings_col])\n",
    "\n",
    "    return df"
   ]
  },
  {
   "cell_type": "code",
   "execution_count": 59,
   "metadata": {},
   "outputs": [
    {
     "data": {
      "text/html": [
       "<div>\n",
       "<style scoped>\n",
       "    .dataframe tbody tr th:only-of-type {\n",
       "        vertical-align: middle;\n",
       "    }\n",
       "\n",
       "    .dataframe tbody tr th {\n",
       "        vertical-align: top;\n",
       "    }\n",
       "\n",
       "    .dataframe thead th {\n",
       "        text-align: right;\n",
       "    }\n",
       "</style>\n",
       "<table border=\"1\" class=\"dataframe\">\n",
       "  <thead>\n",
       "    <tr style=\"text-align: right;\">\n",
       "      <th></th>\n",
       "      <th>ADM_NM</th>\n",
       "      <th>Reporting Month</th>\n",
       "      <th>Property ID</th>\n",
       "      <th>Occupancy Rate</th>\n",
       "      <th>Revenue (USD)</th>\n",
       "      <th>Number of Reservations</th>\n",
       "      <th>LLM Embeddings</th>\n",
       "    </tr>\n",
       "  </thead>\n",
       "  <tbody>\n",
       "    <tr>\n",
       "      <th>0</th>\n",
       "      <td>가락1동</td>\n",
       "      <td>2017-01-01</td>\n",
       "      <td>['ab-8296118', 'ab-13633415', 'ab-14432019', '...</td>\n",
       "      <td>0.000000</td>\n",
       "      <td>0.00</td>\n",
       "      <td>0.0</td>\n",
       "      <td>['0.15136719', '-0.13867188', '-1.2421875', '-...</td>\n",
       "    </tr>\n",
       "    <tr>\n",
       "      <th>1</th>\n",
       "      <td>가락2동</td>\n",
       "      <td>2017-01-01</td>\n",
       "      <td>['ab-6240301', 'ab-14455385', 'ab-2039222']</td>\n",
       "      <td>0.000000</td>\n",
       "      <td>0.00</td>\n",
       "      <td>0.0</td>\n",
       "      <td>['0.20410156', '-0.1953125', '-1.234375', '-0....</td>\n",
       "    </tr>\n",
       "    <tr>\n",
       "      <th>2</th>\n",
       "      <td>가락본동</td>\n",
       "      <td>2017-01-01</td>\n",
       "      <td>['ab-7607282', 'ab-7792221', 'ab-7792395', 'ab...</td>\n",
       "      <td>0.249571</td>\n",
       "      <td>4319.67</td>\n",
       "      <td>30.0</td>\n",
       "      <td>['0.24902344', '-0.17675781', '-1.2421875', '-...</td>\n",
       "    </tr>\n",
       "    <tr>\n",
       "      <th>3</th>\n",
       "      <td>가리봉동</td>\n",
       "      <td>2017-01-01</td>\n",
       "      <td>['ab-7538039', 'ab-11981624', 'ab-11987983', '...</td>\n",
       "      <td>0.200000</td>\n",
       "      <td>515.00</td>\n",
       "      <td>5.0</td>\n",
       "      <td>['0.36914062', '-0.20996094', '-1.203125', '-0...</td>\n",
       "    </tr>\n",
       "    <tr>\n",
       "      <th>4</th>\n",
       "      <td>가산동</td>\n",
       "      <td>2017-01-01</td>\n",
       "      <td>['ab-9098630', 'ab-10234965', 'ab-11777964', '...</td>\n",
       "      <td>0.000000</td>\n",
       "      <td>0.00</td>\n",
       "      <td>0.0</td>\n",
       "      <td>['0.31445312', '-0.24121094', '-1.0546875', '-...</td>\n",
       "    </tr>\n",
       "    <tr>\n",
       "      <th>...</th>\n",
       "      <td>...</td>\n",
       "      <td>...</td>\n",
       "      <td>...</td>\n",
       "      <td>...</td>\n",
       "      <td>...</td>\n",
       "      <td>...</td>\n",
       "      <td>...</td>\n",
       "    </tr>\n",
       "    <tr>\n",
       "      <th>28403</th>\n",
       "      <td>효창동</td>\n",
       "      <td>2022-07-01</td>\n",
       "      <td>['ab-53466085', 'ab-54039869', 'ab-59300548353...</td>\n",
       "      <td>0.209875</td>\n",
       "      <td>8802.74</td>\n",
       "      <td>44.0</td>\n",
       "      <td>['0.15722656', '-0.29101562', '-1.4140625', '-...</td>\n",
       "    </tr>\n",
       "    <tr>\n",
       "      <th>28404</th>\n",
       "      <td>후암동</td>\n",
       "      <td>2022-07-01</td>\n",
       "      <td>['ab-660505188610948586', 'ab-6620696254432664...</td>\n",
       "      <td>0.292348</td>\n",
       "      <td>113240.44</td>\n",
       "      <td>387.0</td>\n",
       "      <td>['0.39453125', '-0.375', '-1.234375', '-0.2773...</td>\n",
       "    </tr>\n",
       "    <tr>\n",
       "      <th>28405</th>\n",
       "      <td>휘경1동</td>\n",
       "      <td>2022-07-01</td>\n",
       "      <td>['ab-661330943863214668', 'ab-52644575', 'ab-5...</td>\n",
       "      <td>0.348942</td>\n",
       "      <td>18969.15</td>\n",
       "      <td>154.0</td>\n",
       "      <td>['0.18457031', '-0.38085938', '-1.4453125', '-...</td>\n",
       "    </tr>\n",
       "    <tr>\n",
       "      <th>28406</th>\n",
       "      <td>휘경2동</td>\n",
       "      <td>2022-07-01</td>\n",
       "      <td>['ab-53056242', 'ab-593955664612254971', 'ab-4...</td>\n",
       "      <td>0.268609</td>\n",
       "      <td>4532.20</td>\n",
       "      <td>41.0</td>\n",
       "      <td>['0.18652344', '-0.31054688', '-1.3515625', '-...</td>\n",
       "    </tr>\n",
       "    <tr>\n",
       "      <th>28407</th>\n",
       "      <td>흑석동</td>\n",
       "      <td>2022-07-01</td>\n",
       "      <td>['ab-567089655445102945', 'ab-5961182306263078...</td>\n",
       "      <td>0.281255</td>\n",
       "      <td>22135.55</td>\n",
       "      <td>115.0</td>\n",
       "      <td>['0.36523438', '-0.34375', '-1.28125', '-0.351...</td>\n",
       "    </tr>\n",
       "  </tbody>\n",
       "</table>\n",
       "<p>28408 rows × 7 columns</p>\n",
       "</div>"
      ],
      "text/plain": [
       "      ADM_NM Reporting Month  \\\n",
       "0       가락1동      2017-01-01   \n",
       "1       가락2동      2017-01-01   \n",
       "2       가락본동      2017-01-01   \n",
       "3       가리봉동      2017-01-01   \n",
       "4        가산동      2017-01-01   \n",
       "...      ...             ...   \n",
       "28403    효창동      2022-07-01   \n",
       "28404    후암동      2022-07-01   \n",
       "28405   휘경1동      2022-07-01   \n",
       "28406   휘경2동      2022-07-01   \n",
       "28407    흑석동      2022-07-01   \n",
       "\n",
       "                                             Property ID  Occupancy Rate  \\\n",
       "0      ['ab-8296118', 'ab-13633415', 'ab-14432019', '...        0.000000   \n",
       "1            ['ab-6240301', 'ab-14455385', 'ab-2039222']        0.000000   \n",
       "2      ['ab-7607282', 'ab-7792221', 'ab-7792395', 'ab...        0.249571   \n",
       "3      ['ab-7538039', 'ab-11981624', 'ab-11987983', '...        0.200000   \n",
       "4      ['ab-9098630', 'ab-10234965', 'ab-11777964', '...        0.000000   \n",
       "...                                                  ...             ...   \n",
       "28403  ['ab-53466085', 'ab-54039869', 'ab-59300548353...        0.209875   \n",
       "28404  ['ab-660505188610948586', 'ab-6620696254432664...        0.292348   \n",
       "28405  ['ab-661330943863214668', 'ab-52644575', 'ab-5...        0.348942   \n",
       "28406  ['ab-53056242', 'ab-593955664612254971', 'ab-4...        0.268609   \n",
       "28407  ['ab-567089655445102945', 'ab-5961182306263078...        0.281255   \n",
       "\n",
       "       Revenue (USD)  Number of Reservations  \\\n",
       "0               0.00                     0.0   \n",
       "1               0.00                     0.0   \n",
       "2            4319.67                    30.0   \n",
       "3             515.00                     5.0   \n",
       "4               0.00                     0.0   \n",
       "...              ...                     ...   \n",
       "28403        8802.74                    44.0   \n",
       "28404      113240.44                   387.0   \n",
       "28405       18969.15                   154.0   \n",
       "28406        4532.20                    41.0   \n",
       "28407       22135.55                   115.0   \n",
       "\n",
       "                                          LLM Embeddings  \n",
       "0      ['0.15136719', '-0.13867188', '-1.2421875', '-...  \n",
       "1      ['0.20410156', '-0.1953125', '-1.234375', '-0....  \n",
       "2      ['0.24902344', '-0.17675781', '-1.2421875', '-...  \n",
       "3      ['0.36914062', '-0.20996094', '-1.203125', '-0...  \n",
       "4      ['0.31445312', '-0.24121094', '-1.0546875', '-...  \n",
       "...                                                  ...  \n",
       "28403  ['0.15722656', '-0.29101562', '-1.4140625', '-...  \n",
       "28404  ['0.39453125', '-0.375', '-1.234375', '-0.2773...  \n",
       "28405  ['0.18457031', '-0.38085938', '-1.4453125', '-...  \n",
       "28406  ['0.18652344', '-0.31054688', '-1.3515625', '-...  \n",
       "28407  ['0.36523438', '-0.34375', '-1.28125', '-0.351...  \n",
       "\n",
       "[28408 rows x 7 columns]"
      ]
     },
     "execution_count": 59,
     "metadata": {},
     "output_type": "execute_result"
    }
   ],
   "source": [
    "# 데이터 로드\n",
    "emb = pd.read_csv('../../Dataset/AirBnB_LLM/gemma2_no_listing_raw_fill_na_ver.csv')\n",
    "#emb = emb[['ADM_NM', 'Reporting Month', 'LLM Embeddings']]\n",
    "#emb = expand_llm_embeddings(emb, embeddings_col='LLM Embeddings')\n",
    "\n",
    "emb"
   ]
  },
  {
   "cell_type": "code",
   "execution_count": 12,
   "metadata": {},
   "outputs": [
    {
     "data": {
      "text/plain": [
       "['llama3_no_listing_refined_fill_na_ver.csv',\n",
       " 'llama3_mixed_refined_fill_na_ver.csv',\n",
       " 'llama3_mixed_raw_fill_na_ver.csv',\n",
       " 'llama3_only_listings_fill_na_ver.csv',\n",
       " 'gemma2_no_listing_raw_fill_na_ver.csv',\n",
       " 'gemma2_no_listing_refined_fill_na_ver.csv',\n",
       " 'llama3_no_listing_raw_fill_na_ver.csv']"
      ]
     },
     "execution_count": 12,
     "metadata": {},
     "output_type": "execute_result"
    }
   ],
   "source": [
    "import os\n",
    "\n",
    "basic_path = '../../Dataset/AirBnB_LLM'\n",
    "output_path = '../../Dataset/AirBnB_LLM_New'\n",
    "\n",
    "# 파일명들 불러오기\n",
    "file_names = os.listdir(basic_path)\n",
    "llm_list = [s for s in file_names  if '_fill_na_ver' in s]\n",
    "llm_list"
   ]
  },
  {
   "cell_type": "code",
   "execution_count": 64,
   "metadata": {},
   "outputs": [
    {
     "name": "stdout",
     "output_type": "stream",
     "text": [
      "Max length of LLM Embeddings: 3072\n",
      "llama3_no_listing_refined_fill_na_ver.csv finish!\n",
      "(28408, 3074)\n",
      "Max length of LLM Embeddings: 3072\n",
      "llama3_mixed_refined_fill_na_ver.csv finish!\n",
      "(28408, 3074)\n",
      "Max length of LLM Embeddings: 3072\n",
      "llama3_mixed_raw_fill_na_ver.csv finish!\n",
      "(28408, 3074)\n",
      "Max length of LLM Embeddings: 3072\n",
      "llama3_only_listings_fill_na_ver.csv finish!\n",
      "(28408, 3074)\n",
      "Max length of LLM Embeddings: 2304\n",
      "gemma2_no_listing_raw_fill_na_ver.csv finish!\n",
      "(28408, 2306)\n",
      "Max length of LLM Embeddings: 2304\n",
      "gemma2_no_listing_refined_fill_na_ver.csv finish!\n",
      "(28408, 2306)\n",
      "Max length of LLM Embeddings: 3072\n",
      "llama3_no_listing_raw_fill_na_ver.csv finish!\n",
      "(28408, 3074)\n"
     ]
    }
   ],
   "source": [
    "# llm 데이터 다시 저장\n",
    "for llm in llm_list:\n",
    "    emb = pd.read_csv(f'{basic_path}/{llm}')\n",
    "    labels = emb[['ADM_NM', 'Reporting Month', 'Occupancy Rate', 'Revenue (USD)', 'Number of Reservations']]  # 라벨변수\n",
    "    emb = emb[['ADM_NM', 'Reporting Month', 'LLM Embeddings']]\n",
    "    emb = expand_llm_embeddings(emb, embeddings_col='LLM Embeddings')\n",
    "    emb.to_csv(f'{output_path}/{llm}', index=False)   # 새롭게 저장\n",
    "    labels.to_csv(f'{output_path}/{llm[:-4]}_labels.csv', index=False)\n",
    "    print(f'{llm} finish!')\n",
    "    print(emb.shape)"
   ]
  },
  {
   "cell_type": "code",
   "execution_count": 16,
   "metadata": {},
   "outputs": [
    {
     "data": {
      "text/plain": [
       "['llama3_no_listing_refined_fill_na_ver.csv',\n",
       " 'llama3_mixed_refined_fill_na_ver.csv',\n",
       " 'llama3_mixed_raw_fill_na_ver.csv',\n",
       " 'llama3_only_listings_fill_na_ver.csv',\n",
       " 'gemma2_no_listing_raw_fill_na_ver.csv',\n",
       " 'gemma2_no_listing_refined_fill_na_ver.csv',\n",
       " 'llama3_no_listing_raw_fill_na_ver.csv']"
      ]
     },
     "execution_count": 16,
     "metadata": {},
     "output_type": "execute_result"
    }
   ],
   "source": [
    "# 완성 버전으로 불러오기\n",
    "\n",
    "basic_path = '../../Dataset/AirBnB_LLM_New/'\n",
    "\n",
    "# 파일명들 불러오기\n",
    "file_names = os.listdir(basic_path)\n",
    "llm_list = [s for s in file_names  if '_fill_na_ver.csv' in s]\n",
    "llm_list"
   ]
  },
  {
   "cell_type": "code",
   "execution_count": null,
   "metadata": {},
   "outputs": [
    {
     "data": {
      "text/html": [
       "<div>\n",
       "<style scoped>\n",
       "    .dataframe tbody tr th:only-of-type {\n",
       "        vertical-align: middle;\n",
       "    }\n",
       "\n",
       "    .dataframe tbody tr th {\n",
       "        vertical-align: top;\n",
       "    }\n",
       "\n",
       "    .dataframe thead th {\n",
       "        text-align: right;\n",
       "    }\n",
       "</style>\n",
       "<table border=\"1\" class=\"dataframe\">\n",
       "  <thead>\n",
       "    <tr style=\"text-align: right;\">\n",
       "      <th></th>\n",
       "      <th>ADM_NM</th>\n",
       "      <th>Reporting Month</th>\n",
       "      <th>LLM Embeddings_0</th>\n",
       "      <th>LLM Embeddings_1</th>\n",
       "      <th>LLM Embeddings_2</th>\n",
       "      <th>LLM Embeddings_3</th>\n",
       "      <th>LLM Embeddings_4</th>\n",
       "      <th>LLM Embeddings_5</th>\n",
       "      <th>LLM Embeddings_6</th>\n",
       "      <th>LLM Embeddings_7</th>\n",
       "      <th>...</th>\n",
       "      <th>LLM Embeddings_3062</th>\n",
       "      <th>LLM Embeddings_3063</th>\n",
       "      <th>LLM Embeddings_3064</th>\n",
       "      <th>LLM Embeddings_3065</th>\n",
       "      <th>LLM Embeddings_3066</th>\n",
       "      <th>LLM Embeddings_3067</th>\n",
       "      <th>LLM Embeddings_3068</th>\n",
       "      <th>LLM Embeddings_3069</th>\n",
       "      <th>LLM Embeddings_3070</th>\n",
       "      <th>LLM Embeddings_3071</th>\n",
       "    </tr>\n",
       "  </thead>\n",
       "  <tbody>\n",
       "    <tr>\n",
       "      <th>0</th>\n",
       "      <td>가락1동</td>\n",
       "      <td>2017-01-01</td>\n",
       "      <td>0.182189</td>\n",
       "      <td>0.797635</td>\n",
       "      <td>2.783483</td>\n",
       "      <td>-0.701678</td>\n",
       "      <td>0.322488</td>\n",
       "      <td>-0.958251</td>\n",
       "      <td>-0.049312</td>\n",
       "      <td>0.477725</td>\n",
       "      <td>...</td>\n",
       "      <td>-0.097656</td>\n",
       "      <td>0.215152</td>\n",
       "      <td>0.293026</td>\n",
       "      <td>-0.321801</td>\n",
       "      <td>0.168507</td>\n",
       "      <td>0.383450</td>\n",
       "      <td>1.076234</td>\n",
       "      <td>-0.122758</td>\n",
       "      <td>-0.496166</td>\n",
       "      <td>0.353151</td>\n",
       "    </tr>\n",
       "    <tr>\n",
       "      <th>1</th>\n",
       "      <td>가락2동</td>\n",
       "      <td>2017-01-01</td>\n",
       "      <td>0.012297</td>\n",
       "      <td>0.788067</td>\n",
       "      <td>2.737332</td>\n",
       "      <td>-0.818893</td>\n",
       "      <td>0.190079</td>\n",
       "      <td>-1.046540</td>\n",
       "      <td>-0.118247</td>\n",
       "      <td>0.573178</td>\n",
       "      <td>...</td>\n",
       "      <td>-0.084388</td>\n",
       "      <td>0.256985</td>\n",
       "      <td>0.328190</td>\n",
       "      <td>-0.304241</td>\n",
       "      <td>0.251695</td>\n",
       "      <td>0.308751</td>\n",
       "      <td>0.974102</td>\n",
       "      <td>-0.033396</td>\n",
       "      <td>-0.474156</td>\n",
       "      <td>0.405358</td>\n",
       "    </tr>\n",
       "    <tr>\n",
       "      <th>2</th>\n",
       "      <td>가락본동</td>\n",
       "      <td>2017-01-01</td>\n",
       "      <td>-0.188756</td>\n",
       "      <td>0.613868</td>\n",
       "      <td>2.676397</td>\n",
       "      <td>-0.363336</td>\n",
       "      <td>0.272512</td>\n",
       "      <td>-1.133036</td>\n",
       "      <td>0.080491</td>\n",
       "      <td>0.709784</td>\n",
       "      <td>...</td>\n",
       "      <td>-0.180724</td>\n",
       "      <td>0.597994</td>\n",
       "      <td>0.214895</td>\n",
       "      <td>-0.032563</td>\n",
       "      <td>0.046565</td>\n",
       "      <td>0.770207</td>\n",
       "      <td>0.793798</td>\n",
       "      <td>0.051106</td>\n",
       "      <td>-0.697922</td>\n",
       "      <td>0.204088</td>\n",
       "    </tr>\n",
       "    <tr>\n",
       "      <th>3</th>\n",
       "      <td>가리봉동</td>\n",
       "      <td>2017-01-01</td>\n",
       "      <td>-0.019578</td>\n",
       "      <td>0.852448</td>\n",
       "      <td>2.604572</td>\n",
       "      <td>-0.697828</td>\n",
       "      <td>0.285646</td>\n",
       "      <td>-0.979806</td>\n",
       "      <td>0.017082</td>\n",
       "      <td>0.709763</td>\n",
       "      <td>...</td>\n",
       "      <td>-0.226313</td>\n",
       "      <td>0.189473</td>\n",
       "      <td>0.370528</td>\n",
       "      <td>-0.330595</td>\n",
       "      <td>0.197076</td>\n",
       "      <td>0.346764</td>\n",
       "      <td>0.979650</td>\n",
       "      <td>0.030385</td>\n",
       "      <td>-0.429923</td>\n",
       "      <td>0.396902</td>\n",
       "    </tr>\n",
       "    <tr>\n",
       "      <th>4</th>\n",
       "      <td>가산동</td>\n",
       "      <td>2017-01-01</td>\n",
       "      <td>-0.112694</td>\n",
       "      <td>0.606479</td>\n",
       "      <td>2.593920</td>\n",
       "      <td>-0.665623</td>\n",
       "      <td>0.441548</td>\n",
       "      <td>-1.082860</td>\n",
       "      <td>-0.001558</td>\n",
       "      <td>0.557418</td>\n",
       "      <td>...</td>\n",
       "      <td>-0.176513</td>\n",
       "      <td>0.336681</td>\n",
       "      <td>0.450447</td>\n",
       "      <td>-0.124183</td>\n",
       "      <td>0.145434</td>\n",
       "      <td>0.386809</td>\n",
       "      <td>1.054443</td>\n",
       "      <td>0.105295</td>\n",
       "      <td>-0.655455</td>\n",
       "      <td>0.193765</td>\n",
       "    </tr>\n",
       "    <tr>\n",
       "      <th>...</th>\n",
       "      <td>...</td>\n",
       "      <td>...</td>\n",
       "      <td>...</td>\n",
       "      <td>...</td>\n",
       "      <td>...</td>\n",
       "      <td>...</td>\n",
       "      <td>...</td>\n",
       "      <td>...</td>\n",
       "      <td>...</td>\n",
       "      <td>...</td>\n",
       "      <td>...</td>\n",
       "      <td>...</td>\n",
       "      <td>...</td>\n",
       "      <td>...</td>\n",
       "      <td>...</td>\n",
       "      <td>...</td>\n",
       "      <td>...</td>\n",
       "      <td>...</td>\n",
       "      <td>...</td>\n",
       "      <td>...</td>\n",
       "      <td>...</td>\n",
       "    </tr>\n",
       "    <tr>\n",
       "      <th>28403</th>\n",
       "      <td>효창동</td>\n",
       "      <td>2022-07-01</td>\n",
       "      <td>-0.057492</td>\n",
       "      <td>0.588885</td>\n",
       "      <td>2.498071</td>\n",
       "      <td>-0.576995</td>\n",
       "      <td>0.077653</td>\n",
       "      <td>-1.097834</td>\n",
       "      <td>0.177970</td>\n",
       "      <td>0.717874</td>\n",
       "      <td>...</td>\n",
       "      <td>-0.014342</td>\n",
       "      <td>0.495624</td>\n",
       "      <td>0.320659</td>\n",
       "      <td>0.046189</td>\n",
       "      <td>-0.013092</td>\n",
       "      <td>0.547956</td>\n",
       "      <td>0.944268</td>\n",
       "      <td>0.102939</td>\n",
       "      <td>-0.605520</td>\n",
       "      <td>0.238395</td>\n",
       "    </tr>\n",
       "    <tr>\n",
       "      <th>28404</th>\n",
       "      <td>후암동</td>\n",
       "      <td>2022-07-01</td>\n",
       "      <td>-0.113301</td>\n",
       "      <td>0.605343</td>\n",
       "      <td>2.413508</td>\n",
       "      <td>-0.357536</td>\n",
       "      <td>0.357129</td>\n",
       "      <td>-0.846870</td>\n",
       "      <td>-0.298720</td>\n",
       "      <td>0.749327</td>\n",
       "      <td>...</td>\n",
       "      <td>-0.429303</td>\n",
       "      <td>0.589567</td>\n",
       "      <td>0.152206</td>\n",
       "      <td>0.046052</td>\n",
       "      <td>-0.068495</td>\n",
       "      <td>0.537594</td>\n",
       "      <td>0.725969</td>\n",
       "      <td>0.042671</td>\n",
       "      <td>-0.721411</td>\n",
       "      <td>0.627279</td>\n",
       "    </tr>\n",
       "    <tr>\n",
       "      <th>28405</th>\n",
       "      <td>휘경1동</td>\n",
       "      <td>2022-07-01</td>\n",
       "      <td>0.002187</td>\n",
       "      <td>0.594431</td>\n",
       "      <td>2.574777</td>\n",
       "      <td>-0.520903</td>\n",
       "      <td>0.230063</td>\n",
       "      <td>-0.997220</td>\n",
       "      <td>0.003344</td>\n",
       "      <td>0.779653</td>\n",
       "      <td>...</td>\n",
       "      <td>-0.275357</td>\n",
       "      <td>0.383240</td>\n",
       "      <td>0.274320</td>\n",
       "      <td>0.014191</td>\n",
       "      <td>0.064286</td>\n",
       "      <td>0.339190</td>\n",
       "      <td>1.015625</td>\n",
       "      <td>0.167795</td>\n",
       "      <td>-0.624249</td>\n",
       "      <td>0.414327</td>\n",
       "    </tr>\n",
       "    <tr>\n",
       "      <th>28406</th>\n",
       "      <td>휘경2동</td>\n",
       "      <td>2022-07-01</td>\n",
       "      <td>0.048968</td>\n",
       "      <td>0.679767</td>\n",
       "      <td>2.465750</td>\n",
       "      <td>-0.614556</td>\n",
       "      <td>0.219916</td>\n",
       "      <td>-1.036563</td>\n",
       "      <td>0.116839</td>\n",
       "      <td>0.775792</td>\n",
       "      <td>...</td>\n",
       "      <td>-0.144036</td>\n",
       "      <td>0.361136</td>\n",
       "      <td>0.269136</td>\n",
       "      <td>0.003099</td>\n",
       "      <td>0.118099</td>\n",
       "      <td>0.432616</td>\n",
       "      <td>0.995827</td>\n",
       "      <td>0.153141</td>\n",
       "      <td>-0.507071</td>\n",
       "      <td>0.349329</td>\n",
       "    </tr>\n",
       "    <tr>\n",
       "      <th>28407</th>\n",
       "      <td>흑석동</td>\n",
       "      <td>2022-07-01</td>\n",
       "      <td>-0.086177</td>\n",
       "      <td>0.326286</td>\n",
       "      <td>2.802533</td>\n",
       "      <td>-0.419453</td>\n",
       "      <td>0.291614</td>\n",
       "      <td>-0.943418</td>\n",
       "      <td>0.138302</td>\n",
       "      <td>0.658154</td>\n",
       "      <td>...</td>\n",
       "      <td>-0.061605</td>\n",
       "      <td>0.672232</td>\n",
       "      <td>0.306844</td>\n",
       "      <td>0.281514</td>\n",
       "      <td>-0.000384</td>\n",
       "      <td>0.561268</td>\n",
       "      <td>1.011789</td>\n",
       "      <td>0.079679</td>\n",
       "      <td>-0.742213</td>\n",
       "      <td>0.029199</td>\n",
       "    </tr>\n",
       "  </tbody>\n",
       "</table>\n",
       "<p>28408 rows × 3074 columns</p>\n",
       "</div>"
      ],
      "text/plain": [
       "      ADM_NM Reporting Month  LLM Embeddings_0  LLM Embeddings_1  \\\n",
       "0       가락1동      2017-01-01          0.182189          0.797635   \n",
       "1       가락2동      2017-01-01          0.012297          0.788067   \n",
       "2       가락본동      2017-01-01         -0.188756          0.613868   \n",
       "3       가리봉동      2017-01-01         -0.019578          0.852448   \n",
       "4        가산동      2017-01-01         -0.112694          0.606479   \n",
       "...      ...             ...               ...               ...   \n",
       "28403    효창동      2022-07-01         -0.057492          0.588885   \n",
       "28404    후암동      2022-07-01         -0.113301          0.605343   \n",
       "28405   휘경1동      2022-07-01          0.002187          0.594431   \n",
       "28406   휘경2동      2022-07-01          0.048968          0.679767   \n",
       "28407    흑석동      2022-07-01         -0.086177          0.326286   \n",
       "\n",
       "       LLM Embeddings_2  LLM Embeddings_3  LLM Embeddings_4  LLM Embeddings_5  \\\n",
       "0              2.783483         -0.701678          0.322488         -0.958251   \n",
       "1              2.737332         -0.818893          0.190079         -1.046540   \n",
       "2              2.676397         -0.363336          0.272512         -1.133036   \n",
       "3              2.604572         -0.697828          0.285646         -0.979806   \n",
       "4              2.593920         -0.665623          0.441548         -1.082860   \n",
       "...                 ...               ...               ...               ...   \n",
       "28403          2.498071         -0.576995          0.077653         -1.097834   \n",
       "28404          2.413508         -0.357536          0.357129         -0.846870   \n",
       "28405          2.574777         -0.520903          0.230063         -0.997220   \n",
       "28406          2.465750         -0.614556          0.219916         -1.036563   \n",
       "28407          2.802533         -0.419453          0.291614         -0.943418   \n",
       "\n",
       "       LLM Embeddings_6  LLM Embeddings_7  ...  LLM Embeddings_3062  \\\n",
       "0             -0.049312          0.477725  ...            -0.097656   \n",
       "1             -0.118247          0.573178  ...            -0.084388   \n",
       "2              0.080491          0.709784  ...            -0.180724   \n",
       "3              0.017082          0.709763  ...            -0.226313   \n",
       "4             -0.001558          0.557418  ...            -0.176513   \n",
       "...                 ...               ...  ...                  ...   \n",
       "28403          0.177970          0.717874  ...            -0.014342   \n",
       "28404         -0.298720          0.749327  ...            -0.429303   \n",
       "28405          0.003344          0.779653  ...            -0.275357   \n",
       "28406          0.116839          0.775792  ...            -0.144036   \n",
       "28407          0.138302          0.658154  ...            -0.061605   \n",
       "\n",
       "       LLM Embeddings_3063  LLM Embeddings_3064  LLM Embeddings_3065  \\\n",
       "0                 0.215152             0.293026            -0.321801   \n",
       "1                 0.256985             0.328190            -0.304241   \n",
       "2                 0.597994             0.214895            -0.032563   \n",
       "3                 0.189473             0.370528            -0.330595   \n",
       "4                 0.336681             0.450447            -0.124183   \n",
       "...                    ...                  ...                  ...   \n",
       "28403             0.495624             0.320659             0.046189   \n",
       "28404             0.589567             0.152206             0.046052   \n",
       "28405             0.383240             0.274320             0.014191   \n",
       "28406             0.361136             0.269136             0.003099   \n",
       "28407             0.672232             0.306844             0.281514   \n",
       "\n",
       "       LLM Embeddings_3066  LLM Embeddings_3067  LLM Embeddings_3068  \\\n",
       "0                 0.168507             0.383450             1.076234   \n",
       "1                 0.251695             0.308751             0.974102   \n",
       "2                 0.046565             0.770207             0.793798   \n",
       "3                 0.197076             0.346764             0.979650   \n",
       "4                 0.145434             0.386809             1.054443   \n",
       "...                    ...                  ...                  ...   \n",
       "28403            -0.013092             0.547956             0.944268   \n",
       "28404            -0.068495             0.537594             0.725969   \n",
       "28405             0.064286             0.339190             1.015625   \n",
       "28406             0.118099             0.432616             0.995827   \n",
       "28407            -0.000384             0.561268             1.011789   \n",
       "\n",
       "       LLM Embeddings_3069  LLM Embeddings_3070  LLM Embeddings_3071  \n",
       "0                -0.122758            -0.496166             0.353151  \n",
       "1                -0.033396            -0.474156             0.405358  \n",
       "2                 0.051106            -0.697922             0.204088  \n",
       "3                 0.030385            -0.429923             0.396902  \n",
       "4                 0.105295            -0.655455             0.193765  \n",
       "...                    ...                  ...                  ...  \n",
       "28403             0.102939            -0.605520             0.238395  \n",
       "28404             0.042671            -0.721411             0.627279  \n",
       "28405             0.167795            -0.624249             0.414327  \n",
       "28406             0.153141            -0.507071             0.349329  \n",
       "28407             0.079679            -0.742213             0.029199  \n",
       "\n",
       "[28408 rows x 3074 columns]"
      ]
     },
     "execution_count": 17,
     "metadata": {},
     "output_type": "execute_result"
    }
   ],
   "source": [
    "# 새롭게 저장된 버전 불러오기\n",
    "llm_df = pd.read_csv(basic_path+llm_list[0])\n",
    "llm_df"
   ]
  },
  {
   "cell_type": "code",
   "execution_count": 24,
   "metadata": {},
   "outputs": [
    {
     "name": "stdout",
     "output_type": "stream",
     "text": [
      "20170101\n"
     ]
    },
    {
     "data": {
      "text/html": [
       "<div>\n",
       "<style scoped>\n",
       "    .dataframe tbody tr th:only-of-type {\n",
       "        vertical-align: middle;\n",
       "    }\n",
       "\n",
       "    .dataframe tbody tr th {\n",
       "        vertical-align: top;\n",
       "    }\n",
       "\n",
       "    .dataframe thead th {\n",
       "        text-align: right;\n",
       "    }\n",
       "</style>\n",
       "<table border=\"1\" class=\"dataframe\">\n",
       "  <thead>\n",
       "    <tr style=\"text-align: right;\">\n",
       "      <th></th>\n",
       "      <th>ADM_NM</th>\n",
       "      <th>Reporting Month</th>\n",
       "      <th>LLM Embeddings_0</th>\n",
       "      <th>LLM Embeddings_1</th>\n",
       "      <th>LLM Embeddings_2</th>\n",
       "      <th>LLM Embeddings_3</th>\n",
       "      <th>LLM Embeddings_4</th>\n",
       "      <th>LLM Embeddings_5</th>\n",
       "      <th>LLM Embeddings_6</th>\n",
       "      <th>LLM Embeddings_7</th>\n",
       "      <th>...</th>\n",
       "      <th>LLM Embeddings_3062</th>\n",
       "      <th>LLM Embeddings_3063</th>\n",
       "      <th>LLM Embeddings_3064</th>\n",
       "      <th>LLM Embeddings_3065</th>\n",
       "      <th>LLM Embeddings_3066</th>\n",
       "      <th>LLM Embeddings_3067</th>\n",
       "      <th>LLM Embeddings_3068</th>\n",
       "      <th>LLM Embeddings_3069</th>\n",
       "      <th>LLM Embeddings_3070</th>\n",
       "      <th>LLM Embeddings_3071</th>\n",
       "    </tr>\n",
       "  </thead>\n",
       "  <tbody>\n",
       "    <tr>\n",
       "      <th>0</th>\n",
       "      <td>가락1동</td>\n",
       "      <td>2017-01-01</td>\n",
       "      <td>0.182189</td>\n",
       "      <td>0.797635</td>\n",
       "      <td>2.783483</td>\n",
       "      <td>-0.701678</td>\n",
       "      <td>0.322488</td>\n",
       "      <td>-0.958251</td>\n",
       "      <td>-0.049312</td>\n",
       "      <td>0.477725</td>\n",
       "      <td>...</td>\n",
       "      <td>-0.097656</td>\n",
       "      <td>0.215152</td>\n",
       "      <td>0.293026</td>\n",
       "      <td>-0.321801</td>\n",
       "      <td>0.168507</td>\n",
       "      <td>0.383450</td>\n",
       "      <td>1.076234</td>\n",
       "      <td>-0.122758</td>\n",
       "      <td>-0.496166</td>\n",
       "      <td>0.353151</td>\n",
       "    </tr>\n",
       "    <tr>\n",
       "      <th>1</th>\n",
       "      <td>가락2동</td>\n",
       "      <td>2017-01-01</td>\n",
       "      <td>0.012297</td>\n",
       "      <td>0.788067</td>\n",
       "      <td>2.737332</td>\n",
       "      <td>-0.818893</td>\n",
       "      <td>0.190079</td>\n",
       "      <td>-1.046540</td>\n",
       "      <td>-0.118247</td>\n",
       "      <td>0.573178</td>\n",
       "      <td>...</td>\n",
       "      <td>-0.084388</td>\n",
       "      <td>0.256985</td>\n",
       "      <td>0.328190</td>\n",
       "      <td>-0.304241</td>\n",
       "      <td>0.251695</td>\n",
       "      <td>0.308751</td>\n",
       "      <td>0.974102</td>\n",
       "      <td>-0.033396</td>\n",
       "      <td>-0.474156</td>\n",
       "      <td>0.405358</td>\n",
       "    </tr>\n",
       "    <tr>\n",
       "      <th>2</th>\n",
       "      <td>가락본동</td>\n",
       "      <td>2017-01-01</td>\n",
       "      <td>-0.188756</td>\n",
       "      <td>0.613868</td>\n",
       "      <td>2.676397</td>\n",
       "      <td>-0.363336</td>\n",
       "      <td>0.272512</td>\n",
       "      <td>-1.133036</td>\n",
       "      <td>0.080491</td>\n",
       "      <td>0.709784</td>\n",
       "      <td>...</td>\n",
       "      <td>-0.180724</td>\n",
       "      <td>0.597994</td>\n",
       "      <td>0.214895</td>\n",
       "      <td>-0.032563</td>\n",
       "      <td>0.046565</td>\n",
       "      <td>0.770207</td>\n",
       "      <td>0.793798</td>\n",
       "      <td>0.051106</td>\n",
       "      <td>-0.697922</td>\n",
       "      <td>0.204088</td>\n",
       "    </tr>\n",
       "    <tr>\n",
       "      <th>3</th>\n",
       "      <td>가리봉동</td>\n",
       "      <td>2017-01-01</td>\n",
       "      <td>-0.019578</td>\n",
       "      <td>0.852448</td>\n",
       "      <td>2.604572</td>\n",
       "      <td>-0.697828</td>\n",
       "      <td>0.285646</td>\n",
       "      <td>-0.979806</td>\n",
       "      <td>0.017082</td>\n",
       "      <td>0.709763</td>\n",
       "      <td>...</td>\n",
       "      <td>-0.226313</td>\n",
       "      <td>0.189473</td>\n",
       "      <td>0.370528</td>\n",
       "      <td>-0.330595</td>\n",
       "      <td>0.197076</td>\n",
       "      <td>0.346764</td>\n",
       "      <td>0.979650</td>\n",
       "      <td>0.030385</td>\n",
       "      <td>-0.429923</td>\n",
       "      <td>0.396902</td>\n",
       "    </tr>\n",
       "    <tr>\n",
       "      <th>4</th>\n",
       "      <td>가산동</td>\n",
       "      <td>2017-01-01</td>\n",
       "      <td>-0.112694</td>\n",
       "      <td>0.606479</td>\n",
       "      <td>2.593920</td>\n",
       "      <td>-0.665623</td>\n",
       "      <td>0.441548</td>\n",
       "      <td>-1.082860</td>\n",
       "      <td>-0.001558</td>\n",
       "      <td>0.557418</td>\n",
       "      <td>...</td>\n",
       "      <td>-0.176513</td>\n",
       "      <td>0.336681</td>\n",
       "      <td>0.450447</td>\n",
       "      <td>-0.124183</td>\n",
       "      <td>0.145434</td>\n",
       "      <td>0.386809</td>\n",
       "      <td>1.054443</td>\n",
       "      <td>0.105295</td>\n",
       "      <td>-0.655455</td>\n",
       "      <td>0.193765</td>\n",
       "    </tr>\n",
       "    <tr>\n",
       "      <th>...</th>\n",
       "      <td>...</td>\n",
       "      <td>...</td>\n",
       "      <td>...</td>\n",
       "      <td>...</td>\n",
       "      <td>...</td>\n",
       "      <td>...</td>\n",
       "      <td>...</td>\n",
       "      <td>...</td>\n",
       "      <td>...</td>\n",
       "      <td>...</td>\n",
       "      <td>...</td>\n",
       "      <td>...</td>\n",
       "      <td>...</td>\n",
       "      <td>...</td>\n",
       "      <td>...</td>\n",
       "      <td>...</td>\n",
       "      <td>...</td>\n",
       "      <td>...</td>\n",
       "      <td>...</td>\n",
       "      <td>...</td>\n",
       "      <td>...</td>\n",
       "    </tr>\n",
       "    <tr>\n",
       "      <th>419</th>\n",
       "      <td>효창동</td>\n",
       "      <td>2017-01-01</td>\n",
       "      <td>-0.209827</td>\n",
       "      <td>0.555203</td>\n",
       "      <td>2.690814</td>\n",
       "      <td>-0.383771</td>\n",
       "      <td>0.146396</td>\n",
       "      <td>-1.003996</td>\n",
       "      <td>-0.103601</td>\n",
       "      <td>0.638757</td>\n",
       "      <td>...</td>\n",
       "      <td>-0.072862</td>\n",
       "      <td>0.744518</td>\n",
       "      <td>0.174405</td>\n",
       "      <td>-0.045266</td>\n",
       "      <td>0.099417</td>\n",
       "      <td>0.663327</td>\n",
       "      <td>0.911730</td>\n",
       "      <td>-0.033662</td>\n",
       "      <td>-0.775468</td>\n",
       "      <td>0.109442</td>\n",
       "    </tr>\n",
       "    <tr>\n",
       "      <th>420</th>\n",
       "      <td>후암동</td>\n",
       "      <td>2017-01-01</td>\n",
       "      <td>-0.162344</td>\n",
       "      <td>0.632814</td>\n",
       "      <td>2.539969</td>\n",
       "      <td>-0.355085</td>\n",
       "      <td>0.503987</td>\n",
       "      <td>-0.800747</td>\n",
       "      <td>-0.469939</td>\n",
       "      <td>0.773364</td>\n",
       "      <td>...</td>\n",
       "      <td>-0.388491</td>\n",
       "      <td>0.642842</td>\n",
       "      <td>0.226201</td>\n",
       "      <td>-0.048449</td>\n",
       "      <td>0.059380</td>\n",
       "      <td>0.547762</td>\n",
       "      <td>0.668395</td>\n",
       "      <td>0.119956</td>\n",
       "      <td>-0.755786</td>\n",
       "      <td>0.512600</td>\n",
       "    </tr>\n",
       "    <tr>\n",
       "      <th>421</th>\n",
       "      <td>휘경1동</td>\n",
       "      <td>2017-01-01</td>\n",
       "      <td>-0.347272</td>\n",
       "      <td>0.624385</td>\n",
       "      <td>2.570642</td>\n",
       "      <td>-0.407633</td>\n",
       "      <td>0.262688</td>\n",
       "      <td>-1.072827</td>\n",
       "      <td>0.171972</td>\n",
       "      <td>0.756842</td>\n",
       "      <td>...</td>\n",
       "      <td>-0.226987</td>\n",
       "      <td>0.545958</td>\n",
       "      <td>0.381583</td>\n",
       "      <td>-0.023453</td>\n",
       "      <td>0.094286</td>\n",
       "      <td>0.634946</td>\n",
       "      <td>0.807298</td>\n",
       "      <td>-0.003554</td>\n",
       "      <td>-0.688187</td>\n",
       "      <td>0.353662</td>\n",
       "    </tr>\n",
       "    <tr>\n",
       "      <th>422</th>\n",
       "      <td>휘경2동</td>\n",
       "      <td>2017-01-01</td>\n",
       "      <td>-0.198812</td>\n",
       "      <td>0.617473</td>\n",
       "      <td>2.636014</td>\n",
       "      <td>-0.380618</td>\n",
       "      <td>0.269563</td>\n",
       "      <td>-0.991828</td>\n",
       "      <td>0.192307</td>\n",
       "      <td>0.750091</td>\n",
       "      <td>...</td>\n",
       "      <td>-0.194521</td>\n",
       "      <td>0.533942</td>\n",
       "      <td>0.319364</td>\n",
       "      <td>0.139239</td>\n",
       "      <td>0.148130</td>\n",
       "      <td>0.393189</td>\n",
       "      <td>1.117845</td>\n",
       "      <td>0.114787</td>\n",
       "      <td>-0.543678</td>\n",
       "      <td>0.152803</td>\n",
       "    </tr>\n",
       "    <tr>\n",
       "      <th>423</th>\n",
       "      <td>흑석동</td>\n",
       "      <td>2017-01-01</td>\n",
       "      <td>-0.303074</td>\n",
       "      <td>0.497785</td>\n",
       "      <td>2.707822</td>\n",
       "      <td>-0.438735</td>\n",
       "      <td>0.392246</td>\n",
       "      <td>-0.899192</td>\n",
       "      <td>-0.090556</td>\n",
       "      <td>0.628116</td>\n",
       "      <td>...</td>\n",
       "      <td>-0.143145</td>\n",
       "      <td>0.723836</td>\n",
       "      <td>0.395937</td>\n",
       "      <td>0.200954</td>\n",
       "      <td>0.176886</td>\n",
       "      <td>0.624864</td>\n",
       "      <td>0.881049</td>\n",
       "      <td>0.100656</td>\n",
       "      <td>-0.761193</td>\n",
       "      <td>0.054611</td>\n",
       "    </tr>\n",
       "  </tbody>\n",
       "</table>\n",
       "<p>424 rows × 3074 columns</p>\n",
       "</div>"
      ],
      "text/plain": [
       "    ADM_NM Reporting Month  LLM Embeddings_0  LLM Embeddings_1  \\\n",
       "0     가락1동      2017-01-01          0.182189          0.797635   \n",
       "1     가락2동      2017-01-01          0.012297          0.788067   \n",
       "2     가락본동      2017-01-01         -0.188756          0.613868   \n",
       "3     가리봉동      2017-01-01         -0.019578          0.852448   \n",
       "4      가산동      2017-01-01         -0.112694          0.606479   \n",
       "..     ...             ...               ...               ...   \n",
       "419    효창동      2017-01-01         -0.209827          0.555203   \n",
       "420    후암동      2017-01-01         -0.162344          0.632814   \n",
       "421   휘경1동      2017-01-01         -0.347272          0.624385   \n",
       "422   휘경2동      2017-01-01         -0.198812          0.617473   \n",
       "423    흑석동      2017-01-01         -0.303074          0.497785   \n",
       "\n",
       "     LLM Embeddings_2  LLM Embeddings_3  LLM Embeddings_4  LLM Embeddings_5  \\\n",
       "0            2.783483         -0.701678          0.322488         -0.958251   \n",
       "1            2.737332         -0.818893          0.190079         -1.046540   \n",
       "2            2.676397         -0.363336          0.272512         -1.133036   \n",
       "3            2.604572         -0.697828          0.285646         -0.979806   \n",
       "4            2.593920         -0.665623          0.441548         -1.082860   \n",
       "..                ...               ...               ...               ...   \n",
       "419          2.690814         -0.383771          0.146396         -1.003996   \n",
       "420          2.539969         -0.355085          0.503987         -0.800747   \n",
       "421          2.570642         -0.407633          0.262688         -1.072827   \n",
       "422          2.636014         -0.380618          0.269563         -0.991828   \n",
       "423          2.707822         -0.438735          0.392246         -0.899192   \n",
       "\n",
       "     LLM Embeddings_6  LLM Embeddings_7  ...  LLM Embeddings_3062  \\\n",
       "0           -0.049312          0.477725  ...            -0.097656   \n",
       "1           -0.118247          0.573178  ...            -0.084388   \n",
       "2            0.080491          0.709784  ...            -0.180724   \n",
       "3            0.017082          0.709763  ...            -0.226313   \n",
       "4           -0.001558          0.557418  ...            -0.176513   \n",
       "..                ...               ...  ...                  ...   \n",
       "419         -0.103601          0.638757  ...            -0.072862   \n",
       "420         -0.469939          0.773364  ...            -0.388491   \n",
       "421          0.171972          0.756842  ...            -0.226987   \n",
       "422          0.192307          0.750091  ...            -0.194521   \n",
       "423         -0.090556          0.628116  ...            -0.143145   \n",
       "\n",
       "     LLM Embeddings_3063  LLM Embeddings_3064  LLM Embeddings_3065  \\\n",
       "0               0.215152             0.293026            -0.321801   \n",
       "1               0.256985             0.328190            -0.304241   \n",
       "2               0.597994             0.214895            -0.032563   \n",
       "3               0.189473             0.370528            -0.330595   \n",
       "4               0.336681             0.450447            -0.124183   \n",
       "..                   ...                  ...                  ...   \n",
       "419             0.744518             0.174405            -0.045266   \n",
       "420             0.642842             0.226201            -0.048449   \n",
       "421             0.545958             0.381583            -0.023453   \n",
       "422             0.533942             0.319364             0.139239   \n",
       "423             0.723836             0.395937             0.200954   \n",
       "\n",
       "     LLM Embeddings_3066  LLM Embeddings_3067  LLM Embeddings_3068  \\\n",
       "0               0.168507             0.383450             1.076234   \n",
       "1               0.251695             0.308751             0.974102   \n",
       "2               0.046565             0.770207             0.793798   \n",
       "3               0.197076             0.346764             0.979650   \n",
       "4               0.145434             0.386809             1.054443   \n",
       "..                   ...                  ...                  ...   \n",
       "419             0.099417             0.663327             0.911730   \n",
       "420             0.059380             0.547762             0.668395   \n",
       "421             0.094286             0.634946             0.807298   \n",
       "422             0.148130             0.393189             1.117845   \n",
       "423             0.176886             0.624864             0.881049   \n",
       "\n",
       "     LLM Embeddings_3069  LLM Embeddings_3070  LLM Embeddings_3071  \n",
       "0              -0.122758            -0.496166             0.353151  \n",
       "1              -0.033396            -0.474156             0.405358  \n",
       "2               0.051106            -0.697922             0.204088  \n",
       "3               0.030385            -0.429923             0.396902  \n",
       "4               0.105295            -0.655455             0.193765  \n",
       "..                   ...                  ...                  ...  \n",
       "419            -0.033662            -0.775468             0.109442  \n",
       "420             0.119956            -0.755786             0.512600  \n",
       "421            -0.003554            -0.688187             0.353662  \n",
       "422             0.114787            -0.543678             0.152803  \n",
       "423             0.100656            -0.761193             0.054611  \n",
       "\n",
       "[424 rows x 3074 columns]"
      ]
     },
     "metadata": {},
     "output_type": "display_data"
    }
   ],
   "source": [
    "group = llm_df.groupby(['Reporting Month'])\n",
    "for key, df in group:\n",
    "    print(str(key[0]).replace('-',''))\n",
    "    display(df)\n",
    "    break"
   ]
  },
  {
   "cell_type": "code",
   "execution_count": 20,
   "metadata": {},
   "outputs": [
    {
     "data": {
      "text/plain": [
       "tensor([[27984, 27984, 27984,  ..., 28405, 28405, 28406],\n",
       "        [27988, 27990, 27997,  ..., 28406, 28407, 28407]])"
      ]
     },
     "execution_count": 20,
     "metadata": {},
     "output_type": "execute_result"
    }
   ],
   "source": [
    "# airbnb 그래프 구조 불러오기\n",
    "basic_path = '../../Dataset/AirBnB_Graph/llama3_no_listing_raw/'\n",
    "start_year = 2017\n",
    "start_month = 1\n",
    "end_year = 2022\n",
    "end_month = 7\n",
    "\n",
    "# 경로들 확인\n",
    "path_list = [\n",
    "    basic_path+f\"{year}{month:02d}01.gpickle\"\n",
    "    for year in range(start_year, end_year + 1)\n",
    "    for month in range(1, 13)\n",
    "    if not (year == end_year and month > end_month)\n",
    "]\n",
    "\n",
    "edge_index, edge_weight = get_graph(path_list[0], llm_df, 'ADM_NM')\n",
    "edge_index"
   ]
  },
  {
   "cell_type": "code",
   "execution_count": null,
   "metadata": {},
   "outputs": [],
   "source": []
  }
 ],
 "metadata": {
  "kernelspec": {
   "display_name": "HJ",
   "language": "python",
   "name": "python3"
  },
  "language_info": {
   "codemirror_mode": {
    "name": "ipython",
    "version": 3
   },
   "file_extension": ".py",
   "mimetype": "text/x-python",
   "name": "python",
   "nbconvert_exporter": "python",
   "pygments_lexer": "ipython3",
   "version": "3.10.14"
  }
 },
 "nbformat": 4,
 "nbformat_minor": 2
}
