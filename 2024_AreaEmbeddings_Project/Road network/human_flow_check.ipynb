{
 "cells": [
  {
   "cell_type": "code",
   "execution_count": 4,
   "metadata": {},
   "outputs": [],
   "source": [
    "import networkx as nx\n",
    "import matplotlib.pyplot as plt\n",
    "import numpy as np\n",
    "import pandas as pd\n",
    "import os\n",
    "import networkx as nx\n",
    "import pickle\n",
    "from networkx.algorithms import isomorphism"
   ]
  },
  {
   "cell_type": "code",
   "execution_count": 7,
   "metadata": {},
   "outputs": [],
   "source": [
    "basic_path = '../Dataset/Human_flow_Graph/'\n",
    "\n",
    "start_year = 2017\n",
    "start_month = 1\n",
    "end_year = 2022\n",
    "end_month = 7\n",
    "\n",
    "# 경로들 확인\n",
    "path_list = [\n",
    "    basic_path+f\"{year}{month:02d}.gpickle\"\n",
    "    for year in range(start_year, end_year + 1)\n",
    "    for month in range(1, 13)\n",
    "    if not (year == end_year and month > end_month)\n",
    "]\n",
    "\n",
    "#path_list"
   ]
  },
  {
   "cell_type": "code",
   "execution_count": null,
   "metadata": {},
   "outputs": [
    {
     "name": "stdout",
     "output_type": "stream",
     "text": [
      "Graphs are isomorphic.\n",
      "Graphs are not isomorphic.\n",
      "Graphs are isomorphic.\n",
      "Graphs are isomorphic.\n",
      "Graphs are isomorphic.\n",
      "Graphs are isomorphic.\n",
      "Graphs are isomorphic.\n",
      "Graphs are isomorphic.\n",
      "Graphs are not isomorphic.\n",
      "Graphs are not isomorphic.\n",
      "Graphs are isomorphic.\n",
      "Graphs are isomorphic.\n",
      "Graphs are not isomorphic.\n",
      "Graphs are not isomorphic.\n",
      "Graphs are isomorphic.\n",
      "Graphs are not isomorphic.\n",
      "Graphs are not isomorphic.\n",
      "Graphs are isomorphic.\n",
      "Graphs are not isomorphic.\n",
      "Graphs are isomorphic.\n",
      "Graphs are isomorphic.\n",
      "Graphs are isomorphic.\n",
      "Graphs are not isomorphic.\n",
      "Graphs are not isomorphic.\n",
      "Graphs are isomorphic.\n",
      "Graphs are isomorphic.\n",
      "Graphs are not isomorphic.\n",
      "Graphs are isomorphic.\n",
      "Graphs are isomorphic.\n",
      "Graphs are isomorphic.\n",
      "Graphs are isomorphic.\n",
      "Graphs are isomorphic.\n",
      "Graphs are isomorphic.\n",
      "Graphs are isomorphic.\n",
      "Graphs are isomorphic.\n",
      "Graphs are not isomorphic.\n",
      "Graphs are isomorphic.\n",
      "Graphs are isomorphic.\n",
      "Graphs are isomorphic.\n",
      "Graphs are isomorphic.\n",
      "Graphs are isomorphic.\n",
      "Graphs are isomorphic.\n",
      "Graphs are isomorphic.\n",
      "Graphs are isomorphic.\n",
      "Graphs are isomorphic.\n",
      "Graphs are not isomorphic.\n",
      "Graphs are isomorphic.\n",
      "Graphs are not isomorphic.\n",
      "Graphs are isomorphic.\n",
      "Graphs are isomorphic.\n",
      "Graphs are isomorphic.\n",
      "Graphs are isomorphic.\n",
      "Graphs are isomorphic.\n",
      "Graphs are isomorphic.\n",
      "Graphs are isomorphic.\n",
      "Graphs are isomorphic.\n",
      "Graphs are isomorphic.\n",
      "Graphs are isomorphic.\n",
      "Graphs are isomorphic.\n",
      "Graphs are isomorphic.\n",
      "Graphs are isomorphic.\n",
      "Graphs are isomorphic.\n",
      "Graphs are isomorphic.\n",
      "Graphs are isomorphic.\n",
      "Graphs are isomorphic.\n",
      "Graphs are isomorphic.\n"
     ]
    }
   ],
   "source": [
    "for i in range(len(path_list)-1):\n",
    "    with open(path_list[i], 'rb') as f:\n",
    "        G1 = pickle.load(f)\n",
    "    with open(path_list[i+1], 'rb') as f:\n",
    "        G2 = pickle.load(f)\n",
    "    matcher = isomorphism.GraphMatcher(G1, G2)\n",
    "    \n",
    "    if matcher.is_isomorphic():\n",
    "        print(\"Graphs are isomorphic.\")\n",
    "        #print(\"Node mapping:\", matcher.mapping)\n",
    "    else:\n",
    "        print(\"Graphs are not isomorphic.\")"
   ]
  },
  {
   "cell_type": "code",
   "execution_count": null,
   "metadata": {},
   "outputs": [],
   "source": []
  }
 ],
 "metadata": {
  "kernelspec": {
   "display_name": "HJ",
   "language": "python",
   "name": "python3"
  },
  "language_info": {
   "codemirror_mode": {
    "name": "ipython",
    "version": 3
   },
   "file_extension": ".py",
   "mimetype": "text/x-python",
   "name": "python",
   "nbconvert_exporter": "python",
   "pygments_lexer": "ipython3",
   "version": "3.10.14"
  }
 },
 "nbformat": 4,
 "nbformat_minor": 2
}
