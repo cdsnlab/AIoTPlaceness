{
 "cells": [
  {
   "cell_type": "code",
   "execution_count": 1,
   "metadata": {},
   "outputs": [],
   "source": [
    "import pandas as pd \n",
    "import numpy as np \n",
    "import seaborn as sns\n",
    "import matplotlib.pyplot as plt"
   ]
  },
  {
   "cell_type": "code",
   "execution_count": 10,
   "metadata": {},
   "outputs": [
    {
     "data": {
      "text/html": [
       "<div>\n",
       "<style scoped>\n",
       "    .dataframe tbody tr th:only-of-type {\n",
       "        vertical-align: middle;\n",
       "    }\n",
       "\n",
       "    .dataframe tbody tr th {\n",
       "        vertical-align: top;\n",
       "    }\n",
       "\n",
       "    .dataframe thead th {\n",
       "        text-align: right;\n",
       "    }\n",
       "</style>\n",
       "<table border=\"1\" class=\"dataframe\">\n",
       "  <thead>\n",
       "    <tr style=\"text-align: right;\">\n",
       "      <th></th>\n",
       "      <th>Reporting Month</th>\n",
       "      <th>ADM_NM</th>\n",
       "      <th>총생활인구수</th>\n",
       "      <th>남자0세부터9세생활인구수</th>\n",
       "      <th>남자10세부터14세생활인구수</th>\n",
       "      <th>남자15세부터19세생활인구수</th>\n",
       "      <th>남자20세부터24세생활인구수</th>\n",
       "      <th>남자25세부터29세생활인구수</th>\n",
       "      <th>남자30세부터34세생활인구수</th>\n",
       "      <th>남자35세부터39세생활인구수</th>\n",
       "      <th>...</th>\n",
       "      <th>여자70세이상생활인구수</th>\n",
       "      <th>총생활인구수_LONG_FOREIGNER</th>\n",
       "      <th>중국인체류인구수_LONG_FOREIGNER</th>\n",
       "      <th>중국외외국인체류인구수_LONG_FOREIGNER</th>\n",
       "      <th>총생활인구수_TEMP_FOREIGNER</th>\n",
       "      <th>중국인체류인구수_TEMP_FOREIGNER</th>\n",
       "      <th>중국외외국인체류인구수_TEMP_FOREIGNER</th>\n",
       "      <th>Occupancy Rate</th>\n",
       "      <th>Revenue (USD)</th>\n",
       "      <th>Number of Reservations</th>\n",
       "    </tr>\n",
       "  </thead>\n",
       "  <tbody>\n",
       "  </tbody>\n",
       "</table>\n",
       "<p>0 rows × 40 columns</p>\n",
       "</div>"
      ],
      "text/plain": [
       "Empty DataFrame\n",
       "Columns: [Reporting Month, ADM_NM, 총생활인구수, 남자0세부터9세생활인구수, 남자10세부터14세생활인구수, 남자15세부터19세생활인구수, 남자20세부터24세생활인구수, 남자25세부터29세생활인구수, 남자30세부터34세생활인구수, 남자35세부터39세생활인구수, 남자40세부터44세생활인구수, 남자45세부터49세생활인구수, 남자50세부터54세생활인구수, 남자55세부터59세생활인구수, 남자60세부터64세생활인구수, 남자65세부터69세생활인구수, 남자70세이상생활인구수, 여자0세부터9세생활인구수, 여자10세부터14세생활인구수, 여자15세부터19세생활인구수, 여자20세부터24세생활인구수, 여자25세부터29세생활인구수, 여자30세부터34세생활인구수, 여자35세부터39세생활인구수, 여자40세부터44세생활인구수, 여자45세부터49세생활인구수, 여자50세부터54세생활인구수, 여자55세부터59세생활인구수, 여자60세부터64세생활인구수, 여자65세부터69세생활인구수, 여자70세이상생활인구수, 총생활인구수_LONG_FOREIGNER, 중국인체류인구수_LONG_FOREIGNER, 중국외외국인체류인구수_LONG_FOREIGNER, 총생활인구수_TEMP_FOREIGNER, 중국인체류인구수_TEMP_FOREIGNER, 중국외외국인체류인구수_TEMP_FOREIGNER, Occupancy Rate, Revenue (USD), Number of Reservations]\n",
       "Index: []\n",
       "\n",
       "[0 rows x 40 columns]"
      ]
     },
     "execution_count": 10,
     "metadata": {},
     "output_type": "execute_result"
    }
   ],
   "source": [
    "road_path = '../../Dataset/Raw_Embeddings/Road_Embeddings.csv'\n",
    "hf_path = '../../Dataset/Raw_Embeddings/HumanFlow_Embeddings_kor.csv'\n",
    "#air_path = '../../'\n",
    "\n",
    "# 데이터 불러오기\n",
    "road = pd.read_csv(road_path)\n",
    "hf = pd.read_csv(hf_path)\n",
    "label = pd.read_csv('../../Dataset/AirBnB_LLM_New/gemma2_no_listing_raw_fill_na_ver_labels.csv')\n",
    "\n",
    "# 이름 변경\n",
    "hf.rename(columns={'기준일ID':'Reporting Month', '행정동코드':'ADM_NM'}, inplace=True)\n",
    "hf['Reporting Month'] = hf['Reporting Month'].astype(str)\n",
    "\n",
    "merged_df = pd.merge(hf, label, how='inner', on=['Reporting Month', 'ADM_NM'])\n",
    "merged_df\n"
   ]
  }
 ],
 "metadata": {
  "kernelspec": {
   "display_name": "HJ",
   "language": "python",
   "name": "python3"
  },
  "language_info": {
   "codemirror_mode": {
    "name": "ipython",
    "version": 3
   },
   "file_extension": ".py",
   "mimetype": "text/x-python",
   "name": "python",
   "nbconvert_exporter": "python",
   "pygments_lexer": "ipython3",
   "version": "3.10.14"
  }
 },
 "nbformat": 4,
 "nbformat_minor": 2
}
