{
 "cells": [
  {
   "cell_type": "code",
   "execution_count": 2,
   "metadata": {},
   "outputs": [],
   "source": [
    "import pandas as pd"
   ]
  },
  {
   "cell_type": "code",
   "execution_count": 3,
   "metadata": {},
   "outputs": [
    {
     "data": {
      "text/html": [
       "<div>\n",
       "<style scoped>\n",
       "    .dataframe tbody tr th:only-of-type {\n",
       "        vertical-align: middle;\n",
       "    }\n",
       "\n",
       "    .dataframe tbody tr th {\n",
       "        vertical-align: top;\n",
       "    }\n",
       "\n",
       "    .dataframe thead th {\n",
       "        text-align: right;\n",
       "    }\n",
       "</style>\n",
       "<table border=\"1\" class=\"dataframe\">\n",
       "  <thead>\n",
       "    <tr style=\"text-align: right;\">\n",
       "      <th></th>\n",
       "      <th>ADM_NM</th>\n",
       "      <th>Reporting Month</th>\n",
       "      <th>Property ID</th>\n",
       "      <th>Occupancy Rate</th>\n",
       "      <th>Revenue (USD)</th>\n",
       "      <th>Number of Reservations</th>\n",
       "      <th>LLM Embeddings</th>\n",
       "    </tr>\n",
       "  </thead>\n",
       "  <tbody>\n",
       "    <tr>\n",
       "      <th>0</th>\n",
       "      <td>가락1동</td>\n",
       "      <td>2017-01-01</td>\n",
       "      <td>['ab-8296118', 'ab-13633415', 'ab-14432019', '...</td>\n",
       "      <td>0.000000</td>\n",
       "      <td>0.00</td>\n",
       "      <td>0.0</td>\n",
       "      <td>['0.15136719', '-0.13867188', '-1.2421875', '-...</td>\n",
       "    </tr>\n",
       "    <tr>\n",
       "      <th>1</th>\n",
       "      <td>가락2동</td>\n",
       "      <td>2017-01-01</td>\n",
       "      <td>['ab-6240301', 'ab-14455385', 'ab-2039222']</td>\n",
       "      <td>0.000000</td>\n",
       "      <td>0.00</td>\n",
       "      <td>0.0</td>\n",
       "      <td>['0.20410156', '-0.1953125', '-1.234375', '-0....</td>\n",
       "    </tr>\n",
       "    <tr>\n",
       "      <th>2</th>\n",
       "      <td>가락본동</td>\n",
       "      <td>2017-01-01</td>\n",
       "      <td>['ab-7607282', 'ab-7792221', 'ab-7792395', 'ab...</td>\n",
       "      <td>0.249571</td>\n",
       "      <td>4319.67</td>\n",
       "      <td>30.0</td>\n",
       "      <td>['0.24902344', '-0.17675781', '-1.2421875', '-...</td>\n",
       "    </tr>\n",
       "    <tr>\n",
       "      <th>3</th>\n",
       "      <td>가리봉동</td>\n",
       "      <td>2017-01-01</td>\n",
       "      <td>['ab-7538039', 'ab-11981624', 'ab-11987983', '...</td>\n",
       "      <td>0.200000</td>\n",
       "      <td>515.00</td>\n",
       "      <td>5.0</td>\n",
       "      <td>['0.36914062', '-0.20996094', '-1.203125', '-0...</td>\n",
       "    </tr>\n",
       "    <tr>\n",
       "      <th>4</th>\n",
       "      <td>가산동</td>\n",
       "      <td>2017-01-01</td>\n",
       "      <td>['ab-9098630', 'ab-10234965', 'ab-11777964', '...</td>\n",
       "      <td>0.000000</td>\n",
       "      <td>0.00</td>\n",
       "      <td>0.0</td>\n",
       "      <td>['0.31445312', '-0.24121094', '-1.0546875', '-...</td>\n",
       "    </tr>\n",
       "  </tbody>\n",
       "</table>\n",
       "</div>"
      ],
      "text/plain": [
       "  ADM_NM Reporting Month                                        Property ID  \\\n",
       "0   가락1동      2017-01-01  ['ab-8296118', 'ab-13633415', 'ab-14432019', '...   \n",
       "1   가락2동      2017-01-01        ['ab-6240301', 'ab-14455385', 'ab-2039222']   \n",
       "2   가락본동      2017-01-01  ['ab-7607282', 'ab-7792221', 'ab-7792395', 'ab...   \n",
       "3   가리봉동      2017-01-01  ['ab-7538039', 'ab-11981624', 'ab-11987983', '...   \n",
       "4    가산동      2017-01-01  ['ab-9098630', 'ab-10234965', 'ab-11777964', '...   \n",
       "\n",
       "   Occupancy Rate  Revenue (USD)  Number of Reservations  \\\n",
       "0        0.000000           0.00                     0.0   \n",
       "1        0.000000           0.00                     0.0   \n",
       "2        0.249571        4319.67                    30.0   \n",
       "3        0.200000         515.00                     5.0   \n",
       "4        0.000000           0.00                     0.0   \n",
       "\n",
       "                                      LLM Embeddings  \n",
       "0  ['0.15136719', '-0.13867188', '-1.2421875', '-...  \n",
       "1  ['0.20410156', '-0.1953125', '-1.234375', '-0....  \n",
       "2  ['0.24902344', '-0.17675781', '-1.2421875', '-...  \n",
       "3  ['0.36914062', '-0.20996094', '-1.203125', '-0...  \n",
       "4  ['0.31445312', '-0.24121094', '-1.0546875', '-...  "
      ]
     },
     "execution_count": 3,
     "metadata": {},
     "output_type": "execute_result"
    }
   ],
   "source": [
    "# Specify the file path\n",
    "file_path = '../Dataset/AirBnB_LLM/gemma2_no_listing_raw_fill_na_ver.csv'\n",
    "\n",
    "# Load a small sample to get a quick overview\n",
    "df = pd.read_csv(file_path,low_memory=False)\n",
    "df.head()\n"
   ]
  },
  {
   "cell_type": "code",
   "execution_count": 37,
   "metadata": {},
   "outputs": [
    {
     "name": "stdout",
     "output_type": "stream",
     "text": [
      "Number of rows (groups): 36956\n",
      "Number of columns: 7\n",
      "Names of the columns: ['ADM_NM', 'Reporting Month', 'Property ID', 'Occupancy Rate', 'Revenue (USD)', 'Number of Reservations', 'LLM Embeddings']\n"
     ]
    }
   ],
   "source": [
    "num_rows = len(df)\n",
    "print(f\"Number of rows (groups): {num_rows}\")\n",
    "\n",
    "# # Number of columns (original columns in the DataFrame minus grouping columns)\n",
    "# num_columns = len(df.obj.columns)\n",
    "# print(f\"Number of columns: {num_columns}\")\n",
    "\n",
    "# 1. Number of columns\n",
    "num_columns = len(df.columns)\n",
    "print(\"Number of columns:\", num_columns)\n",
    "\n",
    "# 2. Names of the columns\n",
    "column_names = df.columns.tolist()\n",
    "print(\"Names of the columns:\", column_names)"
   ]
  },
  {
   "cell_type": "code",
   "execution_count": 36,
   "metadata": {},
   "outputs": [
    {
     "name": "stdout",
     "output_type": "stream",
     "text": [
      "Number of rows (groups): 27849\n",
      "Number of columns: 7\n",
      "Names of the columns: ['ADM_NM', 'Reporting Month', 'Property ID', 'Occupancy Rate', 'Revenue (USD)', 'Number of Reservations', 'LLM Embeddings']\n"
     ]
    }
   ],
   "source": [
    "num_rows = len(df2)\n",
    "print(f\"Number of rows (groups): {num_rows}\")\n",
    "\n",
    "# # Number of columns (original columns in the DataFrame minus grouping columns)\n",
    "# num_columns = len(df.obj.columns)\n",
    "# print(f\"Number of columns: {num_columns}\")\n",
    "\n",
    "# 1. Number of columns\n",
    "num_columns = len(df2.columns)\n",
    "print(\"Number of columns:\", num_columns)\n",
    "\n",
    "# 2. Names of the columns\n",
    "column_names = df2.columns.tolist()\n",
    "print(\"Names of the columns:\", column_names)"
   ]
  },
  {
   "cell_type": "code",
   "execution_count": 3,
   "metadata": {},
   "outputs": [
    {
     "data": {
      "text/plain": [
       "((28408, 37), (27869, 7))"
      ]
     },
     "execution_count": 3,
     "metadata": {},
     "output_type": "execute_result"
    }
   ],
   "source": [
    "df1 = pd.read_csv('../Dataset/Raw_Embeddings/HumanFlow_Embeddings_kor.csv')\n",
    "df2 = pd.read_csv('../Dataset/AirBnB_LLM/gemma2_no_listing_raw.csv')\n",
    "\n",
    "df2['Reporting Month'] = pd.to_datetime(df2['Reporting Month'])\n",
    "\n",
    "# Filter the dataframe\n",
    "df2 = df2[df2['Reporting Month'] >= '2017-01-01']\n",
    "\n",
    "\n",
    "df1.shape, df2.shape"
   ]
  },
  {
   "cell_type": "code",
   "execution_count": 45,
   "metadata": {},
   "outputs": [
    {
     "data": {
      "text/plain": [
       "(37096, 6)"
      ]
     },
     "execution_count": 45,
     "metadata": {},
     "output_type": "execute_result"
    }
   ],
   "source": [
    "agg_dict = {\n",
    "        'Property ID': list,\n",
    "        'Occupancy Rate': 'mean',\n",
    "        'Revenue (USD)': 'sum',\n",
    "        'Number of Reservations': 'sum'\n",
    "    }\n",
    "\n",
    "df3 = pd.read_csv('../Dataset/preprocess_AirBnB.csv', low_memory=False)\n",
    "\n",
    "df3 = df3.groupby(['ADM_NM', 'Reporting Month']).agg(agg_dict).reset_index() \n",
    "\n",
    "\n",
    "df3.shape"
   ]
  },
  {
   "cell_type": "code",
   "execution_count": 47,
   "metadata": {},
   "outputs": [
    {
     "data": {
      "text/plain": [
       "(27869, 6)"
      ]
     },
     "execution_count": 47,
     "metadata": {},
     "output_type": "execute_result"
    }
   ],
   "source": [
    "filtered_df3 = df3\n",
    "filtered_df3['Reporting Month'] = pd.to_datetime(df3['Reporting Month'])\n",
    "\n",
    "# # Filter the dataframe\n",
    "filtered_df3 = filtered_df3[filtered_df3['Reporting Month'] >= '2017-01-01']\n",
    "\n",
    "filtered_df3.shape"
   ]
  },
  {
   "cell_type": "code",
   "execution_count": 15,
   "metadata": {},
   "outputs": [
    {
     "name": "stdout",
     "output_type": "stream",
     "text": [
      "Total number of elements in 'properties': 2038090\n"
     ]
    }
   ],
   "source": [
    "import ast\n",
    "\n",
    "# Load the dataset\n",
    "# Replace 'your_dataset.csv' with the path to your dataset\n",
    "df = pd.read_csv('dong_monthly_aggregated.csv')\n",
    "\n",
    "# Function to parse the 'properties' column and count elements\n",
    "def count_properties(properties):\n",
    "    # Convert the string representation of the list to an actual list\n",
    "    properties_list = ast.literal_eval(properties)\n",
    "    return len(properties_list)\n",
    "\n",
    "# Apply the function to the 'properties' column and sum the counts\n",
    "total_elements = df['properties'].apply(count_properties).sum()\n",
    "\n",
    "print(f\"Total number of elements in 'properties': {total_elements}\")\n"
   ]
  },
  {
   "cell_type": "code",
   "execution_count": 2,
   "metadata": {},
   "outputs": [
    {
     "name": "stdout",
     "output_type": "stream",
     "text": [
      "Number of columns: 105\n",
      "Names of the columns: [0, 1, 2, 3, 4, 5, 6, 7, 8, 9, 10, 11, 12, 13, 14, 15, 16, 17, 18, 19, 20, 21, 22, 23, 24, 25, 26, 27, 28, 29, 30, 31, 32, 33, 34, 35, 36, 37, 38, 39, 40, 41, 42, 43, 44, 45, 46, 47, 48, 49, 50, 51, 52, 53, 54, 55, 56, 57, 58, 59, 60, 61, 62, 63, 64, 65, 66, 67, 68, 69, 70, 71, 72, 73, 74, 75, 76, 77, 78, 79, 80, 81, 82, 83, 84, 85, 86, 87, 88, 89, 90, 91, 92, 93, 94, 95, 96, 97, 98, 99, 100, 101, 102, 103, 104]\n",
      "Columns with vector dimensions greater than 1:\n",
      "Number of rows: 28408\n"
     ]
    }
   ],
   "source": [
    "import pandas as pd\n",
    "import ast\n",
    "\n",
    "# Replace 'your_data.csv' with the path to your CSV file\n",
    "df = pd.read_csv('time_series_prediction/gnn_embeddings/gat_gemma_nolist_raw_ver.csv',header=None)\n",
    "\n",
    "# 1. Number of columns\n",
    "num_columns = len(df.columns)\n",
    "print(\"Number of columns:\", num_columns)\n",
    "\n",
    "# 2. Names of the columns\n",
    "column_names = df.columns.tolist()\n",
    "print(\"Names of the columns:\", column_names)\n",
    "\n",
    "# 3. Number of vector dimensions in columns with dimension > 1\n",
    "vector_dimensions = {}\n",
    "for col in df.columns:\n",
    "    dimensions = set()\n",
    "    has_vectors = False\n",
    "    for value in df[col].dropna():\n",
    "        try:\n",
    "            # Safely evaluate if the value is a list\n",
    "            parsed_value = ast.literal_eval(value)\n",
    "            if isinstance(parsed_value, list):\n",
    "                dim = len(parsed_value)\n",
    "                if dim > 1:\n",
    "                    has_vectors = True\n",
    "                    dimensions.add(dim)\n",
    "        except (ValueError, SyntaxError):\n",
    "            continue  # Not a list or cannot parse\n",
    "    if has_vectors:\n",
    "        vector_dimensions[col] = dimensions\n",
    "\n",
    "print(\"Columns with vector dimensions greater than 1:\")\n",
    "for col, dims in vector_dimensions.items():\n",
    "    if len(dims) == 1:\n",
    "        dim = dims.pop()\n",
    "        print(f\"Column '{col}' has vectors of consistent dimension {dim}\")\n",
    "    else:\n",
    "        min_dim = min(dims)\n",
    "        max_dim = max(dims)\n",
    "        print(f\"Column '{col}' has varying vector dimensions ranging from {min_dim} to {max_dim}\")\n",
    "\n",
    "# 4. Number of rows\n",
    "num_rows = len(df)\n",
    "print(\"Number of rows:\", num_rows)\n"
   ]
  },
  {
   "cell_type": "code",
   "execution_count": 1,
   "metadata": {},
   "outputs": [
    {
     "name": "stdout",
     "output_type": "stream",
     "text": [
      "Number of columns: 7\n",
      "Names of the columns: ['ADM_NM', 'Reporting Month', 'Property ID', 'Occupancy Rate', 'Revenue (USD)', 'Number of Reservations', 'LLM Embeddings']\n",
      "Columns with vector dimensions greater than 1:\n",
      "Column 'Property ID' has varying vector dimensions ranging from 2 to 4271\n",
      "Column 'LLM Embeddings' has vectors of consistent dimension 2304\n",
      "Number of rows: 28408\n"
     ]
    }
   ],
   "source": [
    "import pandas as pd\n",
    "import ast\n",
    "\n",
    "# Replace 'your_data.csv' with the path to your CSV file\n",
    "# df = pd.read_csv('../Dataset/Raw_Embeddings/HumanFlow_Embeddings_kor.csv')\n",
    "# df = pd.read_csv('../Dataset/Raw_Embeddings/Road_Embeddings.csv')\n",
    "df = pd.read_csv('../Dataset/AirBnB_LLM/gemma2_no_listing_raw_fill_na_ver.csv')\n",
    "\n",
    "# 1. Number of columns\n",
    "num_columns = len(df.columns)\n",
    "print(\"Number of columns:\", num_columns)\n",
    "\n",
    "# 2. Names of the columns\n",
    "column_names = df.columns.tolist()\n",
    "print(\"Names of the columns:\", column_names)\n",
    "\n",
    "# 3. Number of vector dimensions in columns with dimension > 1\n",
    "vector_dimensions = {}\n",
    "for col in df.columns:\n",
    "    dimensions = set()\n",
    "    has_vectors = False\n",
    "    for value in df[col].dropna():\n",
    "        try:\n",
    "            # Safely evaluate if the value is a list\n",
    "            parsed_value = ast.literal_eval(value)\n",
    "            if isinstance(parsed_value, list):\n",
    "                dim = len(parsed_value)\n",
    "                if dim > 1:\n",
    "                    has_vectors = True\n",
    "                    dimensions.add(dim)\n",
    "        except (ValueError, SyntaxError):\n",
    "            continue  # Not a list or cannot parse\n",
    "    if has_vectors:\n",
    "        vector_dimensions[col] = dimensions\n",
    "\n",
    "print(\"Columns with vector dimensions greater than 1:\")\n",
    "for col, dims in vector_dimensions.items():\n",
    "    if len(dims) == 1:\n",
    "        dim = dims.pop()\n",
    "        print(f\"Column '{col}' has vectors of consistent dimension {dim}\")\n",
    "    else:\n",
    "        min_dim = min(dims)\n",
    "        max_dim = max(dims)\n",
    "        print(f\"Column '{col}' has varying vector dimensions ranging from {min_dim} to {max_dim}\")\n",
    "\n",
    "# 4. Number of rows\n",
    "num_rows = len(df)\n",
    "print(\"Number of rows:\", num_rows)\n"
   ]
  },
  {
   "cell_type": "code",
   "execution_count": null,
   "metadata": {},
   "outputs": [],
   "source": []
  }
 ],
 "metadata": {
  "kernelspec": {
   "display_name": "Python (cs612)",
   "language": "python",
   "name": "cs612"
  },
  "language_info": {
   "codemirror_mode": {
    "name": "ipython",
    "version": 3
   },
   "file_extension": ".py",
   "mimetype": "text/x-python",
   "name": "python",
   "nbconvert_exporter": "python",
   "pygments_lexer": "ipython3",
   "version": "3.9.20"
  }
 },
 "nbformat": 4,
 "nbformat_minor": 4
}
